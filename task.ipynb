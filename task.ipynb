{
 "cells": [
  {
   "cell_type": "markdown",
   "metadata": {},
   "source": [
    "# Вебинар 5. Ранжирование и Гибридные рекоммендательные системы"
   ]
  },
  {
   "cell_type": "code",
   "execution_count": 1,
   "metadata": {},
   "outputs": [
    {
     "output_type": "stream",
     "name": "stderr",
     "text": [
      "C:\\Users\\konst\\AppData\\Local\\Programs\\Python\\Python37\\lib\\site-packages\\lightfm\\_lightfm_fast.py:10: UserWarning: LightFM was compiled without OpenMP support. Only a single thread will be used.\n  \"LightFM was compiled without OpenMP support. \"\n"
     ]
    }
   ],
   "source": [
    "import pandas as pd\n",
    "import numpy as np\n",
    "import matplotlib.pyplot as plt\n",
    "%matplotlib inline\n",
    "\n",
    "# Для работы с матрицами\n",
    "from scipy.sparse import csr_matrix, coo_matrix\n",
    "\n",
    "# Матричная факторизация\n",
    "from implicit.als import AlternatingLeastSquares\n",
    "from implicit.nearest_neighbours import bm25_weight, tfidf_weight\n",
    "\n",
    "from lightfm import LightFM\n",
    "from lightfm.evaluation import precision_at_k, recall_at_k\n",
    "    \n",
    "# from metrics import precision_at_k, recall_at_k\n",
    "from utils import prefilter_items"
   ]
  },
  {
   "cell_type": "code",
   "execution_count": 2,
   "metadata": {},
   "outputs": [
    {
     "output_type": "execute_result",
     "data": {
      "text/plain": [
       "   user_id    basket_id  day  item_id  quantity  sales_value  store_id  \\\n",
       "0     2375  26984851472    1  1004906         1         1.39       364   \n",
       "1     2375  26984851472    1  1033142         1         0.82       364   \n",
       "\n",
       "   retail_disc  trans_time  week_no  coupon_disc  coupon_match_disc  \n",
       "0         -0.6        1631        1          0.0                0.0  \n",
       "1          0.0        1631        1          0.0                0.0  "
      ],
      "text/html": "<div>\n<style scoped>\n    .dataframe tbody tr th:only-of-type {\n        vertical-align: middle;\n    }\n\n    .dataframe tbody tr th {\n        vertical-align: top;\n    }\n\n    .dataframe thead th {\n        text-align: right;\n    }\n</style>\n<table border=\"1\" class=\"dataframe\">\n  <thead>\n    <tr style=\"text-align: right;\">\n      <th></th>\n      <th>user_id</th>\n      <th>basket_id</th>\n      <th>day</th>\n      <th>item_id</th>\n      <th>quantity</th>\n      <th>sales_value</th>\n      <th>store_id</th>\n      <th>retail_disc</th>\n      <th>trans_time</th>\n      <th>week_no</th>\n      <th>coupon_disc</th>\n      <th>coupon_match_disc</th>\n    </tr>\n  </thead>\n  <tbody>\n    <tr>\n      <th>0</th>\n      <td>2375</td>\n      <td>26984851472</td>\n      <td>1</td>\n      <td>1004906</td>\n      <td>1</td>\n      <td>1.39</td>\n      <td>364</td>\n      <td>-0.6</td>\n      <td>1631</td>\n      <td>1</td>\n      <td>0.0</td>\n      <td>0.0</td>\n    </tr>\n    <tr>\n      <th>1</th>\n      <td>2375</td>\n      <td>26984851472</td>\n      <td>1</td>\n      <td>1033142</td>\n      <td>1</td>\n      <td>0.82</td>\n      <td>364</td>\n      <td>0.0</td>\n      <td>1631</td>\n      <td>1</td>\n      <td>0.0</td>\n      <td>0.0</td>\n    </tr>\n  </tbody>\n</table>\n</div>"
     },
     "metadata": {},
     "execution_count": 2
    }
   ],
   "source": [
    "data = pd.read_csv('./lessons/web2/retail_train.csv')\n",
    "item_features = pd.read_csv('./lessons/web2/product.csv')\n",
    "user_features = pd.read_csv('./lessons/web2/hh_demographic.csv')\n",
    "\n",
    "# column processing\n",
    "item_features.columns = [col.lower() for col in item_features.columns]\n",
    "user_features.columns = [col.lower() for col in user_features.columns]\n",
    "\n",
    "item_features.rename(columns={'product_id': 'item_id'}, inplace=True)\n",
    "user_features.rename(columns={'household_key': 'user_id'}, inplace=True)\n",
    "\n",
    "# train test split\n",
    "test_size_weeks = 3\n",
    "\n",
    "data_train = data[data['week_no'] < data['week_no'].max() - test_size_weeks]\n",
    "data_test = data[data['week_no'] >= data['week_no'].max() - test_size_weeks]\n",
    "\n",
    "data_train.head(2)"
   ]
  },
  {
   "cell_type": "code",
   "execution_count": 3,
   "metadata": {},
   "outputs": [
    {
     "output_type": "execute_result",
     "data": {
      "text/plain": [
       "   item_id  manufacturer    department     brand            commodity_desc  \\\n",
       "0    25671             2       GROCERY  National                  FRZN ICE   \n",
       "1    26081             2  MISC. TRANS.  National  NO COMMODITY DESCRIPTION   \n",
       "\n",
       "            sub_commodity_desc curr_size_of_product  \n",
       "0          ICE - CRUSHED/CUBED                22 LB  \n",
       "1  NO SUBCOMMODITY DESCRIPTION                       "
      ],
      "text/html": "<div>\n<style scoped>\n    .dataframe tbody tr th:only-of-type {\n        vertical-align: middle;\n    }\n\n    .dataframe tbody tr th {\n        vertical-align: top;\n    }\n\n    .dataframe thead th {\n        text-align: right;\n    }\n</style>\n<table border=\"1\" class=\"dataframe\">\n  <thead>\n    <tr style=\"text-align: right;\">\n      <th></th>\n      <th>item_id</th>\n      <th>manufacturer</th>\n      <th>department</th>\n      <th>brand</th>\n      <th>commodity_desc</th>\n      <th>sub_commodity_desc</th>\n      <th>curr_size_of_product</th>\n    </tr>\n  </thead>\n  <tbody>\n    <tr>\n      <th>0</th>\n      <td>25671</td>\n      <td>2</td>\n      <td>GROCERY</td>\n      <td>National</td>\n      <td>FRZN ICE</td>\n      <td>ICE - CRUSHED/CUBED</td>\n      <td>22 LB</td>\n    </tr>\n    <tr>\n      <th>1</th>\n      <td>26081</td>\n      <td>2</td>\n      <td>MISC. TRANS.</td>\n      <td>National</td>\n      <td>NO COMMODITY DESCRIPTION</td>\n      <td>NO SUBCOMMODITY DESCRIPTION</td>\n      <td></td>\n    </tr>\n  </tbody>\n</table>\n</div>"
     },
     "metadata": {},
     "execution_count": 3
    }
   ],
   "source": [
    "item_features.head(2)"
   ]
  },
  {
   "cell_type": "code",
   "execution_count": 4,
   "metadata": {},
   "outputs": [
    {
     "output_type": "execute_result",
     "data": {
      "text/plain": [
       "  age_desc marital_status_code income_desc homeowner_desc      hh_comp_desc  \\\n",
       "0      65+                   A      35-49K      Homeowner  2 Adults No Kids   \n",
       "1    45-54                   A      50-74K      Homeowner  2 Adults No Kids   \n",
       "\n",
       "  household_size_desc kid_category_desc  user_id  \n",
       "0                   2      None/Unknown        1  \n",
       "1                   2      None/Unknown        7  "
      ],
      "text/html": "<div>\n<style scoped>\n    .dataframe tbody tr th:only-of-type {\n        vertical-align: middle;\n    }\n\n    .dataframe tbody tr th {\n        vertical-align: top;\n    }\n\n    .dataframe thead th {\n        text-align: right;\n    }\n</style>\n<table border=\"1\" class=\"dataframe\">\n  <thead>\n    <tr style=\"text-align: right;\">\n      <th></th>\n      <th>age_desc</th>\n      <th>marital_status_code</th>\n      <th>income_desc</th>\n      <th>homeowner_desc</th>\n      <th>hh_comp_desc</th>\n      <th>household_size_desc</th>\n      <th>kid_category_desc</th>\n      <th>user_id</th>\n    </tr>\n  </thead>\n  <tbody>\n    <tr>\n      <th>0</th>\n      <td>65+</td>\n      <td>A</td>\n      <td>35-49K</td>\n      <td>Homeowner</td>\n      <td>2 Adults No Kids</td>\n      <td>2</td>\n      <td>None/Unknown</td>\n      <td>1</td>\n    </tr>\n    <tr>\n      <th>1</th>\n      <td>45-54</td>\n      <td>A</td>\n      <td>50-74K</td>\n      <td>Homeowner</td>\n      <td>2 Adults No Kids</td>\n      <td>2</td>\n      <td>None/Unknown</td>\n      <td>7</td>\n    </tr>\n  </tbody>\n</table>\n</div>"
     },
     "metadata": {},
     "execution_count": 4
    }
   ],
   "source": [
    "user_features.head(2)"
   ]
  },
  {
   "cell_type": "markdown",
   "metadata": {},
   "source": [
    "## 1. Filter items"
   ]
  },
  {
   "cell_type": "code",
   "execution_count": 5,
   "metadata": {},
   "outputs": [
    {
     "output_type": "execute_result",
     "data": {
      "text/plain": [
       "   user_id    basket_id  day  item_id  quantity  sales_value  store_id  \\\n",
       "0     2375  26984851472    1  1004906         1         1.39       364   \n",
       "1     2375  26984851472    1  1033142         1         0.82       364   \n",
       "2     2375  26984851472    1  1036325         1         0.99       364   \n",
       "3     2375  26984851472    1  1082185         1         1.21       364   \n",
       "4     2375  26984851472    1  8160430         1         1.50       364   \n",
       "\n",
       "   retail_disc  trans_time  week_no  coupon_disc  coupon_match_disc  \n",
       "0        -0.60        1631        1          0.0                0.0  \n",
       "1         0.00        1631        1          0.0                0.0  \n",
       "2        -0.30        1631        1          0.0                0.0  \n",
       "3         0.00        1631        1          0.0                0.0  \n",
       "4        -0.39        1631        1          0.0                0.0  "
      ],
      "text/html": "<div>\n<style scoped>\n    .dataframe tbody tr th:only-of-type {\n        vertical-align: middle;\n    }\n\n    .dataframe tbody tr th {\n        vertical-align: top;\n    }\n\n    .dataframe thead th {\n        text-align: right;\n    }\n</style>\n<table border=\"1\" class=\"dataframe\">\n  <thead>\n    <tr style=\"text-align: right;\">\n      <th></th>\n      <th>user_id</th>\n      <th>basket_id</th>\n      <th>day</th>\n      <th>item_id</th>\n      <th>quantity</th>\n      <th>sales_value</th>\n      <th>store_id</th>\n      <th>retail_disc</th>\n      <th>trans_time</th>\n      <th>week_no</th>\n      <th>coupon_disc</th>\n      <th>coupon_match_disc</th>\n    </tr>\n  </thead>\n  <tbody>\n    <tr>\n      <th>0</th>\n      <td>2375</td>\n      <td>26984851472</td>\n      <td>1</td>\n      <td>1004906</td>\n      <td>1</td>\n      <td>1.39</td>\n      <td>364</td>\n      <td>-0.60</td>\n      <td>1631</td>\n      <td>1</td>\n      <td>0.0</td>\n      <td>0.0</td>\n    </tr>\n    <tr>\n      <th>1</th>\n      <td>2375</td>\n      <td>26984851472</td>\n      <td>1</td>\n      <td>1033142</td>\n      <td>1</td>\n      <td>0.82</td>\n      <td>364</td>\n      <td>0.00</td>\n      <td>1631</td>\n      <td>1</td>\n      <td>0.0</td>\n      <td>0.0</td>\n    </tr>\n    <tr>\n      <th>2</th>\n      <td>2375</td>\n      <td>26984851472</td>\n      <td>1</td>\n      <td>1036325</td>\n      <td>1</td>\n      <td>0.99</td>\n      <td>364</td>\n      <td>-0.30</td>\n      <td>1631</td>\n      <td>1</td>\n      <td>0.0</td>\n      <td>0.0</td>\n    </tr>\n    <tr>\n      <th>3</th>\n      <td>2375</td>\n      <td>26984851472</td>\n      <td>1</td>\n      <td>1082185</td>\n      <td>1</td>\n      <td>1.21</td>\n      <td>364</td>\n      <td>0.00</td>\n      <td>1631</td>\n      <td>1</td>\n      <td>0.0</td>\n      <td>0.0</td>\n    </tr>\n    <tr>\n      <th>4</th>\n      <td>2375</td>\n      <td>26984851472</td>\n      <td>1</td>\n      <td>8160430</td>\n      <td>1</td>\n      <td>1.50</td>\n      <td>364</td>\n      <td>-0.39</td>\n      <td>1631</td>\n      <td>1</td>\n      <td>0.0</td>\n      <td>0.0</td>\n    </tr>\n  </tbody>\n</table>\n</div>"
     },
     "metadata": {},
     "execution_count": 5
    }
   ],
   "source": [
    "data_train.head()"
   ]
  },
  {
   "cell_type": "code",
   "execution_count": 6,
   "metadata": {},
   "outputs": [
    {
     "output_type": "stream",
     "name": "stdout",
     "text": [
      "Decreased # items from 86865 to 5001\n"
     ]
    }
   ],
   "source": [
    "n_items_before = data_train['item_id'].nunique()\n",
    "\n",
    "data_train_filtered = prefilter_items(data_train, take_n_popular=5000, item_features=item_features)\n",
    "\n",
    "n_items_after = data_train_filtered['item_id'].nunique()\n",
    "print('Decreased # items from {} to {}'.format(n_items_before, n_items_after))"
   ]
  },
  {
   "cell_type": "markdown",
   "metadata": {},
   "source": [
    "# 2. Prepare data set"
   ]
  },
  {
   "cell_type": "markdown",
   "metadata": {},
   "source": [
    "## 2.1 Prepare csr train matrix"
   ]
  },
  {
   "cell_type": "code",
   "execution_count": 36,
   "metadata": {},
   "outputs": [
    {
     "output_type": "execute_result",
     "data": {
      "text/plain": [
       "item_id  25671     26081     26093     26190     26355     26426     26540     \\\n",
       "user_id                                                                         \n",
       "1             0.0       0.0       0.0       0.0       0.0       0.0       0.0   \n",
       "2             0.0       0.0       0.0       0.0       0.0       0.0       0.0   \n",
       "\n",
       "item_id  26601     26636     26691     ...  17328742  17329473  17329749  \\\n",
       "user_id                                ...                                 \n",
       "1             0.0       0.0       0.0  ...       0.0       0.0       0.0   \n",
       "2             0.0       0.0       0.0  ...       0.0       0.0       0.0   \n",
       "\n",
       "item_id  17330255  17330511  17381856  17382205  17383227  17827644  17829232  \n",
       "user_id                                                                        \n",
       "1             0.0       0.0       0.0       0.0       0.0       0.0       0.0  \n",
       "2             0.0       0.0       0.0       0.0       0.0       0.0       0.0  \n",
       "\n",
       "[2 rows x 86865 columns]"
      ],
      "text/html": "<div>\n<style scoped>\n    .dataframe tbody tr th:only-of-type {\n        vertical-align: middle;\n    }\n\n    .dataframe tbody tr th {\n        vertical-align: top;\n    }\n\n    .dataframe thead th {\n        text-align: right;\n    }\n</style>\n<table border=\"1\" class=\"dataframe\">\n  <thead>\n    <tr style=\"text-align: right;\">\n      <th>item_id</th>\n      <th>25671</th>\n      <th>26081</th>\n      <th>26093</th>\n      <th>26190</th>\n      <th>26355</th>\n      <th>26426</th>\n      <th>26540</th>\n      <th>26601</th>\n      <th>26636</th>\n      <th>26691</th>\n      <th>...</th>\n      <th>17328742</th>\n      <th>17329473</th>\n      <th>17329749</th>\n      <th>17330255</th>\n      <th>17330511</th>\n      <th>17381856</th>\n      <th>17382205</th>\n      <th>17383227</th>\n      <th>17827644</th>\n      <th>17829232</th>\n    </tr>\n    <tr>\n      <th>user_id</th>\n      <th></th>\n      <th></th>\n      <th></th>\n      <th></th>\n      <th></th>\n      <th></th>\n      <th></th>\n      <th></th>\n      <th></th>\n      <th></th>\n      <th></th>\n      <th></th>\n      <th></th>\n      <th></th>\n      <th></th>\n      <th></th>\n      <th></th>\n      <th></th>\n      <th></th>\n      <th></th>\n      <th></th>\n    </tr>\n  </thead>\n  <tbody>\n    <tr>\n      <th>1</th>\n      <td>0.0</td>\n      <td>0.0</td>\n      <td>0.0</td>\n      <td>0.0</td>\n      <td>0.0</td>\n      <td>0.0</td>\n      <td>0.0</td>\n      <td>0.0</td>\n      <td>0.0</td>\n      <td>0.0</td>\n      <td>...</td>\n      <td>0.0</td>\n      <td>0.0</td>\n      <td>0.0</td>\n      <td>0.0</td>\n      <td>0.0</td>\n      <td>0.0</td>\n      <td>0.0</td>\n      <td>0.0</td>\n      <td>0.0</td>\n      <td>0.0</td>\n    </tr>\n    <tr>\n      <th>2</th>\n      <td>0.0</td>\n      <td>0.0</td>\n      <td>0.0</td>\n      <td>0.0</td>\n      <td>0.0</td>\n      <td>0.0</td>\n      <td>0.0</td>\n      <td>0.0</td>\n      <td>0.0</td>\n      <td>0.0</td>\n      <td>...</td>\n      <td>0.0</td>\n      <td>0.0</td>\n      <td>0.0</td>\n      <td>0.0</td>\n      <td>0.0</td>\n      <td>0.0</td>\n      <td>0.0</td>\n      <td>0.0</td>\n      <td>0.0</td>\n      <td>0.0</td>\n    </tr>\n  </tbody>\n</table>\n<p>2 rows × 86865 columns</p>\n</div>"
     },
     "metadata": {},
     "execution_count": 36
    }
   ],
   "source": [
    "\n",
    "user_item_matrix = pd.pivot_table(\n",
    "    data_train,\n",
    "    index='user_id',\n",
    "    columns='item_id',\n",
    "    values='quantity',\n",
    "    aggfunc='count',\n",
    "    fill_value=0,\n",
    ")\n",
    "\n",
    "user_item_matrix = user_item_matrix.astype(float) # необходимый тип матрицы для implicit\n",
    "\n",
    "# переведем в формат sparse matrix\n",
    "sparse_user_item = csr_matrix(user_item_matrix).tocsr()\n",
    "\n",
    "user_item_matrix.head(2)"
   ]
  },
  {
   "cell_type": "markdown",
   "metadata": {},
   "source": [
    "## 2.2 Prepare CSR test matrix"
   ]
  },
  {
   "cell_type": "code",
   "execution_count": 37,
   "metadata": {},
   "outputs": [],
   "source": [
    "data_test = data_test[data_test['item_id'].isin(data_train['item_id'].unique())]\n",
    "\n",
    "test_user_item_matrix = pd.pivot_table(\n",
    "    data_test,\n",
    "    index='user_id',\n",
    "    columns='item_id',\n",
    "    values='quantity',\n",
    "    aggfunc='count',\n",
    "    fill_value=0,\n",
    ")\n",
    "\n",
    "test_user_item_matrix = test_user_item_matrix.astype(float) # необходимый тип матрицы для implicit"
   ]
  },
  {
   "cell_type": "code",
   "execution_count": 38,
   "metadata": {},
   "outputs": [
    {
     "output_type": "execute_result",
     "data": {
      "text/plain": [
       "item_id  32392     34873     42852     43094     44522     45507     49812     \\\n",
       "user_id                                                                         \n",
       "1             0.0       0.0       0.0       0.0       0.0       0.0       0.0   \n",
       "3             0.0       0.0       0.0       0.0       0.0       0.0       0.0   \n",
       "\n",
       "item_id  53516     58612     62804     ...  17284297  17284423  17291184  \\\n",
       "user_id                                ...                                 \n",
       "1             0.0       0.0       0.0  ...       0.0       0.0       0.0   \n",
       "3             0.0       0.0       0.0  ...       0.0       0.0       0.0   \n",
       "\n",
       "item_id  17291665  17320698  17320911  17321092  17328261  17329749  17330255  \n",
       "user_id                                                                        \n",
       "1             0.0       0.0       0.0       0.0       0.0       0.0       0.0  \n",
       "3             0.0       0.0       0.0       0.0       0.0       0.0       0.0  \n",
       "\n",
       "[2 rows x 22143 columns]"
      ],
      "text/html": "<div>\n<style scoped>\n    .dataframe tbody tr th:only-of-type {\n        vertical-align: middle;\n    }\n\n    .dataframe tbody tr th {\n        vertical-align: top;\n    }\n\n    .dataframe thead th {\n        text-align: right;\n    }\n</style>\n<table border=\"1\" class=\"dataframe\">\n  <thead>\n    <tr style=\"text-align: right;\">\n      <th>item_id</th>\n      <th>32392</th>\n      <th>34873</th>\n      <th>42852</th>\n      <th>43094</th>\n      <th>44522</th>\n      <th>45507</th>\n      <th>49812</th>\n      <th>53516</th>\n      <th>58612</th>\n      <th>62804</th>\n      <th>...</th>\n      <th>17284297</th>\n      <th>17284423</th>\n      <th>17291184</th>\n      <th>17291665</th>\n      <th>17320698</th>\n      <th>17320911</th>\n      <th>17321092</th>\n      <th>17328261</th>\n      <th>17329749</th>\n      <th>17330255</th>\n    </tr>\n    <tr>\n      <th>user_id</th>\n      <th></th>\n      <th></th>\n      <th></th>\n      <th></th>\n      <th></th>\n      <th></th>\n      <th></th>\n      <th></th>\n      <th></th>\n      <th></th>\n      <th></th>\n      <th></th>\n      <th></th>\n      <th></th>\n      <th></th>\n      <th></th>\n      <th></th>\n      <th></th>\n      <th></th>\n      <th></th>\n      <th></th>\n    </tr>\n  </thead>\n  <tbody>\n    <tr>\n      <th>1</th>\n      <td>0.0</td>\n      <td>0.0</td>\n      <td>0.0</td>\n      <td>0.0</td>\n      <td>0.0</td>\n      <td>0.0</td>\n      <td>0.0</td>\n      <td>0.0</td>\n      <td>0.0</td>\n      <td>0.0</td>\n      <td>...</td>\n      <td>0.0</td>\n      <td>0.0</td>\n      <td>0.0</td>\n      <td>0.0</td>\n      <td>0.0</td>\n      <td>0.0</td>\n      <td>0.0</td>\n      <td>0.0</td>\n      <td>0.0</td>\n      <td>0.0</td>\n    </tr>\n    <tr>\n      <th>3</th>\n      <td>0.0</td>\n      <td>0.0</td>\n      <td>0.0</td>\n      <td>0.0</td>\n      <td>0.0</td>\n      <td>0.0</td>\n      <td>0.0</td>\n      <td>0.0</td>\n      <td>0.0</td>\n      <td>0.0</td>\n      <td>...</td>\n      <td>0.0</td>\n      <td>0.0</td>\n      <td>0.0</td>\n      <td>0.0</td>\n      <td>0.0</td>\n      <td>0.0</td>\n      <td>0.0</td>\n      <td>0.0</td>\n      <td>0.0</td>\n      <td>0.0</td>\n    </tr>\n  </tbody>\n</table>\n<p>2 rows × 22143 columns</p>\n</div>"
     },
     "metadata": {},
     "execution_count": 38
    }
   ],
   "source": [
    "test_user_item_matrix.head(2)"
   ]
  },
  {
   "cell_type": "code",
   "execution_count": 39,
   "metadata": {},
   "outputs": [],
   "source": [
    "userids = user_item_matrix.index.values\n",
    "itemids = user_item_matrix.columns.values\n",
    "\n",
    "matrix_userids = np.arange(len(userids))\n",
    "matrix_itemids = np.arange(len(itemids))\n",
    "\n",
    "id_to_itemid = dict(zip(matrix_itemids, itemids))\n",
    "id_to_userid = dict(zip(matrix_userids, userids))\n",
    "\n",
    "itemid_to_id = dict(zip(itemids, matrix_itemids))\n",
    "userid_to_id = dict(zip(userids, matrix_userids))"
   ]
  },
  {
   "cell_type": "markdown",
   "metadata": {},
   "source": [
    "## 3. Prepare user and item features"
   ]
  },
  {
   "cell_type": "code",
   "execution_count": 40,
   "metadata": {},
   "outputs": [
    {
     "output_type": "execute_result",
     "data": {
      "text/plain": [
       "        age_desc marital_status_code income_desc homeowner_desc  \\\n",
       "user_id                                                           \n",
       "1            65+                   A      35-49K      Homeowner   \n",
       "2            NaN                 NaN         NaN            NaN   \n",
       "\n",
       "             hh_comp_desc household_size_desc kid_category_desc  \n",
       "user_id                                                          \n",
       "1        2 Adults No Kids                   2      None/Unknown  \n",
       "2                     NaN                 NaN               NaN  "
      ],
      "text/html": "<div>\n<style scoped>\n    .dataframe tbody tr th:only-of-type {\n        vertical-align: middle;\n    }\n\n    .dataframe tbody tr th {\n        vertical-align: top;\n    }\n\n    .dataframe thead th {\n        text-align: right;\n    }\n</style>\n<table border=\"1\" class=\"dataframe\">\n  <thead>\n    <tr style=\"text-align: right;\">\n      <th></th>\n      <th>age_desc</th>\n      <th>marital_status_code</th>\n      <th>income_desc</th>\n      <th>homeowner_desc</th>\n      <th>hh_comp_desc</th>\n      <th>household_size_desc</th>\n      <th>kid_category_desc</th>\n    </tr>\n    <tr>\n      <th>user_id</th>\n      <th></th>\n      <th></th>\n      <th></th>\n      <th></th>\n      <th></th>\n      <th></th>\n      <th></th>\n    </tr>\n  </thead>\n  <tbody>\n    <tr>\n      <th>1</th>\n      <td>65+</td>\n      <td>A</td>\n      <td>35-49K</td>\n      <td>Homeowner</td>\n      <td>2 Adults No Kids</td>\n      <td>2</td>\n      <td>None/Unknown</td>\n    </tr>\n    <tr>\n      <th>2</th>\n      <td>NaN</td>\n      <td>NaN</td>\n      <td>NaN</td>\n      <td>NaN</td>\n      <td>NaN</td>\n      <td>NaN</td>\n      <td>NaN</td>\n    </tr>\n  </tbody>\n</table>\n</div>"
     },
     "metadata": {},
     "execution_count": 40
    }
   ],
   "source": [
    "user_feat = pd.DataFrame(user_item_matrix.index)\n",
    "user_feat = user_feat.merge(user_features, on='user_id', how='left')\n",
    "user_feat.set_index('user_id', inplace=True)\n",
    "user_feat.head(2)"
   ]
  },
  {
   "cell_type": "code",
   "execution_count": 41,
   "metadata": {},
   "outputs": [
    {
     "output_type": "execute_result",
     "data": {
      "text/plain": [
       "(2499, 7)"
      ]
     },
     "metadata": {},
     "execution_count": 41
    }
   ],
   "source": [
    "user_feat.shape"
   ]
  },
  {
   "cell_type": "code",
   "execution_count": 42,
   "metadata": {
    "scrolled": true
   },
   "outputs": [
    {
     "output_type": "execute_result",
     "data": {
      "text/plain": [
       "         manufacturer    department     brand            commodity_desc  \\\n",
       "item_id                                                                   \n",
       "25671               2       GROCERY  National                  FRZN ICE   \n",
       "26081               2  MISC. TRANS.  National  NO COMMODITY DESCRIPTION   \n",
       "\n",
       "                  sub_commodity_desc curr_size_of_product  \n",
       "item_id                                                    \n",
       "25671            ICE - CRUSHED/CUBED                22 LB  \n",
       "26081    NO SUBCOMMODITY DESCRIPTION                       "
      ],
      "text/html": "<div>\n<style scoped>\n    .dataframe tbody tr th:only-of-type {\n        vertical-align: middle;\n    }\n\n    .dataframe tbody tr th {\n        vertical-align: top;\n    }\n\n    .dataframe thead th {\n        text-align: right;\n    }\n</style>\n<table border=\"1\" class=\"dataframe\">\n  <thead>\n    <tr style=\"text-align: right;\">\n      <th></th>\n      <th>manufacturer</th>\n      <th>department</th>\n      <th>brand</th>\n      <th>commodity_desc</th>\n      <th>sub_commodity_desc</th>\n      <th>curr_size_of_product</th>\n    </tr>\n    <tr>\n      <th>item_id</th>\n      <th></th>\n      <th></th>\n      <th></th>\n      <th></th>\n      <th></th>\n      <th></th>\n    </tr>\n  </thead>\n  <tbody>\n    <tr>\n      <th>25671</th>\n      <td>2</td>\n      <td>GROCERY</td>\n      <td>National</td>\n      <td>FRZN ICE</td>\n      <td>ICE - CRUSHED/CUBED</td>\n      <td>22 LB</td>\n    </tr>\n    <tr>\n      <th>26081</th>\n      <td>2</td>\n      <td>MISC. TRANS.</td>\n      <td>National</td>\n      <td>NO COMMODITY DESCRIPTION</td>\n      <td>NO SUBCOMMODITY DESCRIPTION</td>\n      <td></td>\n    </tr>\n  </tbody>\n</table>\n</div>"
     },
     "metadata": {},
     "execution_count": 42
    }
   ],
   "source": [
    "item_feat = pd.DataFrame(user_item_matrix.columns)\n",
    "item_feat = item_feat.merge(item_features, on='item_id', how='left')\n",
    "item_feat.set_index('item_id', inplace=True)\n",
    "\n",
    "item_feat.head(2)"
   ]
  },
  {
   "cell_type": "code",
   "execution_count": 43,
   "metadata": {},
   "outputs": [
    {
     "output_type": "execute_result",
     "data": {
      "text/plain": [
       "(86865, 6)"
      ]
     },
     "metadata": {},
     "execution_count": 43
    }
   ],
   "source": [
    "item_feat.shape"
   ]
  },
  {
   "cell_type": "markdown",
   "metadata": {},
   "source": [
    "## Encoding features"
   ]
  },
  {
   "cell_type": "code",
   "execution_count": 44,
   "metadata": {},
   "outputs": [],
   "source": [
    "user_feat_lightfm = pd.get_dummies(user_feat, columns=user_feat.columns.tolist())\n",
    "item_feat_lightfm = pd.get_dummies(item_feat, columns=item_feat.columns.tolist())"
   ]
  },
  {
   "cell_type": "code",
   "execution_count": 45,
   "metadata": {
    "scrolled": true
   },
   "outputs": [
    {
     "output_type": "execute_result",
     "data": {
      "text/plain": [
       "         age_desc_19-24  age_desc_25-34  age_desc_35-44  age_desc_45-54  \\\n",
       "user_id                                                                   \n",
       "1                     0               0               0               0   \n",
       "2                     0               0               0               0   \n",
       "\n",
       "         age_desc_55-64  age_desc_65+  marital_status_code_A  \\\n",
       "user_id                                                        \n",
       "1                     0             1                      1   \n",
       "2                     0             0                      0   \n",
       "\n",
       "         marital_status_code_B  marital_status_code_U  income_desc_100-124K  \\\n",
       "user_id                                                                       \n",
       "1                            0                      0                     0   \n",
       "2                            0                      0                     0   \n",
       "\n",
       "         ...  hh_comp_desc_Unknown  household_size_desc_1  \\\n",
       "user_id  ...                                                \n",
       "1        ...                     0                      0   \n",
       "2        ...                     0                      0   \n",
       "\n",
       "         household_size_desc_2  household_size_desc_3  household_size_desc_4  \\\n",
       "user_id                                                                        \n",
       "1                            1                      0                      0   \n",
       "2                            0                      0                      0   \n",
       "\n",
       "         household_size_desc_5+  kid_category_desc_1  kid_category_desc_2  \\\n",
       "user_id                                                                     \n",
       "1                             0                    0                    0   \n",
       "2                             0                    0                    0   \n",
       "\n",
       "         kid_category_desc_3+  kid_category_desc_None/Unknown  \n",
       "user_id                                                        \n",
       "1                           0                               1  \n",
       "2                           0                               0  \n",
       "\n",
       "[2 rows x 41 columns]"
      ],
      "text/html": "<div>\n<style scoped>\n    .dataframe tbody tr th:only-of-type {\n        vertical-align: middle;\n    }\n\n    .dataframe tbody tr th {\n        vertical-align: top;\n    }\n\n    .dataframe thead th {\n        text-align: right;\n    }\n</style>\n<table border=\"1\" class=\"dataframe\">\n  <thead>\n    <tr style=\"text-align: right;\">\n      <th></th>\n      <th>age_desc_19-24</th>\n      <th>age_desc_25-34</th>\n      <th>age_desc_35-44</th>\n      <th>age_desc_45-54</th>\n      <th>age_desc_55-64</th>\n      <th>age_desc_65+</th>\n      <th>marital_status_code_A</th>\n      <th>marital_status_code_B</th>\n      <th>marital_status_code_U</th>\n      <th>income_desc_100-124K</th>\n      <th>...</th>\n      <th>hh_comp_desc_Unknown</th>\n      <th>household_size_desc_1</th>\n      <th>household_size_desc_2</th>\n      <th>household_size_desc_3</th>\n      <th>household_size_desc_4</th>\n      <th>household_size_desc_5+</th>\n      <th>kid_category_desc_1</th>\n      <th>kid_category_desc_2</th>\n      <th>kid_category_desc_3+</th>\n      <th>kid_category_desc_None/Unknown</th>\n    </tr>\n    <tr>\n      <th>user_id</th>\n      <th></th>\n      <th></th>\n      <th></th>\n      <th></th>\n      <th></th>\n      <th></th>\n      <th></th>\n      <th></th>\n      <th></th>\n      <th></th>\n      <th></th>\n      <th></th>\n      <th></th>\n      <th></th>\n      <th></th>\n      <th></th>\n      <th></th>\n      <th></th>\n      <th></th>\n      <th></th>\n      <th></th>\n    </tr>\n  </thead>\n  <tbody>\n    <tr>\n      <th>1</th>\n      <td>0</td>\n      <td>0</td>\n      <td>0</td>\n      <td>0</td>\n      <td>0</td>\n      <td>1</td>\n      <td>1</td>\n      <td>0</td>\n      <td>0</td>\n      <td>0</td>\n      <td>...</td>\n      <td>0</td>\n      <td>0</td>\n      <td>1</td>\n      <td>0</td>\n      <td>0</td>\n      <td>0</td>\n      <td>0</td>\n      <td>0</td>\n      <td>0</td>\n      <td>1</td>\n    </tr>\n    <tr>\n      <th>2</th>\n      <td>0</td>\n      <td>0</td>\n      <td>0</td>\n      <td>0</td>\n      <td>0</td>\n      <td>0</td>\n      <td>0</td>\n      <td>0</td>\n      <td>0</td>\n      <td>0</td>\n      <td>...</td>\n      <td>0</td>\n      <td>0</td>\n      <td>0</td>\n      <td>0</td>\n      <td>0</td>\n      <td>0</td>\n      <td>0</td>\n      <td>0</td>\n      <td>0</td>\n      <td>0</td>\n    </tr>\n  </tbody>\n</table>\n<p>2 rows × 41 columns</p>\n</div>"
     },
     "metadata": {},
     "execution_count": 45
    }
   ],
   "source": [
    "user_feat_lightfm.head(2)"
   ]
  },
  {
   "cell_type": "code",
   "execution_count": 46,
   "metadata": {},
   "outputs": [
    {
     "output_type": "execute_result",
     "data": {
      "text/plain": [
       "         manufacturer_1  manufacturer_2  manufacturer_3  manufacturer_4  \\\n",
       "item_id                                                                   \n",
       "25671                 0               1               0               0   \n",
       "26081                 0               1               0               0   \n",
       "\n",
       "         manufacturer_5  manufacturer_6  manufacturer_8  manufacturer_9  \\\n",
       "item_id                                                                   \n",
       "25671                 0               0               0               0   \n",
       "26081                 0               0               0               0   \n",
       "\n",
       "         manufacturer_10  manufacturer_11  ...  curr_size_of_product_TWIN  \\\n",
       "item_id                                    ...                              \n",
       "25671                  0                0  ...                          0   \n",
       "26081                  0                0  ...                          0   \n",
       "\n",
       "         curr_size_of_product_TWIN PACK  curr_size_of_product_UNDER 15LB  \\\n",
       "item_id                                                                    \n",
       "25671                                 0                                0   \n",
       "26081                                 0                                0   \n",
       "\n",
       "         curr_size_of_product_X-LARGE  curr_size_of_product_X-LG  \\\n",
       "item_id                                                            \n",
       "25671                               0                          0   \n",
       "26081                               0                          0   \n",
       "\n",
       "         curr_size_of_product_XL  curr_size_of_product_XL/3PK  \\\n",
       "item_id                                                         \n",
       "25671                          0                            0   \n",
       "26081                          0                            0   \n",
       "\n",
       "         curr_size_of_product_XL/6PK  curr_size_of_product_XLG  \\\n",
       "item_id                                                          \n",
       "25671                              0                         0   \n",
       "26081                              0                         0   \n",
       "\n",
       "         curr_size_of_product_XLRG  \n",
       "item_id                             \n",
       "25671                            0  \n",
       "26081                            0  \n",
       "\n",
       "[2 rows x 13109 columns]"
      ],
      "text/html": "<div>\n<style scoped>\n    .dataframe tbody tr th:only-of-type {\n        vertical-align: middle;\n    }\n\n    .dataframe tbody tr th {\n        vertical-align: top;\n    }\n\n    .dataframe thead th {\n        text-align: right;\n    }\n</style>\n<table border=\"1\" class=\"dataframe\">\n  <thead>\n    <tr style=\"text-align: right;\">\n      <th></th>\n      <th>manufacturer_1</th>\n      <th>manufacturer_2</th>\n      <th>manufacturer_3</th>\n      <th>manufacturer_4</th>\n      <th>manufacturer_5</th>\n      <th>manufacturer_6</th>\n      <th>manufacturer_8</th>\n      <th>manufacturer_9</th>\n      <th>manufacturer_10</th>\n      <th>manufacturer_11</th>\n      <th>...</th>\n      <th>curr_size_of_product_TWIN</th>\n      <th>curr_size_of_product_TWIN PACK</th>\n      <th>curr_size_of_product_UNDER 15LB</th>\n      <th>curr_size_of_product_X-LARGE</th>\n      <th>curr_size_of_product_X-LG</th>\n      <th>curr_size_of_product_XL</th>\n      <th>curr_size_of_product_XL/3PK</th>\n      <th>curr_size_of_product_XL/6PK</th>\n      <th>curr_size_of_product_XLG</th>\n      <th>curr_size_of_product_XLRG</th>\n    </tr>\n    <tr>\n      <th>item_id</th>\n      <th></th>\n      <th></th>\n      <th></th>\n      <th></th>\n      <th></th>\n      <th></th>\n      <th></th>\n      <th></th>\n      <th></th>\n      <th></th>\n      <th></th>\n      <th></th>\n      <th></th>\n      <th></th>\n      <th></th>\n      <th></th>\n      <th></th>\n      <th></th>\n      <th></th>\n      <th></th>\n      <th></th>\n    </tr>\n  </thead>\n  <tbody>\n    <tr>\n      <th>25671</th>\n      <td>0</td>\n      <td>1</td>\n      <td>0</td>\n      <td>0</td>\n      <td>0</td>\n      <td>0</td>\n      <td>0</td>\n      <td>0</td>\n      <td>0</td>\n      <td>0</td>\n      <td>...</td>\n      <td>0</td>\n      <td>0</td>\n      <td>0</td>\n      <td>0</td>\n      <td>0</td>\n      <td>0</td>\n      <td>0</td>\n      <td>0</td>\n      <td>0</td>\n      <td>0</td>\n    </tr>\n    <tr>\n      <th>26081</th>\n      <td>0</td>\n      <td>1</td>\n      <td>0</td>\n      <td>0</td>\n      <td>0</td>\n      <td>0</td>\n      <td>0</td>\n      <td>0</td>\n      <td>0</td>\n      <td>0</td>\n      <td>...</td>\n      <td>0</td>\n      <td>0</td>\n      <td>0</td>\n      <td>0</td>\n      <td>0</td>\n      <td>0</td>\n      <td>0</td>\n      <td>0</td>\n      <td>0</td>\n      <td>0</td>\n    </tr>\n  </tbody>\n</table>\n<p>2 rows × 13109 columns</p>\n</div>"
     },
     "metadata": {},
     "execution_count": 46
    }
   ],
   "source": [
    "item_feat_lightfm.head(2)"
   ]
  },
  {
   "cell_type": "markdown",
   "metadata": {},
   "source": [
    "## Init model"
   ]
  },
  {
   "cell_type": "code",
   "execution_count": 47,
   "metadata": {},
   "outputs": [],
   "source": [
    "model = LightFM(\n",
    "    no_components=40,\n",
    "    loss='warp',\n",
    "    learning_rate=0.05, \n",
    "    item_alpha=0.1,\n",
    "    user_alpha=0.1, \n",
    "    random_state=42\n",
    ")"
   ]
  },
  {
   "cell_type": "markdown",
   "metadata": {},
   "source": [
    "## Train"
   ]
  },
  {
   "cell_type": "code",
   "execution_count": 48,
   "metadata": {},
   "outputs": [
    {
     "output_type": "execute_result",
     "data": {
      "text/plain": [
       "<lightfm.lightfm.LightFM at 0x29618280848>"
      ]
     },
     "metadata": {},
     "execution_count": 48
    }
   ],
   "source": [
    "model.fit(\n",
    "    (sparse_user_item > 0) * 1,  # user-item matrix из 0 и 1\n",
    "    sample_weight=coo_matrix(user_item_matrix),\n",
    "    user_features=csr_matrix(user_feat_lightfm.values).tocsr(),\n",
    "    item_features=csr_matrix(item_feat_lightfm.values).tocsr(),\n",
    "    epochs=1, \n",
    "    num_threads=4,\n",
    "    verbose=False,\n",
    ") "
   ]
  },
  {
   "cell_type": "markdown",
   "metadata": {},
   "source": [
    "# Test precision"
   ]
  },
  {
   "cell_type": "code",
   "execution_count": 49,
   "metadata": {},
   "outputs": [
    {
     "output_type": "execute_result",
     "data": {
      "text/plain": [
       "0.0018618326"
      ]
     },
     "metadata": {},
     "execution_count": 49
    }
   ],
   "source": [
    "test_precision = precision_at_k(\n",
    "    model,\n",
    "    csr_matrix(test_user_item_matrix).tocsr(),\n",
    "    user_features=csr_matrix(user_feat_lightfm.values).tocsr(),\n",
    "    item_features=csr_matrix(item_feat_lightfm.values).tocsr(),\n",
    "    k=5\n",
    ")\n",
    "\n",
    "test_precision.mean()"
   ]
  },
  {
   "cell_type": "markdown",
   "metadata": {},
   "source": [
    "# Домашнее задание"
   ]
  },
  {
   "cell_type": "code",
   "execution_count": 50,
   "metadata": {},
   "outputs": [
    {
     "output_type": "stream",
     "name": "stdout",
     "text": [
      "Iteration 1 from 72 2021-06-19 23:17:19.585916 (spent 0:01:51.991960)\n",
      "{'item_alpha': 0, 'learning_rate': 0.01, 'loss': 'bpr', 'no_components': 10, 'user_alpha': 0, 'precision_at_k': 0.00039196474}\n",
      "Iteration 2 from 72 2021-06-19 23:19:01.671261 (spent 0:01:42.076342)\n",
      "{'item_alpha': 0, 'learning_rate': 0.01, 'loss': 'bpr', 'no_components': 10, 'user_alpha': 0.5, 'precision_at_k': 0.00029397354}\n",
      "Iteration 3 from 72 2021-06-19 23:21:12.514116 (spent 0:02:10.841804)\n",
      "{'item_alpha': 0, 'learning_rate': 0.01, 'loss': 'bpr', 'no_components': 20, 'user_alpha': 0, 'precision_at_k': 0.0009799118}\n",
      "Iteration 4 from 72 2021-06-19 23:23:25.949052 (spent 0:02:13.432939)\n",
      "{'item_alpha': 0, 'learning_rate': 0.01, 'loss': 'bpr', 'no_components': 20, 'user_alpha': 0.5, 'precision_at_k': 0.001567859}\n",
      "Iteration 5 from 72 2021-06-19 23:26:36.269840 (spent 0:03:10.319802)\n",
      "{'item_alpha': 0, 'learning_rate': 0.01, 'loss': 'bpr', 'no_components': 40, 'user_alpha': 0, 'precision_at_k': 0.0011758942}\n",
      "Iteration 6 from 72 2021-06-19 23:29:24.631742 (spent 0:02:48.360918)\n",
      "{'item_alpha': 0, 'learning_rate': 0.01, 'loss': 'bpr', 'no_components': 40, 'user_alpha': 0.5, 'precision_at_k': 0.0007839295}\n",
      "Iteration 7 from 72 2021-06-19 23:31:14.447924 (spent 0:01:49.815181)\n",
      "{'item_alpha': 0, 'learning_rate': 0.01, 'loss': 'warp', 'no_components': 10, 'user_alpha': 0, 'precision_at_k': 0.0022537974}\n",
      "Iteration 8 from 72 2021-06-19 23:33:19.012312 (spent 0:02:04.563385)\n",
      "{'item_alpha': 0, 'learning_rate': 0.01, 'loss': 'warp', 'no_components': 10, 'user_alpha': 0.5, 'precision_at_k': 0.0006859383}\n",
      "Iteration 9 from 72 2021-06-19 23:34:47.023678 (spent 0:01:28.009363)\n",
      "{'item_alpha': 0, 'learning_rate': 0.01, 'loss': 'warp', 'no_components': 20, 'user_alpha': 0, 'precision_at_k': 0.0013718765}\n",
      "Iteration 10 from 72 2021-06-19 23:36:16.256850 (spent 0:01:29.232156)\n",
      "{'item_alpha': 0, 'learning_rate': 0.01, 'loss': 'warp', 'no_components': 20, 'user_alpha': 0.5, 'precision_at_k': 0.0006859383}\n",
      "Iteration 11 from 72 2021-06-19 23:38:10.061882 (spent 0:01:53.805032)\n",
      "{'item_alpha': 0, 'learning_rate': 0.01, 'loss': 'warp', 'no_components': 40, 'user_alpha': 0, 'precision_at_k': 0.0013718765}\n",
      "Iteration 12 from 72 2021-06-19 23:40:11.848296 (spent 0:02:01.785414)\n",
      "{'item_alpha': 0, 'learning_rate': 0.01, 'loss': 'warp', 'no_components': 40, 'user_alpha': 0.5, 'precision_at_k': 0.0006859383}\n",
      "Iteration 13 from 72 2021-06-19 23:41:30.265279 (spent 0:01:18.415990)\n",
      "{'item_alpha': 0, 'learning_rate': 0.05, 'loss': 'bpr', 'no_components': 10, 'user_alpha': 0, 'precision_at_k': 0.0034296913}\n",
      "Iteration 14 from 72 2021-06-19 23:42:42.936371 (spent 0:01:12.671092)\n",
      "{'item_alpha': 0, 'learning_rate': 0.05, 'loss': 'bpr', 'no_components': 10, 'user_alpha': 0.5, 'precision_at_k': 0.0011758942}\n",
      "Iteration 15 from 72 2021-06-19 23:44:12.895952 (spent 0:01:29.958575)\n",
      "{'item_alpha': 0, 'learning_rate': 0.05, 'loss': 'bpr', 'no_components': 20, 'user_alpha': 0, 'precision_at_k': 0.0019598235}\n",
      "Iteration 16 from 72 2021-06-19 23:45:39.546766 (spent 0:01:26.649805)\n",
      "{'item_alpha': 0, 'learning_rate': 0.05, 'loss': 'bpr', 'no_components': 20, 'user_alpha': 0.5, 'precision_at_k': 0.0005879471}\n",
      "Iteration 17 from 72 2021-06-19 23:47:37.060173 (spent 0:01:57.512395)\n",
      "{'item_alpha': 0, 'learning_rate': 0.05, 'loss': 'bpr', 'no_components': 40, 'user_alpha': 0, 'precision_at_k': 0.0023517883}\n",
      "Iteration 18 from 72 2021-06-19 23:49:24.550142 (spent 0:01:47.489969)\n",
      "{'item_alpha': 0, 'learning_rate': 0.05, 'loss': 'bpr', 'no_components': 40, 'user_alpha': 0.5, 'precision_at_k': 0.0025477705}\n",
      "Iteration 19 from 72 2021-06-19 23:50:42.407819 (spent 0:01:17.857677)\n",
      "{'item_alpha': 0, 'learning_rate': 0.05, 'loss': 'warp', 'no_components': 10, 'user_alpha': 0, 'precision_at_k': 0.0029397355}\n",
      "Iteration 20 from 72 2021-06-19 23:52:16.254144 (spent 0:01:33.846325)\n",
      "{'item_alpha': 0, 'learning_rate': 0.05, 'loss': 'warp', 'no_components': 10, 'user_alpha': 0.5, 'precision_at_k': 0.0033317003}\n",
      "Iteration 21 from 72 2021-06-19 23:54:17.865140 (spent 0:02:01.610026)\n",
      "{'item_alpha': 0, 'learning_rate': 0.05, 'loss': 'warp', 'no_components': 20, 'user_alpha': 0, 'precision_at_k': 0.0029397355}\n",
      "Iteration 22 from 72 2021-06-19 23:56:11.614256 (spent 0:01:53.748129)\n",
      "{'item_alpha': 0, 'learning_rate': 0.05, 'loss': 'warp', 'no_components': 20, 'user_alpha': 0.5, 'precision_at_k': 0.0032337091}\n",
      "Iteration 23 from 72 2021-06-19 23:58:29.679083 (spent 0:02:18.063805)\n",
      "{'item_alpha': 0, 'learning_rate': 0.05, 'loss': 'warp', 'no_components': 40, 'user_alpha': 0, 'precision_at_k': 0.0036256737}\n",
      "Iteration 24 from 72 2021-06-20 00:01:26.438033 (spent 0:02:56.758950)\n",
      "{'item_alpha': 0, 'learning_rate': 0.05, 'loss': 'warp', 'no_components': 40, 'user_alpha': 0.5, 'precision_at_k': 0.0029397355}\n",
      "Iteration 25 from 72 2021-06-20 00:03:11.455795 (spent 0:01:45.014763)\n",
      "{'item_alpha': 0, 'learning_rate': 0.1, 'loss': 'bpr', 'no_components': 10, 'user_alpha': 0, 'precision_at_k': 0.0013718765}\n",
      "Iteration 26 from 72 2021-06-20 00:04:33.270223 (spent 0:01:21.813466)\n",
      "{'item_alpha': 0, 'learning_rate': 0.1, 'loss': 'bpr', 'no_components': 10, 'user_alpha': 0.5, 'precision_at_k': 0.0}\n",
      "Iteration 27 from 72 2021-06-20 00:06:12.237326 (spent 0:01:38.967103)\n",
      "{'item_alpha': 0, 'learning_rate': 0.1, 'loss': 'bpr', 'no_components': 20, 'user_alpha': 0, 'precision_at_k': 0.0023517883}\n",
      "Iteration 28 from 72 2021-06-20 00:07:55.056941 (spent 0:01:42.817609)\n",
      "{'item_alpha': 0, 'learning_rate': 0.1, 'loss': 'bpr', 'no_components': 20, 'user_alpha': 0.5, 'precision_at_k': 0.0017638413}\n",
      "Iteration 29 from 72 2021-06-20 00:10:10.690760 (spent 0:02:15.633819)\n",
      "{'item_alpha': 0, 'learning_rate': 0.1, 'loss': 'bpr', 'no_components': 40, 'user_alpha': 0, 'precision_at_k': 0.0012738854}\n",
      "Iteration 30 from 72 2021-06-20 00:11:47.850767 (spent 0:01:37.160007)\n",
      "{'item_alpha': 0, 'learning_rate': 0.1, 'loss': 'bpr', 'no_components': 40, 'user_alpha': 0.5, 'precision_at_k': 0.0017638414}\n",
      "Iteration 31 from 72 2021-06-20 00:13:20.324903 (spent 0:01:32.473176)\n",
      "{'item_alpha': 0, 'learning_rate': 0.1, 'loss': 'warp', 'no_components': 10, 'user_alpha': 0, 'precision_at_k': 0.0024497795}\n",
      "Iteration 32 from 72 2021-06-20 00:14:48.010614 (spent 0:01:27.685711)\n",
      "{'item_alpha': 0, 'learning_rate': 0.1, 'loss': 'warp', 'no_components': 10, 'user_alpha': 0.5, 'precision_at_k': 0.0038216559}\n",
      "Iteration 33 from 72 2021-06-20 00:16:38.382301 (spent 0:01:50.362573)\n",
      "{'item_alpha': 0, 'learning_rate': 0.1, 'loss': 'warp', 'no_components': 20, 'user_alpha': 0, 'precision_at_k': 0.0022537974}\n",
      "Iteration 34 from 72 2021-06-20 00:18:19.999955 (spent 0:01:41.607114)\n",
      "{'item_alpha': 0, 'learning_rate': 0.1, 'loss': 'warp', 'no_components': 20, 'user_alpha': 0.5, 'precision_at_k': 0.004899559}\n",
      "Iteration 35 from 72 2021-06-20 00:21:37.183186 (spent 0:03:17.181229)\n",
      "{'item_alpha': 0, 'learning_rate': 0.1, 'loss': 'warp', 'no_components': 40, 'user_alpha': 0, 'precision_at_k': 0.0025477705}\n",
      "Iteration 36 from 72 2021-06-20 00:25:30.711393 (spent 0:03:53.525197)\n",
      "{'item_alpha': 0, 'learning_rate': 0.1, 'loss': 'warp', 'no_components': 40, 'user_alpha': 0.5, 'precision_at_k': 0.004801568}\n",
      "Iteration 37 from 72 2021-06-20 00:27:01.167140 (spent 0:01:30.434748)\n",
      "{'item_alpha': 0.5, 'learning_rate': 0.01, 'loss': 'bpr', 'no_components': 10, 'user_alpha': 0, 'precision_at_k': 0.0004899559}\n",
      "Iteration 38 from 72 2021-06-20 00:28:28.317403 (spent 0:01:27.149258)\n",
      "{'item_alpha': 0.5, 'learning_rate': 0.01, 'loss': 'bpr', 'no_components': 10, 'user_alpha': 0.5, 'precision_at_k': 0.0004899559}\n",
      "Iteration 39 from 72 2021-06-20 00:34:02.709322 (spent 0:05:34.400917)\n",
      "{'item_alpha': 0.5, 'learning_rate': 0.01, 'loss': 'bpr', 'no_components': 20, 'user_alpha': 0, 'precision_at_k': 0.0017638413}\n",
      "Iteration 40 from 72 2021-06-20 00:40:21.419087 (spent 0:06:18.649766)\n",
      "{'item_alpha': 0.5, 'learning_rate': 0.01, 'loss': 'bpr', 'no_components': 20, 'user_alpha': 0.5, 'precision_at_k': 0.0022537971}\n",
      "Iteration 41 from 72 2021-06-20 00:44:50.184305 (spent 0:04:28.730225)\n",
      "{'item_alpha': 0.5, 'learning_rate': 0.01, 'loss': 'bpr', 'no_components': 40, 'user_alpha': 0, 'precision_at_k': 0.0025477707}\n",
      "Iteration 42 from 72 2021-06-20 00:47:50.676160 (spent 0:03:00.462853)\n",
      "{'item_alpha': 0.5, 'learning_rate': 0.01, 'loss': 'bpr', 'no_components': 40, 'user_alpha': 0.5, 'precision_at_k': 0.0006859383}\n",
      "Iteration 43 from 72 2021-06-20 00:49:58.087964 (spent 0:02:07.411787)\n",
      "{'item_alpha': 0.5, 'learning_rate': 0.01, 'loss': 'warp', 'no_components': 10, 'user_alpha': 0, 'precision_at_k': 0.0011758942}\n",
      "Iteration 44 from 72 2021-06-20 00:52:02.681541 (spent 0:02:04.544578)\n",
      "{'item_alpha': 0.5, 'learning_rate': 0.01, 'loss': 'warp', 'no_components': 10, 'user_alpha': 0.5, 'precision_at_k': 0.0028417443}\n",
      "Iteration 45 from 72 2021-06-20 00:54:03.918828 (spent 0:02:01.237287)\n",
      "{'item_alpha': 0.5, 'learning_rate': 0.01, 'loss': 'warp', 'no_components': 20, 'user_alpha': 0, 'precision_at_k': 0.0017638413}\n",
      "Iteration 46 from 72 2021-06-20 00:56:17.357544 (spent 0:02:13.438716)\n",
      "{'item_alpha': 0.5, 'learning_rate': 0.01, 'loss': 'warp', 'no_components': 20, 'user_alpha': 0.5, 'precision_at_k': 0.006369427}\n",
      "Iteration 47 from 72 2021-06-20 00:58:52.915974 (spent 0:02:35.557436)\n",
      "{'item_alpha': 0.5, 'learning_rate': 0.01, 'loss': 'warp', 'no_components': 40, 'user_alpha': 0, 'precision_at_k': 0.0013718766}\n",
      "Iteration 48 from 72 2021-06-20 01:01:13.748718 (spent 0:02:20.832744)\n",
      "{'item_alpha': 0.5, 'learning_rate': 0.01, 'loss': 'warp', 'no_components': 40, 'user_alpha': 0.5, 'precision_at_k': 0.0018618326}\n",
      "Iteration 49 from 72 2021-06-20 01:02:57.813117 (spent 0:01:44.064399)\n",
      "{'item_alpha': 0.5, 'learning_rate': 0.05, 'loss': 'bpr', 'no_components': 10, 'user_alpha': 0, 'precision_at_k': 0.004801568}\n",
      "Iteration 50 from 72 2021-06-20 01:04:27.715599 (spent 0:01:29.902482)\n",
      "{'item_alpha': 0.5, 'learning_rate': 0.05, 'loss': 'bpr', 'no_components': 10, 'user_alpha': 0.5, 'precision_at_k': 0.0012738853}\n",
      "Iteration 51 from 72 2021-06-20 01:06:31.486751 (spent 0:02:03.770151)\n",
      "{'item_alpha': 0.5, 'learning_rate': 0.05, 'loss': 'bpr', 'no_components': 20, 'user_alpha': 0, 'precision_at_k': 0.0011758942}\n",
      "Iteration 52 from 72 2021-06-20 01:08:32.062649 (spent 0:02:00.575898)\n",
      "{'item_alpha': 0.5, 'learning_rate': 0.05, 'loss': 'bpr', 'no_components': 20, 'user_alpha': 0.5, 'precision_at_k': 0.0006859382}\n",
      "Iteration 53 from 72 2021-06-20 01:11:08.424155 (spent 0:02:36.362522)\n",
      "{'item_alpha': 0.5, 'learning_rate': 0.05, 'loss': 'bpr', 'no_components': 40, 'user_alpha': 0, 'precision_at_k': 0.0013718766}\n",
      "Iteration 54 from 72 2021-06-20 01:14:18.303838 (spent 0:03:09.843681)\n",
      "{'item_alpha': 0.5, 'learning_rate': 0.05, 'loss': 'bpr', 'no_components': 40, 'user_alpha': 0.5, 'precision_at_k': 0.0013718765}\n",
      "Iteration 55 from 72 2021-06-20 01:16:11.228575 (spent 0:01:52.923736)\n",
      "{'item_alpha': 0.5, 'learning_rate': 0.05, 'loss': 'warp', 'no_components': 10, 'user_alpha': 0, 'precision_at_k': 0.001077903}\n",
      "Iteration 56 from 72 2021-06-20 01:18:44.129066 (spent 0:02:32.900491)\n",
      "{'item_alpha': 0.5, 'learning_rate': 0.05, 'loss': 'warp', 'no_components': 10, 'user_alpha': 0.5, 'precision_at_k': 0.0009799118}\n",
      "Iteration 57 from 72 2021-06-20 01:21:37.789405 (spent 0:02:53.658340)\n",
      "{'item_alpha': 0.5, 'learning_rate': 0.05, 'loss': 'warp', 'no_components': 20, 'user_alpha': 0, 'precision_at_k': 0.0012738853}\n",
      "Iteration 58 from 72 2021-06-20 01:24:00.082751 (spent 0:02:22.292343)\n",
      "{'item_alpha': 0.5, 'learning_rate': 0.05, 'loss': 'warp', 'no_components': 20, 'user_alpha': 0.5, 'precision_at_k': 0.0025477707}\n",
      "Iteration 59 from 72 2021-06-20 01:26:56.551122 (spent 0:02:56.449371)\n",
      "{'item_alpha': 0.5, 'learning_rate': 0.05, 'loss': 'warp', 'no_components': 40, 'user_alpha': 0, 'precision_at_k': 0.0019598235}\n",
      "Iteration 60 from 72 2021-06-20 01:28:41.102131 (spent 0:01:44.550020)\n",
      "{'item_alpha': 0.5, 'learning_rate': 0.05, 'loss': 'warp', 'no_components': 40, 'user_alpha': 0.5, 'precision_at_k': 0.0016658502}\n",
      "Iteration 61 from 72 2021-06-20 01:30:20.181068 (spent 0:01:39.078937)\n",
      "{'item_alpha': 0.5, 'learning_rate': 0.1, 'loss': 'bpr', 'no_components': 10, 'user_alpha': 0, 'precision_at_k': 0.0011758942}\n",
      "Iteration 62 from 72 2021-06-20 01:32:05.567827 (spent 0:01:45.386759)\n",
      "{'item_alpha': 0.5, 'learning_rate': 0.1, 'loss': 'bpr', 'no_components': 10, 'user_alpha': 0.5, 'precision_at_k': 0.0007839295}\n",
      "Iteration 63 from 72 2021-06-20 01:34:06.515823 (spent 0:02:00.947996)\n",
      "{'item_alpha': 0.5, 'learning_rate': 0.1, 'loss': 'bpr', 'no_components': 20, 'user_alpha': 0, 'precision_at_k': 0.0017638414}\n",
      "Iteration 64 from 72 2021-06-20 01:35:57.447915 (spent 0:01:50.930093)\n",
      "{'item_alpha': 0.5, 'learning_rate': 0.1, 'loss': 'bpr', 'no_components': 20, 'user_alpha': 0.5, 'precision_at_k': 0.0006859382}\n",
      "Iteration 65 from 72 2021-06-20 01:38:23.854960 (spent 0:02:26.406035)\n",
      "{'item_alpha': 0.5, 'learning_rate': 0.1, 'loss': 'bpr', 'no_components': 40, 'user_alpha': 0, 'precision_at_k': 0.0008819206}\n",
      "Iteration 66 from 72 2021-06-20 01:40:45.294314 (spent 0:02:21.437354)\n",
      "{'item_alpha': 0.5, 'learning_rate': 0.1, 'loss': 'bpr', 'no_components': 40, 'user_alpha': 0.5, 'precision_at_k': 0.001077903}\n",
      "Iteration 67 from 72 2021-06-20 01:42:16.606132 (spent 0:01:31.310834)\n",
      "{'item_alpha': 0.5, 'learning_rate': 0.1, 'loss': 'warp', 'no_components': 10, 'user_alpha': 0, 'precision_at_k': 0.0022537974}\n",
      "Iteration 68 from 72 2021-06-20 01:43:28.684910 (spent 0:01:12.078778)\n",
      "{'item_alpha': 0.5, 'learning_rate': 0.1, 'loss': 'warp', 'no_components': 10, 'user_alpha': 0.5, 'precision_at_k': 0.005193533}\n",
      "Iteration 69 from 72 2021-06-20 01:44:55.491156 (spent 0:01:26.805246)\n",
      "{'item_alpha': 0.5, 'learning_rate': 0.1, 'loss': 'warp', 'no_components': 20, 'user_alpha': 0, 'precision_at_k': 0.0020578147}\n",
      "Iteration 70 from 72 2021-06-20 01:46:17.132123 (spent 0:01:21.640967)\n",
      "{'item_alpha': 0.5, 'learning_rate': 0.1, 'loss': 'warp', 'no_components': 20, 'user_alpha': 0.5, 'precision_at_k': 0.0012738854}\n",
      "Iteration 71 from 72 2021-06-20 01:48:13.121443 (spent 0:01:55.989319)\n",
      "{'item_alpha': 0.5, 'learning_rate': 0.1, 'loss': 'warp', 'no_components': 40, 'user_alpha': 0, 'precision_at_k': 0.002057815}\n",
      "Iteration 72 from 72 2021-06-20 01:49:51.530355 (spent 0:01:38.407903)\n",
      "{'item_alpha': 0.5, 'learning_rate': 0.1, 'loss': 'warp', 'no_components': 40, 'user_alpha': 0.5, 'precision_at_k': 0.0018618325}\n"
     ]
    }
   ],
   "source": [
    "import datetime\n",
    "from sklearn.model_selection import ParameterGrid\n",
    "\n",
    "\n",
    "def grid_search(param_grid: dict) -> dict:\n",
    "    time: datetime.datetime = datetime.datetime.now()\n",
    "    results: dict = dict()\n",
    "    grid: list = list(ParameterGrid(param_grid))\n",
    "    cnt: int = 0\n",
    "    for params in grid:\n",
    "        cnt += 1\n",
    "        results[cnt] = params\n",
    "        \n",
    "        model = LightFM(\n",
    "            random_state=42,\n",
    "            **params,\n",
    "        )\n",
    "        model.fit(\n",
    "            (sparse_user_item > 0) * 1,  # user-item matrix из 0 и 1\n",
    "            sample_weight=coo_matrix(user_item_matrix),\n",
    "            user_features=csr_matrix(user_feat_lightfm.values).tocsr(),\n",
    "            item_features=csr_matrix(item_feat_lightfm.values).tocsr(),\n",
    "            epochs=1, \n",
    "            num_threads=4,\n",
    "            verbose=False,\n",
    "        )\n",
    "\n",
    "        precision = precision_at_k(\n",
    "            model,\n",
    "            csr_matrix(test_user_item_matrix).tocsr(),\n",
    "            user_features=csr_matrix(user_feat_lightfm.values).tocsr(),\n",
    "            item_features=csr_matrix(item_feat_lightfm.values).tocsr(),\n",
    "            k=5\n",
    "        )\n",
    "\n",
    "        results[cnt].update({'precision_at_k': precision.mean()})\n",
    "\n",
    "        print(f'Iteration {cnt} from {len(grid)} {datetime.datetime.now()} (spent {datetime.datetime.now() - time})')\n",
    "        print(results[cnt])\n",
    "        time = datetime.datetime.now()\n",
    "\n",
    "    return results\n",
    "\n",
    "param_grid = {\n",
    "    'no_components': [10, 20, 40],\n",
    "    'loss': ['bpr', 'warp'],\n",
    "    'learning_rate': [0.01, 0.05, 0.1], \n",
    "    'item_alpha': [0, 0.5],\n",
    "    'user_alpha': [0, 0.5],\n",
    "}\n",
    "results = grid_search(param_grid)"
   ]
  },
  {
   "cell_type": "code",
   "execution_count": 51,
   "metadata": {},
   "outputs": [
    {
     "output_type": "execute_result",
     "data": {
      "text/plain": [
       "    item_alpha  learning_rate  loss  no_components  user_alpha  precision_at_k\n",
       "46         0.5           0.01  warp             20         0.5        0.006369\n",
       "68         0.5           0.10  warp             10         0.5        0.005194\n",
       "34         0.0           0.10  warp             20         0.5        0.004900\n",
       "36         0.0           0.10  warp             40         0.5        0.004802\n",
       "49         0.5           0.05   bpr             10         0.0        0.004802\n",
       "..         ...            ...   ...            ...         ...             ...\n",
       "37         0.5           0.01   bpr             10         0.0        0.000490\n",
       "38         0.5           0.01   bpr             10         0.5        0.000490\n",
       "1          0.0           0.01   bpr             10         0.0        0.000392\n",
       "2          0.0           0.01   bpr             10         0.5        0.000294\n",
       "26         0.0           0.10   bpr             10         0.5        0.000000\n",
       "\n",
       "[72 rows x 6 columns]"
      ],
      "text/html": "<div>\n<style scoped>\n    .dataframe tbody tr th:only-of-type {\n        vertical-align: middle;\n    }\n\n    .dataframe tbody tr th {\n        vertical-align: top;\n    }\n\n    .dataframe thead th {\n        text-align: right;\n    }\n</style>\n<table border=\"1\" class=\"dataframe\">\n  <thead>\n    <tr style=\"text-align: right;\">\n      <th></th>\n      <th>item_alpha</th>\n      <th>learning_rate</th>\n      <th>loss</th>\n      <th>no_components</th>\n      <th>user_alpha</th>\n      <th>precision_at_k</th>\n    </tr>\n  </thead>\n  <tbody>\n    <tr>\n      <th>46</th>\n      <td>0.5</td>\n      <td>0.01</td>\n      <td>warp</td>\n      <td>20</td>\n      <td>0.5</td>\n      <td>0.006369</td>\n    </tr>\n    <tr>\n      <th>68</th>\n      <td>0.5</td>\n      <td>0.10</td>\n      <td>warp</td>\n      <td>10</td>\n      <td>0.5</td>\n      <td>0.005194</td>\n    </tr>\n    <tr>\n      <th>34</th>\n      <td>0.0</td>\n      <td>0.10</td>\n      <td>warp</td>\n      <td>20</td>\n      <td>0.5</td>\n      <td>0.004900</td>\n    </tr>\n    <tr>\n      <th>36</th>\n      <td>0.0</td>\n      <td>0.10</td>\n      <td>warp</td>\n      <td>40</td>\n      <td>0.5</td>\n      <td>0.004802</td>\n    </tr>\n    <tr>\n      <th>49</th>\n      <td>0.5</td>\n      <td>0.05</td>\n      <td>bpr</td>\n      <td>10</td>\n      <td>0.0</td>\n      <td>0.004802</td>\n    </tr>\n    <tr>\n      <th>...</th>\n      <td>...</td>\n      <td>...</td>\n      <td>...</td>\n      <td>...</td>\n      <td>...</td>\n      <td>...</td>\n    </tr>\n    <tr>\n      <th>37</th>\n      <td>0.5</td>\n      <td>0.01</td>\n      <td>bpr</td>\n      <td>10</td>\n      <td>0.0</td>\n      <td>0.000490</td>\n    </tr>\n    <tr>\n      <th>38</th>\n      <td>0.5</td>\n      <td>0.01</td>\n      <td>bpr</td>\n      <td>10</td>\n      <td>0.5</td>\n      <td>0.000490</td>\n    </tr>\n    <tr>\n      <th>1</th>\n      <td>0.0</td>\n      <td>0.01</td>\n      <td>bpr</td>\n      <td>10</td>\n      <td>0.0</td>\n      <td>0.000392</td>\n    </tr>\n    <tr>\n      <th>2</th>\n      <td>0.0</td>\n      <td>0.01</td>\n      <td>bpr</td>\n      <td>10</td>\n      <td>0.5</td>\n      <td>0.000294</td>\n    </tr>\n    <tr>\n      <th>26</th>\n      <td>0.0</td>\n      <td>0.10</td>\n      <td>bpr</td>\n      <td>10</td>\n      <td>0.5</td>\n      <td>0.000000</td>\n    </tr>\n  </tbody>\n</table>\n<p>72 rows × 6 columns</p>\n</div>"
     },
     "metadata": {},
     "execution_count": 51
    }
   ],
   "source": [
    "pd.DataFrame.from_dict(results, orient='index').sort_values(by='precision_at_k', ascending=False)"
   ]
  }
 ],
 "metadata": {
  "kernelspec": {
   "name": "python3",
   "display_name": "Python 3.7.7 64-bit"
  },
  "language_info": {
   "codemirror_mode": {
    "name": "ipython",
    "version": 3
   },
   "file_extension": ".py",
   "mimetype": "text/x-python",
   "name": "python",
   "nbconvert_exporter": "python",
   "pygments_lexer": "ipython3",
   "version": "3.7.7"
  },
  "metadata": {
   "interpreter": {
    "hash": "ca35beca1e73f0e8e48de5d26c91c8a581bc78491f6978c6ebd776970508bb03"
   }
  },
  "interpreter": {
   "hash": "ca35beca1e73f0e8e48de5d26c91c8a581bc78491f6978c6ebd776970508bb03"
  }
 },
 "nbformat": 4,
 "nbformat_minor": 2
}