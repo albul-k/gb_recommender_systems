{
 "cells": [
  {
   "cell_type": "markdown",
   "metadata": {},
   "source": [
    "# Вебинар 6. Двухуровневые модели рекомендаций\n"
   ]
  },
  {
   "cell_type": "markdown",
   "metadata": {},
   "source": [
    "# Import libs"
   ]
  },
  {
   "cell_type": "code",
   "execution_count": 1,
   "metadata": {},
   "outputs": [],
   "source": [
    "import pandas as pd\n",
    "import numpy as np\n",
    "import matplotlib.pyplot as plt\n",
    "import seaborn as sns\n",
    "%matplotlib inline\n",
    "\n",
    "# Для работы с матрицами\n",
    "from scipy.sparse import csr_matrix\n",
    "\n",
    "# Матричная факторизация\n",
    "from implicit import als\n",
    "\n",
    "# Модель второго уровня\n",
    "from catboost import CatBoostClassifier, Pool\n",
    "\n",
    "import os, sys\n",
    "module_path = os.path.abspath(os.path.join(os.pardir))\n",
    "if module_path not in sys.path:\n",
    "    sys.path.append(module_path)\n",
    "\n",
    "# Написанные нами функции\n",
    "from metrics import precision_at_k, recall_at_k\n",
    "from utils import prefilter_items\n",
    "from recommenders import MainRecommender"
   ]
  },
  {
   "cell_type": "markdown",
   "metadata": {},
   "source": [
    "## Read data"
   ]
  },
  {
   "cell_type": "code",
   "execution_count": 2,
   "metadata": {},
   "outputs": [],
   "source": [
    "data = pd.read_csv('./lessons/web2/retail_train.csv')\n",
    "item_features = pd.read_csv('./lessons/web2/product.csv')\n",
    "user_features = pd.read_csv('./lessons/web2/hh_demographic.csv')"
   ]
  },
  {
   "cell_type": "markdown",
   "metadata": {},
   "source": [
    "# Process features dataset"
   ]
  },
  {
   "cell_type": "code",
   "execution_count": 3,
   "metadata": {},
   "outputs": [],
   "source": [
    "ITEM_COL = 'item_id'\n",
    "USER_COL = 'user_id'\n",
    "ACTUAL_COL = 'actual'"
   ]
  },
  {
   "cell_type": "code",
   "execution_count": 4,
   "metadata": {},
   "outputs": [],
   "source": [
    "# column processing\n",
    "item_features.columns = [col.lower() for col in item_features.columns]\n",
    "user_features.columns = [col.lower() for col in user_features.columns]\n",
    "\n",
    "item_features.rename(columns={'product_id': ITEM_COL}, inplace=True)\n",
    "user_features.rename(columns={'household_key': USER_COL }, inplace=True)"
   ]
  },
  {
   "cell_type": "markdown",
   "metadata": {},
   "source": [
    "# Split dataset for train, eval, test"
   ]
  },
  {
   "cell_type": "code",
   "execution_count": 5,
   "metadata": {},
   "outputs": [],
   "source": [
    "# Важна схема обучения и валидации!\n",
    "# -- давние покупки -- | -- 6 недель -- | -- 3 недель -- \n",
    "# подобрать размер 2-ого датасета (6 недель) --> learning curve (зависимость метрики recall@k от размера датасета)\n",
    "\n",
    "VAL_MATCHER_WEEKS = 6\n",
    "VAL_RANKER_WEEKS = 3"
   ]
  },
  {
   "cell_type": "code",
   "execution_count": 6,
   "metadata": {
    "scrolled": true
   },
   "outputs": [],
   "source": [
    "# берем данные для тренировки matching модели\n",
    "data_train_matcher = data[data['week_no'] < data['week_no'].max() - (VAL_MATCHER_WEEKS + VAL_RANKER_WEEKS)]\n",
    "\n",
    "# берем данные для валидации matching модели\n",
    "data_val_matcher = data[(data['week_no'] >= data['week_no'].max() - (VAL_MATCHER_WEEKS + VAL_RANKER_WEEKS)) &\n",
    "                      (data['week_no'] < data['week_no'].max() - (VAL_RANKER_WEEKS))]\n",
    "\n",
    "# берем данные для тренировки ranking модели\n",
    "data_train_ranker = data_val_matcher.copy()  # Для наглядности. Далее мы добавим изменения, и они будут отличаться\n",
    "\n",
    "# берем данные для теста ranking, matching модели\n",
    "data_val_ranker = data[data['week_no'] >= data['week_no'].max() - VAL_RANKER_WEEKS]"
   ]
  },
  {
   "cell_type": "code",
   "execution_count": 7,
   "metadata": {},
   "outputs": [],
   "source": [
    "def print_stats_data(df_data, name_df):\n",
    "    print(name_df)\n",
    "    print(f\"Shape: {df_data.shape} Users: {df_data[USER_COL].nunique()} Items: {df_data[ITEM_COL].nunique()}\")"
   ]
  },
  {
   "cell_type": "code",
   "execution_count": 8,
   "metadata": {
    "scrolled": true
   },
   "outputs": [
    {
     "output_type": "stream",
     "name": "stdout",
     "text": [
      "train_matcher\n",
      "Shape: (2108779, 12) Users: 2498 Items: 83685\n",
      "val_matcher\n",
      "Shape: (169711, 12) Users: 2154 Items: 27649\n",
      "train_ranker\n",
      "Shape: (169711, 12) Users: 2154 Items: 27649\n",
      "val_ranker\n",
      "Shape: (118314, 12) Users: 2042 Items: 24329\n"
     ]
    }
   ],
   "source": [
    "print_stats_data(data_train_matcher,'train_matcher')\n",
    "print_stats_data(data_val_matcher,'val_matcher')\n",
    "print_stats_data(data_train_ranker,'train_ranker')\n",
    "print_stats_data(data_val_ranker,'val_ranker')"
   ]
  },
  {
   "cell_type": "code",
   "execution_count": 9,
   "metadata": {},
   "outputs": [
    {
     "output_type": "execute_result",
     "data": {
      "text/plain": [
       "   user_id    basket_id  day  item_id  quantity  sales_value  store_id  \\\n",
       "0     2375  26984851472    1  1004906         1         1.39       364   \n",
       "1     2375  26984851472    1  1033142         1         0.82       364   \n",
       "\n",
       "   retail_disc  trans_time  week_no  coupon_disc  coupon_match_disc  \n",
       "0         -0.6        1631        1          0.0                0.0  \n",
       "1          0.0        1631        1          0.0                0.0  "
      ],
      "text/html": "<div>\n<style scoped>\n    .dataframe tbody tr th:only-of-type {\n        vertical-align: middle;\n    }\n\n    .dataframe tbody tr th {\n        vertical-align: top;\n    }\n\n    .dataframe thead th {\n        text-align: right;\n    }\n</style>\n<table border=\"1\" class=\"dataframe\">\n  <thead>\n    <tr style=\"text-align: right;\">\n      <th></th>\n      <th>user_id</th>\n      <th>basket_id</th>\n      <th>day</th>\n      <th>item_id</th>\n      <th>quantity</th>\n      <th>sales_value</th>\n      <th>store_id</th>\n      <th>retail_disc</th>\n      <th>trans_time</th>\n      <th>week_no</th>\n      <th>coupon_disc</th>\n      <th>coupon_match_disc</th>\n    </tr>\n  </thead>\n  <tbody>\n    <tr>\n      <th>0</th>\n      <td>2375</td>\n      <td>26984851472</td>\n      <td>1</td>\n      <td>1004906</td>\n      <td>1</td>\n      <td>1.39</td>\n      <td>364</td>\n      <td>-0.6</td>\n      <td>1631</td>\n      <td>1</td>\n      <td>0.0</td>\n      <td>0.0</td>\n    </tr>\n    <tr>\n      <th>1</th>\n      <td>2375</td>\n      <td>26984851472</td>\n      <td>1</td>\n      <td>1033142</td>\n      <td>1</td>\n      <td>0.82</td>\n      <td>364</td>\n      <td>0.0</td>\n      <td>1631</td>\n      <td>1</td>\n      <td>0.0</td>\n      <td>0.0</td>\n    </tr>\n  </tbody>\n</table>\n</div>"
     },
     "metadata": {},
     "execution_count": 9
    }
   ],
   "source": [
    "data_train_matcher.head(2)"
   ]
  },
  {
   "cell_type": "markdown",
   "metadata": {},
   "source": [
    "# Prefilter items"
   ]
  },
  {
   "cell_type": "code",
   "execution_count": 10,
   "metadata": {},
   "outputs": [
    {
     "output_type": "stream",
     "name": "stderr",
     "text": [
      "c:\\Users\\konst\\Repo\\education\\gb_recommender_systems\\utils.py:20: SettingWithCopyWarning: \n",
      "A value is trying to be set on a copy of a slice from a DataFrame.\n",
      "Try using .loc[row_indexer,col_indexer] = value instead\n",
      "\n",
      "See the caveats in the documentation: https://pandas.pydata.org/pandas-docs/stable/user_guide/indexing.html#returning-a-view-versus-a-copy\n",
      "  data['price'] = data['sales_value'] / (np.maximum(data['quantity'], 1))\n",
      "Decreased # items from 83685 to 5001\n"
     ]
    }
   ],
   "source": [
    "n_items_before = data_train_matcher['item_id'].nunique()\n",
    "\n",
    "data_train_matcher = prefilter_items(data_train_matcher, item_features=item_features, take_n_popular=5000)\n",
    "\n",
    "n_items_after = data_train_matcher['item_id'].nunique()\n",
    "print('Decreased # items from {} to {}'.format(n_items_before, n_items_after))"
   ]
  },
  {
   "cell_type": "markdown",
   "metadata": {},
   "source": [
    "# Make cold-start to warm-start"
   ]
  },
  {
   "cell_type": "code",
   "execution_count": 11,
   "metadata": {},
   "outputs": [
    {
     "output_type": "stream",
     "name": "stdout",
     "text": [
      "train_matcher\nShape: (861404, 13) Users: 2495 Items: 5001\nval_matcher\nShape: (169615, 12) Users: 2151 Items: 27644\ntrain_ranker\nShape: (169615, 12) Users: 2151 Items: 27644\nval_ranker\nShape: (118282, 12) Users: 2040 Items: 24325\n"
     ]
    }
   ],
   "source": [
    "# ищем общих пользователей\n",
    "common_users = data_train_matcher.user_id.values\n",
    "\n",
    "data_val_matcher = data_val_matcher[data_val_matcher.user_id.isin(common_users)]\n",
    "data_train_ranker = data_train_ranker[data_train_ranker.user_id.isin(common_users)]\n",
    "data_val_ranker = data_val_ranker[data_val_ranker.user_id.isin(common_users)]\n",
    "\n",
    "print_stats_data(data_train_matcher,'train_matcher')\n",
    "print_stats_data(data_val_matcher,'val_matcher')\n",
    "print_stats_data(data_train_ranker,'train_ranker')\n",
    "print_stats_data(data_val_ranker,'val_ranker')"
   ]
  },
  {
   "cell_type": "markdown",
   "metadata": {},
   "source": [
    "# Init/train recommender"
   ]
  },
  {
   "cell_type": "code",
   "execution_count": 12,
   "metadata": {},
   "outputs": [
    {
     "output_type": "stream",
     "name": "stderr",
     "text": [
      "WARNING:root:OpenBLAS detected. Its highly recommend to set the environment variable 'export OPENBLAS_NUM_THREADS=1' to disable its internal multithreading\n",
      "100%|██████████| 10/10 [00:07<00:00,  1.26it/s]\n",
      "100%|██████████| 5001/5001 [00:00<00:00, 24512.21it/s]\n",
      "100%|██████████| 5001/5001 [00:00<00:00, 23920.69it/s]\n",
      "100%|██████████| 5001/5001 [00:00<00:00, 25708.90it/s]\n"
     ]
    }
   ],
   "source": [
    "# als_params = None\n",
    "als_params = {\n",
    "    'factors': 128,\n",
    "    'regularization': 0.05,\n",
    "    'iterations': 10,\n",
    "    'num_threads': 4,\n",
    "}\n",
    "\n",
    "recommender = MainRecommender(data_train_matcher, weighting_type='tfidf', als_params=als_params)"
   ]
  },
  {
   "cell_type": "markdown",
   "metadata": {},
   "source": [
    "# Eval recall of matching"
   ]
  },
  {
   "cell_type": "code",
   "execution_count": 13,
   "metadata": {
    "scrolled": true
   },
   "outputs": [
    {
     "output_type": "execute_result",
     "data": {
      "text/plain": [
       "   user_id                                             actual\n",
       "0        1  [853529, 865456, 867607, 872137, 874905, 87524...\n",
       "1        2  [15830248, 838136, 839656, 861272, 866211, 870..."
      ],
      "text/html": "<div>\n<style scoped>\n    .dataframe tbody tr th:only-of-type {\n        vertical-align: middle;\n    }\n\n    .dataframe tbody tr th {\n        vertical-align: top;\n    }\n\n    .dataframe thead th {\n        text-align: right;\n    }\n</style>\n<table border=\"1\" class=\"dataframe\">\n  <thead>\n    <tr style=\"text-align: right;\">\n      <th></th>\n      <th>user_id</th>\n      <th>actual</th>\n    </tr>\n  </thead>\n  <tbody>\n    <tr>\n      <th>0</th>\n      <td>1</td>\n      <td>[853529, 865456, 867607, 872137, 874905, 87524...</td>\n    </tr>\n    <tr>\n      <th>1</th>\n      <td>2</td>\n      <td>[15830248, 838136, 839656, 861272, 866211, 870...</td>\n    </tr>\n  </tbody>\n</table>\n</div>"
     },
     "metadata": {},
     "execution_count": 13
    }
   ],
   "source": [
    "result_eval_matcher = data_val_matcher.groupby(USER_COL)[ITEM_COL].unique().reset_index()\n",
    "result_eval_matcher.columns=[USER_COL, ACTUAL_COL]\n",
    "result_eval_matcher.head(2)"
   ]
  },
  {
   "cell_type": "code",
   "execution_count": 14,
   "metadata": {},
   "outputs": [
    {
     "output_type": "stream",
     "name": "stdout",
     "text": [
      "own_rec=0.03247640940823699\n",
      "sim_item_rec=0.022180495444091165\n",
      "tfidf_rec=0.0693253113171965\n",
      "cosine_rec=0.0676801154187011\n",
      "als_rec=0.053896537704620676\n"
     ]
    }
   ],
   "source": [
    "def evalRecall(df_result: pd.DataFrame, target_col_name: str, result_col_name: str, recommend_model: MainRecommender, N: int, actual_col: str, N_predict: int):\n",
    "    df_result[result_col_name] = df_result[target_col_name].apply(lambda x: recommend_model(x, N=N))\n",
    "    return df_result.apply(lambda row: recall_at_k(row[result_col_name], row[actual_col], k=N_predict), axis=1).mean()\n",
    "\n",
    "result_params: dict = {\n",
    "    'own_rec': recommender.get_own_recommendations,\n",
    "    'sim_item_rec': recommender.get_similar_items_recommendation,\n",
    "    # 'sim_user_rec': recommender.get_similar_users_recommendation,\n",
    "    'tfidf_rec': recommender.get_tfidf_recommendations,\n",
    "    'cosine_rec': recommender.get_cosine_recommendations,\n",
    "    'als_rec': recommender.get_als_recommendations,\n",
    "}\n",
    "\n",
    "# N = Neighbors\n",
    "N_PREDICT = 50\n",
    "\n",
    "for rec_name, rec_model in result_params.items():\n",
    "    result = evalRecall(result_eval_matcher, USER_COL, rec_name, rec_model, 25, ACTUAL_COL, N_PREDICT)\n",
    "    print('{}={}'.format(rec_name, result))"
   ]
  },
  {
   "source": [
    "    bm25\n",
    "    ----\n",
    "    own_rec=0.0441195473958354\n",
    "    sim_item_rec=0.019855746040557797\n",
    "    tfidf_rec=0.05081053405831492\n",
    "    cosine_rec=0.04221593077869987\n",
    "\n",
    "    als_rec=0.033331734651510986 (default ALS params)\n",
    "    als_rec=0.048982775644030245 (optimized ALS params)\n",
    "\n",
    "    tfidf\n",
    "    ----\n",
    "    own_rec=0.03247640940823699\n",
    "    sim_item_rec=0.01968387790837418\n",
    "    tfidf_rec=0.0693253113171965\n",
    "    cosine_rec=0.0676801154187011\n",
    "\n",
    "    als_rec=0.04237601076260919 (default ALS params)\n",
    "    als_rec=0.053494135108441816 (optimized ALS params)"
   ],
   "cell_type": "markdown",
   "metadata": {}
  },
  {
   "source": [
    "## Best results is `tfidf_rec=0.069`: `weight_type='tfidf'`"
   ],
   "cell_type": "markdown",
   "metadata": {}
  },
  {
   "cell_type": "code",
   "execution_count": 15,
   "metadata": {},
   "outputs": [],
   "source": [
    "def calc_recall(df_data: pd.DataFrame, top_k: int, actual_col: str):\n",
    "    for col_name in df_data.columns[2:]:\n",
    "        yield col_name, df_data.apply(lambda row: recall_at_k(row[col_name], row[actual_col], k=top_k), axis=1).mean()"
   ]
  },
  {
   "cell_type": "code",
   "execution_count": 16,
   "metadata": {},
   "outputs": [],
   "source": [
    "def calc_precision(df_data: pd.DataFrame, top_k: int, actual_col: str):\n",
    "    for col_name in df_data.columns[2:]:\n",
    "        yield col_name, df_data.apply(lambda row: precision_at_k(row[col_name], row[actual_col], k=top_k), axis=1).mean()"
   ]
  },
  {
   "cell_type": "markdown",
   "metadata": {},
   "source": [
    "### Recall@50 of matching"
   ]
  },
  {
   "cell_type": "code",
   "execution_count": 17,
   "metadata": {
    "scrolled": false
   },
   "outputs": [
    {
     "output_type": "execute_result",
     "data": {
      "text/plain": [
       "<matplotlib.axes._subplots.AxesSubplot at 0x27db6582788>"
      ]
     },
     "metadata": {},
     "execution_count": 17
    },
    {
     "output_type": "display_data",
     "data": {
      "text/plain": "<Figure size 1440x360 with 1 Axes>",
      "image/svg+xml": "<?xml version=\"1.0\" encoding=\"utf-8\" standalone=\"no\"?>\r\n<!DOCTYPE svg PUBLIC \"-//W3C//DTD SVG 1.1//EN\"\r\n  \"http://www.w3.org/Graphics/SVG/1.1/DTD/svg11.dtd\">\r\n<!-- Created with matplotlib (https://matplotlib.org/) -->\r\n<svg height=\"302.878125pt\" version=\"1.1\" viewBox=\"0 0 1159.665625 302.878125\" width=\"1159.665625pt\" xmlns=\"http://www.w3.org/2000/svg\" xmlns:xlink=\"http://www.w3.org/1999/xlink\">\r\n <defs>\r\n  <style type=\"text/css\">\r\n*{stroke-linecap:butt;stroke-linejoin:round;}\r\n  </style>\r\n </defs>\r\n <g id=\"figure_1\">\r\n  <g id=\"patch_1\">\r\n   <path d=\"M 0 302.878125 \r\nL 1159.665625 302.878125 \r\nL 1159.665625 0 \r\nL 0 0 \r\nz\r\n\" style=\"fill:none;\"/>\r\n  </g>\r\n  <g id=\"axes_1\">\r\n   <g id=\"patch_2\">\r\n    <path d=\"M 36.465625 279 \r\nL 1152.465625 279 \r\nL 1152.465625 7.2 \r\nL 36.465625 7.2 \r\nz\r\n\" style=\"fill:#ffffff;\"/>\r\n   </g>\r\n   <g id=\"matplotlib.axis_1\">\r\n    <g id=\"xtick_1\">\r\n     <g id=\"line2d_1\">\r\n      <defs>\r\n       <path d=\"M 0 0 \r\nL 0 3.5 \r\n\" id=\"m9a95d34bdf\" style=\"stroke:#000000;stroke-width:0.8;\"/>\r\n      </defs>\r\n      <g>\r\n       <use style=\"stroke:#000000;stroke-width:0.8;\" x=\"66.487888\" xlink:href=\"#m9a95d34bdf\" y=\"279\"/>\r\n      </g>\r\n     </g>\r\n     <g id=\"text_1\">\r\n      <!-- 0 -->\r\n      <defs>\r\n       <path d=\"M 31.78125 66.40625 \r\nQ 24.171875 66.40625 20.328125 58.90625 \r\nQ 16.5 51.421875 16.5 36.375 \r\nQ 16.5 21.390625 20.328125 13.890625 \r\nQ 24.171875 6.390625 31.78125 6.390625 \r\nQ 39.453125 6.390625 43.28125 13.890625 \r\nQ 47.125 21.390625 47.125 36.375 \r\nQ 47.125 51.421875 43.28125 58.90625 \r\nQ 39.453125 66.40625 31.78125 66.40625 \r\nz\r\nM 31.78125 74.21875 \r\nQ 44.046875 74.21875 50.515625 64.515625 \r\nQ 56.984375 54.828125 56.984375 36.375 \r\nQ 56.984375 17.96875 50.515625 8.265625 \r\nQ 44.046875 -1.421875 31.78125 -1.421875 \r\nQ 19.53125 -1.421875 13.0625 8.265625 \r\nQ 6.59375 17.96875 6.59375 36.375 \r\nQ 6.59375 54.828125 13.0625 64.515625 \r\nQ 19.53125 74.21875 31.78125 74.21875 \r\nz\r\n\" id=\"DejaVuSans-48\"/>\r\n      </defs>\r\n      <g transform=\"translate(63.306638 293.598437)scale(0.1 -0.1)\">\r\n       <use xlink:href=\"#DejaVuSans-48\"/>\r\n      </g>\r\n     </g>\r\n    </g>\r\n    <g id=\"xtick_2\">\r\n     <g id=\"line2d_2\">\r\n      <g>\r\n       <use style=\"stroke:#000000;stroke-width:0.8;\" x=\"273.537981\" xlink:href=\"#m9a95d34bdf\" y=\"279\"/>\r\n      </g>\r\n     </g>\r\n     <g id=\"text_2\">\r\n      <!-- 100 -->\r\n      <defs>\r\n       <path d=\"M 12.40625 8.296875 \r\nL 28.515625 8.296875 \r\nL 28.515625 63.921875 \r\nL 10.984375 60.40625 \r\nL 10.984375 69.390625 \r\nL 28.421875 72.90625 \r\nL 38.28125 72.90625 \r\nL 38.28125 8.296875 \r\nL 54.390625 8.296875 \r\nL 54.390625 0 \r\nL 12.40625 0 \r\nz\r\n\" id=\"DejaVuSans-49\"/>\r\n      </defs>\r\n      <g transform=\"translate(263.994231 293.598437)scale(0.1 -0.1)\">\r\n       <use xlink:href=\"#DejaVuSans-49\"/>\r\n       <use x=\"63.623047\" xlink:href=\"#DejaVuSans-48\"/>\r\n       <use x=\"127.246094\" xlink:href=\"#DejaVuSans-48\"/>\r\n      </g>\r\n     </g>\r\n    </g>\r\n    <g id=\"xtick_3\">\r\n     <g id=\"line2d_3\">\r\n      <g>\r\n       <use style=\"stroke:#000000;stroke-width:0.8;\" x=\"480.588074\" xlink:href=\"#m9a95d34bdf\" y=\"279\"/>\r\n      </g>\r\n     </g>\r\n     <g id=\"text_3\">\r\n      <!-- 200 -->\r\n      <defs>\r\n       <path d=\"M 19.1875 8.296875 \r\nL 53.609375 8.296875 \r\nL 53.609375 0 \r\nL 7.328125 0 \r\nL 7.328125 8.296875 \r\nQ 12.9375 14.109375 22.625 23.890625 \r\nQ 32.328125 33.6875 34.8125 36.53125 \r\nQ 39.546875 41.84375 41.421875 45.53125 \r\nQ 43.3125 49.21875 43.3125 52.78125 \r\nQ 43.3125 58.59375 39.234375 62.25 \r\nQ 35.15625 65.921875 28.609375 65.921875 \r\nQ 23.96875 65.921875 18.8125 64.3125 \r\nQ 13.671875 62.703125 7.8125 59.421875 \r\nL 7.8125 69.390625 \r\nQ 13.765625 71.78125 18.9375 73 \r\nQ 24.125 74.21875 28.421875 74.21875 \r\nQ 39.75 74.21875 46.484375 68.546875 \r\nQ 53.21875 62.890625 53.21875 53.421875 \r\nQ 53.21875 48.921875 51.53125 44.890625 \r\nQ 49.859375 40.875 45.40625 35.40625 \r\nQ 44.1875 33.984375 37.640625 27.21875 \r\nQ 31.109375 20.453125 19.1875 8.296875 \r\nz\r\n\" id=\"DejaVuSans-50\"/>\r\n      </defs>\r\n      <g transform=\"translate(471.044324 293.598437)scale(0.1 -0.1)\">\r\n       <use xlink:href=\"#DejaVuSans-50\"/>\r\n       <use x=\"63.623047\" xlink:href=\"#DejaVuSans-48\"/>\r\n       <use x=\"127.246094\" xlink:href=\"#DejaVuSans-48\"/>\r\n      </g>\r\n     </g>\r\n    </g>\r\n    <g id=\"xtick_4\">\r\n     <g id=\"line2d_4\">\r\n      <g>\r\n       <use style=\"stroke:#000000;stroke-width:0.8;\" x=\"687.638167\" xlink:href=\"#m9a95d34bdf\" y=\"279\"/>\r\n      </g>\r\n     </g>\r\n     <g id=\"text_4\">\r\n      <!-- 300 -->\r\n      <defs>\r\n       <path d=\"M 40.578125 39.3125 \r\nQ 47.65625 37.796875 51.625 33 \r\nQ 55.609375 28.21875 55.609375 21.1875 \r\nQ 55.609375 10.40625 48.1875 4.484375 \r\nQ 40.765625 -1.421875 27.09375 -1.421875 \r\nQ 22.515625 -1.421875 17.65625 -0.515625 \r\nQ 12.796875 0.390625 7.625 2.203125 \r\nL 7.625 11.71875 \r\nQ 11.71875 9.328125 16.59375 8.109375 \r\nQ 21.484375 6.890625 26.8125 6.890625 \r\nQ 36.078125 6.890625 40.9375 10.546875 \r\nQ 45.796875 14.203125 45.796875 21.1875 \r\nQ 45.796875 27.640625 41.28125 31.265625 \r\nQ 36.765625 34.90625 28.71875 34.90625 \r\nL 20.21875 34.90625 \r\nL 20.21875 43.015625 \r\nL 29.109375 43.015625 \r\nQ 36.375 43.015625 40.234375 45.921875 \r\nQ 44.09375 48.828125 44.09375 54.296875 \r\nQ 44.09375 59.90625 40.109375 62.90625 \r\nQ 36.140625 65.921875 28.71875 65.921875 \r\nQ 24.65625 65.921875 20.015625 65.03125 \r\nQ 15.375 64.15625 9.8125 62.3125 \r\nL 9.8125 71.09375 \r\nQ 15.4375 72.65625 20.34375 73.4375 \r\nQ 25.25 74.21875 29.59375 74.21875 \r\nQ 40.828125 74.21875 47.359375 69.109375 \r\nQ 53.90625 64.015625 53.90625 55.328125 \r\nQ 53.90625 49.265625 50.4375 45.09375 \r\nQ 46.96875 40.921875 40.578125 39.3125 \r\nz\r\n\" id=\"DejaVuSans-51\"/>\r\n      </defs>\r\n      <g transform=\"translate(678.094417 293.598437)scale(0.1 -0.1)\">\r\n       <use xlink:href=\"#DejaVuSans-51\"/>\r\n       <use x=\"63.623047\" xlink:href=\"#DejaVuSans-48\"/>\r\n       <use x=\"127.246094\" xlink:href=\"#DejaVuSans-48\"/>\r\n      </g>\r\n     </g>\r\n    </g>\r\n    <g id=\"xtick_5\">\r\n     <g id=\"line2d_5\">\r\n      <g>\r\n       <use style=\"stroke:#000000;stroke-width:0.8;\" x=\"894.68826\" xlink:href=\"#m9a95d34bdf\" y=\"279\"/>\r\n      </g>\r\n     </g>\r\n     <g id=\"text_5\">\r\n      <!-- 400 -->\r\n      <defs>\r\n       <path d=\"M 37.796875 64.3125 \r\nL 12.890625 25.390625 \r\nL 37.796875 25.390625 \r\nz\r\nM 35.203125 72.90625 \r\nL 47.609375 72.90625 \r\nL 47.609375 25.390625 \r\nL 58.015625 25.390625 \r\nL 58.015625 17.1875 \r\nL 47.609375 17.1875 \r\nL 47.609375 0 \r\nL 37.796875 0 \r\nL 37.796875 17.1875 \r\nL 4.890625 17.1875 \r\nL 4.890625 26.703125 \r\nz\r\n\" id=\"DejaVuSans-52\"/>\r\n      </defs>\r\n      <g transform=\"translate(885.14451 293.598437)scale(0.1 -0.1)\">\r\n       <use xlink:href=\"#DejaVuSans-52\"/>\r\n       <use x=\"63.623047\" xlink:href=\"#DejaVuSans-48\"/>\r\n       <use x=\"127.246094\" xlink:href=\"#DejaVuSans-48\"/>\r\n      </g>\r\n     </g>\r\n    </g>\r\n    <g id=\"xtick_6\">\r\n     <g id=\"line2d_6\">\r\n      <g>\r\n       <use style=\"stroke:#000000;stroke-width:0.8;\" x=\"1101.738352\" xlink:href=\"#m9a95d34bdf\" y=\"279\"/>\r\n      </g>\r\n     </g>\r\n     <g id=\"text_6\">\r\n      <!-- 500 -->\r\n      <defs>\r\n       <path d=\"M 10.796875 72.90625 \r\nL 49.515625 72.90625 \r\nL 49.515625 64.59375 \r\nL 19.828125 64.59375 \r\nL 19.828125 46.734375 \r\nQ 21.96875 47.46875 24.109375 47.828125 \r\nQ 26.265625 48.1875 28.421875 48.1875 \r\nQ 40.625 48.1875 47.75 41.5 \r\nQ 54.890625 34.8125 54.890625 23.390625 \r\nQ 54.890625 11.625 47.5625 5.09375 \r\nQ 40.234375 -1.421875 26.90625 -1.421875 \r\nQ 22.3125 -1.421875 17.546875 -0.640625 \r\nQ 12.796875 0.140625 7.71875 1.703125 \r\nL 7.71875 11.625 \r\nQ 12.109375 9.234375 16.796875 8.0625 \r\nQ 21.484375 6.890625 26.703125 6.890625 \r\nQ 35.15625 6.890625 40.078125 11.328125 \r\nQ 45.015625 15.765625 45.015625 23.390625 \r\nQ 45.015625 31 40.078125 35.4375 \r\nQ 35.15625 39.890625 26.703125 39.890625 \r\nQ 22.75 39.890625 18.8125 39.015625 \r\nQ 14.890625 38.140625 10.796875 36.28125 \r\nz\r\n\" id=\"DejaVuSans-53\"/>\r\n      </defs>\r\n      <g transform=\"translate(1092.194602 293.598437)scale(0.1 -0.1)\">\r\n       <use xlink:href=\"#DejaVuSans-53\"/>\r\n       <use x=\"63.623047\" xlink:href=\"#DejaVuSans-48\"/>\r\n       <use x=\"127.246094\" xlink:href=\"#DejaVuSans-48\"/>\r\n      </g>\r\n     </g>\r\n    </g>\r\n   </g>\r\n   <g id=\"matplotlib.axis_2\">\r\n    <g id=\"ytick_1\">\r\n     <g id=\"line2d_7\">\r\n      <defs>\r\n       <path d=\"M 0 0 \r\nL -3.5 0 \r\n\" id=\"m9c6e4797ef\" style=\"stroke:#000000;stroke-width:0.8;\"/>\r\n      </defs>\r\n      <g>\r\n       <use style=\"stroke:#000000;stroke-width:0.8;\" x=\"36.465625\" xlink:href=\"#m9c6e4797ef\" y=\"275.048895\"/>\r\n      </g>\r\n     </g>\r\n     <g id=\"text_7\">\r\n      <!-- 0.01 -->\r\n      <defs>\r\n       <path d=\"M 10.6875 12.40625 \r\nL 21 12.40625 \r\nL 21 0 \r\nL 10.6875 0 \r\nz\r\n\" id=\"DejaVuSans-46\"/>\r\n      </defs>\r\n      <g transform=\"translate(7.2 278.848113)scale(0.1 -0.1)\">\r\n       <use xlink:href=\"#DejaVuSans-48\"/>\r\n       <use x=\"63.623047\" xlink:href=\"#DejaVuSans-46\"/>\r\n       <use x=\"95.410156\" xlink:href=\"#DejaVuSans-48\"/>\r\n       <use x=\"159.033203\" xlink:href=\"#DejaVuSans-49\"/>\r\n      </g>\r\n     </g>\r\n    </g>\r\n    <g id=\"ytick_2\">\r\n     <g id=\"line2d_8\">\r\n      <g>\r\n       <use style=\"stroke:#000000;stroke-width:0.8;\" x=\"36.465625\" xlink:href=\"#m9c6e4797ef\" y=\"231.982227\"/>\r\n      </g>\r\n     </g>\r\n     <g id=\"text_8\">\r\n      <!-- 0.02 -->\r\n      <g transform=\"translate(7.2 235.781445)scale(0.1 -0.1)\">\r\n       <use xlink:href=\"#DejaVuSans-48\"/>\r\n       <use x=\"63.623047\" xlink:href=\"#DejaVuSans-46\"/>\r\n       <use x=\"95.410156\" xlink:href=\"#DejaVuSans-48\"/>\r\n       <use x=\"159.033203\" xlink:href=\"#DejaVuSans-50\"/>\r\n      </g>\r\n     </g>\r\n    </g>\r\n    <g id=\"ytick_3\">\r\n     <g id=\"line2d_9\">\r\n      <g>\r\n       <use style=\"stroke:#000000;stroke-width:0.8;\" x=\"36.465625\" xlink:href=\"#m9c6e4797ef\" y=\"188.915558\"/>\r\n      </g>\r\n     </g>\r\n     <g id=\"text_9\">\r\n      <!-- 0.03 -->\r\n      <g transform=\"translate(7.2 192.714777)scale(0.1 -0.1)\">\r\n       <use xlink:href=\"#DejaVuSans-48\"/>\r\n       <use x=\"63.623047\" xlink:href=\"#DejaVuSans-46\"/>\r\n       <use x=\"95.410156\" xlink:href=\"#DejaVuSans-48\"/>\r\n       <use x=\"159.033203\" xlink:href=\"#DejaVuSans-51\"/>\r\n      </g>\r\n     </g>\r\n    </g>\r\n    <g id=\"ytick_4\">\r\n     <g id=\"line2d_10\">\r\n      <g>\r\n       <use style=\"stroke:#000000;stroke-width:0.8;\" x=\"36.465625\" xlink:href=\"#m9c6e4797ef\" y=\"145.84889\"/>\r\n      </g>\r\n     </g>\r\n     <g id=\"text_10\">\r\n      <!-- 0.04 -->\r\n      <g transform=\"translate(7.2 149.648109)scale(0.1 -0.1)\">\r\n       <use xlink:href=\"#DejaVuSans-48\"/>\r\n       <use x=\"63.623047\" xlink:href=\"#DejaVuSans-46\"/>\r\n       <use x=\"95.410156\" xlink:href=\"#DejaVuSans-48\"/>\r\n       <use x=\"159.033203\" xlink:href=\"#DejaVuSans-52\"/>\r\n      </g>\r\n     </g>\r\n    </g>\r\n    <g id=\"ytick_5\">\r\n     <g id=\"line2d_11\">\r\n      <g>\r\n       <use style=\"stroke:#000000;stroke-width:0.8;\" x=\"36.465625\" xlink:href=\"#m9c6e4797ef\" y=\"102.782222\"/>\r\n      </g>\r\n     </g>\r\n     <g id=\"text_11\">\r\n      <!-- 0.05 -->\r\n      <g transform=\"translate(7.2 106.581441)scale(0.1 -0.1)\">\r\n       <use xlink:href=\"#DejaVuSans-48\"/>\r\n       <use x=\"63.623047\" xlink:href=\"#DejaVuSans-46\"/>\r\n       <use x=\"95.410156\" xlink:href=\"#DejaVuSans-48\"/>\r\n       <use x=\"159.033203\" xlink:href=\"#DejaVuSans-53\"/>\r\n      </g>\r\n     </g>\r\n    </g>\r\n    <g id=\"ytick_6\">\r\n     <g id=\"line2d_12\">\r\n      <g>\r\n       <use style=\"stroke:#000000;stroke-width:0.8;\" x=\"36.465625\" xlink:href=\"#m9c6e4797ef\" y=\"59.715554\"/>\r\n      </g>\r\n     </g>\r\n     <g id=\"text_12\">\r\n      <!-- 0.06 -->\r\n      <defs>\r\n       <path d=\"M 33.015625 40.375 \r\nQ 26.375 40.375 22.484375 35.828125 \r\nQ 18.609375 31.296875 18.609375 23.390625 \r\nQ 18.609375 15.53125 22.484375 10.953125 \r\nQ 26.375 6.390625 33.015625 6.390625 \r\nQ 39.65625 6.390625 43.53125 10.953125 \r\nQ 47.40625 15.53125 47.40625 23.390625 \r\nQ 47.40625 31.296875 43.53125 35.828125 \r\nQ 39.65625 40.375 33.015625 40.375 \r\nz\r\nM 52.59375 71.296875 \r\nL 52.59375 62.3125 \r\nQ 48.875 64.0625 45.09375 64.984375 \r\nQ 41.3125 65.921875 37.59375 65.921875 \r\nQ 27.828125 65.921875 22.671875 59.328125 \r\nQ 17.53125 52.734375 16.796875 39.40625 \r\nQ 19.671875 43.65625 24.015625 45.921875 \r\nQ 28.375 48.1875 33.59375 48.1875 \r\nQ 44.578125 48.1875 50.953125 41.515625 \r\nQ 57.328125 34.859375 57.328125 23.390625 \r\nQ 57.328125 12.15625 50.6875 5.359375 \r\nQ 44.046875 -1.421875 33.015625 -1.421875 \r\nQ 20.359375 -1.421875 13.671875 8.265625 \r\nQ 6.984375 17.96875 6.984375 36.375 \r\nQ 6.984375 53.65625 15.1875 63.9375 \r\nQ 23.390625 74.21875 37.203125 74.21875 \r\nQ 40.921875 74.21875 44.703125 73.484375 \r\nQ 48.484375 72.75 52.59375 71.296875 \r\nz\r\n\" id=\"DejaVuSans-54\"/>\r\n      </defs>\r\n      <g transform=\"translate(7.2 63.514773)scale(0.1 -0.1)\">\r\n       <use xlink:href=\"#DejaVuSans-48\"/>\r\n       <use x=\"63.623047\" xlink:href=\"#DejaVuSans-46\"/>\r\n       <use x=\"95.410156\" xlink:href=\"#DejaVuSans-48\"/>\r\n       <use x=\"159.033203\" xlink:href=\"#DejaVuSans-54\"/>\r\n      </g>\r\n     </g>\r\n    </g>\r\n    <g id=\"ytick_7\">\r\n     <g id=\"line2d_13\">\r\n      <g>\r\n       <use style=\"stroke:#000000;stroke-width:0.8;\" x=\"36.465625\" xlink:href=\"#m9c6e4797ef\" y=\"16.648886\"/>\r\n      </g>\r\n     </g>\r\n     <g id=\"text_13\">\r\n      <!-- 0.07 -->\r\n      <defs>\r\n       <path d=\"M 8.203125 72.90625 \r\nL 55.078125 72.90625 \r\nL 55.078125 68.703125 \r\nL 28.609375 0 \r\nL 18.3125 0 \r\nL 43.21875 64.59375 \r\nL 8.203125 64.59375 \r\nz\r\n\" id=\"DejaVuSans-55\"/>\r\n      </defs>\r\n      <g transform=\"translate(7.2 20.448105)scale(0.1 -0.1)\">\r\n       <use xlink:href=\"#DejaVuSans-48\"/>\r\n       <use x=\"63.623047\" xlink:href=\"#DejaVuSans-46\"/>\r\n       <use x=\"95.410156\" xlink:href=\"#DejaVuSans-48\"/>\r\n       <use x=\"159.033203\" xlink:href=\"#DejaVuSans-55\"/>\r\n      </g>\r\n     </g>\r\n    </g>\r\n   </g>\r\n   <g id=\"line2d_14\">\r\n    <path clip-path=\"url(#p4a21486271)\" d=\"M 87.192898 224.792993 \r\nL 107.897907 187.45697 \r\nL 128.602916 178.250488 \r\nL 149.307926 178.250488 \r\nL 170.012935 178.250488 \r\nL 190.717944 178.250488 \r\nL 211.422953 178.250488 \r\nL 232.127963 178.250488 \r\nL 252.832972 178.250488 \r\nL 273.537981 178.250488 \r\nL 294.24299 178.250488 \r\nL 314.948 178.250488 \r\nL 335.653009 178.250488 \r\nL 356.358018 178.250488 \r\nL 377.063028 178.250488 \r\nL 397.768037 178.250488 \r\nL 418.473046 178.250488 \r\nL 439.178055 178.250488 \r\nL 459.883065 178.250488 \r\nL 480.588074 178.250488 \r\nL 501.293083 178.250488 \r\nL 521.998093 178.250488 \r\nL 542.703102 178.250488 \r\nL 563.408111 178.250488 \r\nL 584.11312 178.250488 \r\nL 604.81813 178.250488 \r\nL 625.523139 178.250488 \r\nL 646.228148 178.250488 \r\nL 666.933157 178.250488 \r\nL 687.638167 178.250488 \r\nL 708.343176 178.250488 \r\nL 729.048185 178.250488 \r\nL 749.753195 178.250488 \r\nL 770.458204 178.250488 \r\nL 791.163213 178.250488 \r\nL 811.868222 178.250488 \r\nL 832.573232 178.250488 \r\nL 853.278241 178.250488 \r\nL 873.98325 178.250488 \r\nL 894.68826 178.250488 \r\nL 915.393269 178.250488 \r\nL 936.098278 178.250488 \r\nL 956.803287 178.250488 \r\nL 977.508297 178.250488 \r\nL 998.213306 178.250488 \r\nL 1018.918315 178.250488 \r\nL 1039.623324 178.250488 \r\nL 1060.328334 178.250488 \r\nL 1081.033343 178.250488 \r\nL 1101.738352 178.250488 \r\n\" style=\"fill:none;stroke:#1f77b4;stroke-linecap:square;stroke-width:1.5;\"/>\r\n   </g>\r\n   <g id=\"line2d_15\">\r\n    <path clip-path=\"url(#p4a21486271)\" d=\"M 87.192898 266.645455 \r\nL 107.897907 235.458627 \r\nL 128.602916 222.591559 \r\nL 149.307926 222.591559 \r\nL 170.012935 222.591559 \r\nL 190.717944 222.591559 \r\nL 211.422953 222.591559 \r\nL 232.127963 222.591559 \r\nL 252.832972 222.591559 \r\nL 273.537981 222.591559 \r\nL 294.24299 222.591559 \r\nL 314.948 222.591559 \r\nL 335.653009 222.591559 \r\nL 356.358018 222.591559 \r\nL 377.063028 222.591559 \r\nL 397.768037 222.591559 \r\nL 418.473046 222.591559 \r\nL 439.178055 222.591559 \r\nL 459.883065 222.591559 \r\nL 480.588074 222.591559 \r\nL 501.293083 222.591559 \r\nL 521.998093 222.591559 \r\nL 542.703102 222.591559 \r\nL 563.408111 222.591559 \r\nL 584.11312 222.591559 \r\nL 604.81813 222.591559 \r\nL 625.523139 222.591559 \r\nL 646.228148 222.591559 \r\nL 666.933157 222.591559 \r\nL 687.638167 222.591559 \r\nL 708.343176 222.591559 \r\nL 729.048185 222.591559 \r\nL 749.753195 222.591559 \r\nL 770.458204 222.591559 \r\nL 791.163213 222.591559 \r\nL 811.868222 222.591559 \r\nL 832.573232 222.591559 \r\nL 853.278241 222.591559 \r\nL 873.98325 222.591559 \r\nL 894.68826 222.591559 \r\nL 915.393269 222.591559 \r\nL 936.098278 222.591559 \r\nL 956.803287 222.591559 \r\nL 977.508297 222.591559 \r\nL 998.213306 222.591559 \r\nL 1018.918315 222.591559 \r\nL 1039.623324 222.591559 \r\nL 1060.328334 222.591559 \r\nL 1081.033343 222.591559 \r\nL 1101.738352 222.591559 \r\n\" style=\"fill:none;stroke:#ff7f0e;stroke-dasharray:6,2.25;stroke-dashoffset:0;stroke-width:1.5;\"/>\r\n   </g>\r\n   <g id=\"line2d_16\">\r\n    <path clip-path=\"url(#p4a21486271)\" d=\"M 87.192898 155.566446 \r\nL 107.897907 53.879754 \r\nL 128.602916 19.554545 \r\nL 149.307926 19.554545 \r\nL 170.012935 19.554545 \r\nL 190.717944 19.554545 \r\nL 211.422953 19.554545 \r\nL 232.127963 19.554545 \r\nL 252.832972 19.554545 \r\nL 273.537981 19.554545 \r\nL 294.24299 19.554545 \r\nL 314.948 19.554545 \r\nL 335.653009 19.554545 \r\nL 356.358018 19.554545 \r\nL 377.063028 19.554545 \r\nL 397.768037 19.554545 \r\nL 418.473046 19.554545 \r\nL 439.178055 19.554545 \r\nL 459.883065 19.554545 \r\nL 480.588074 19.554545 \r\nL 501.293083 19.554545 \r\nL 521.998093 19.554545 \r\nL 542.703102 19.554545 \r\nL 563.408111 19.554545 \r\nL 584.11312 19.554545 \r\nL 604.81813 19.554545 \r\nL 625.523139 19.554545 \r\nL 646.228148 19.554545 \r\nL 666.933157 19.554545 \r\nL 687.638167 19.554545 \r\nL 708.343176 19.554545 \r\nL 729.048185 19.554545 \r\nL 749.753195 19.554545 \r\nL 770.458204 19.554545 \r\nL 791.163213 19.554545 \r\nL 811.868222 19.554545 \r\nL 832.573232 19.554545 \r\nL 853.278241 19.554545 \r\nL 873.98325 19.554545 \r\nL 894.68826 19.554545 \r\nL 915.393269 19.554545 \r\nL 936.098278 19.554545 \r\nL 956.803287 19.554545 \r\nL 977.508297 19.554545 \r\nL 998.213306 19.554545 \r\nL 1018.918315 19.554545 \r\nL 1039.623324 19.554545 \r\nL 1060.328334 19.554545 \r\nL 1081.033343 19.554545 \r\nL 1101.738352 19.554545 \r\n\" style=\"fill:none;stroke:#2ca02c;stroke-dasharray:1.5,1.5;stroke-dashoffset:0;stroke-width:1.5;\"/>\r\n   </g>\r\n   <g id=\"line2d_17\">\r\n    <path clip-path=\"url(#p4a21486271)\" d=\"M 87.192898 160.650325 \r\nL 107.897907 58.97981 \r\nL 128.602916 26.639856 \r\nL 149.307926 26.639856 \r\nL 170.012935 26.639856 \r\nL 190.717944 26.639856 \r\nL 211.422953 26.639856 \r\nL 232.127963 26.639856 \r\nL 252.832972 26.639856 \r\nL 273.537981 26.639856 \r\nL 294.24299 26.639856 \r\nL 314.948 26.639856 \r\nL 335.653009 26.639856 \r\nL 356.358018 26.639856 \r\nL 377.063028 26.639856 \r\nL 397.768037 26.639856 \r\nL 418.473046 26.639856 \r\nL 439.178055 26.639856 \r\nL 459.883065 26.639856 \r\nL 480.588074 26.639856 \r\nL 501.293083 26.639856 \r\nL 521.998093 26.639856 \r\nL 542.703102 26.639856 \r\nL 563.408111 26.639856 \r\nL 584.11312 26.639856 \r\nL 604.81813 26.639856 \r\nL 625.523139 26.639856 \r\nL 646.228148 26.639856 \r\nL 666.933157 26.639856 \r\nL 687.638167 26.639856 \r\nL 708.343176 26.639856 \r\nL 729.048185 26.639856 \r\nL 749.753195 26.639856 \r\nL 770.458204 26.639856 \r\nL 791.163213 26.639856 \r\nL 811.868222 26.639856 \r\nL 832.573232 26.639856 \r\nL 853.278241 26.639856 \r\nL 873.98325 26.639856 \r\nL 894.68826 26.639856 \r\nL 915.393269 26.639856 \r\nL 936.098278 26.639856 \r\nL 956.803287 26.639856 \r\nL 977.508297 26.639856 \r\nL 998.213306 26.639856 \r\nL 1018.918315 26.639856 \r\nL 1039.623324 26.639856 \r\nL 1060.328334 26.639856 \r\nL 1081.033343 26.639856 \r\nL 1101.738352 26.639856 \r\n\" style=\"fill:none;stroke:#d62728;stroke-dasharray:4.5,1.5,2.25,1.5;stroke-dashoffset:0;stroke-width:1.5;\"/>\r\n   </g>\r\n   <g id=\"line2d_18\">\r\n    <path clip-path=\"url(#p4a21486271)\" d=\"M 87.192898 182.437699 \r\nL 107.897907 113.494028 \r\nL 128.602916 86.001133 \r\nL 149.307926 86.001133 \r\nL 170.012935 86.001133 \r\nL 190.717944 86.001133 \r\nL 211.422953 86.001133 \r\nL 232.127963 86.001133 \r\nL 252.832972 86.001133 \r\nL 273.537981 86.001133 \r\nL 294.24299 86.001133 \r\nL 314.948 86.001133 \r\nL 335.653009 86.001133 \r\nL 356.358018 86.001133 \r\nL 377.063028 86.001133 \r\nL 397.768037 86.001133 \r\nL 418.473046 86.001133 \r\nL 439.178055 86.001133 \r\nL 459.883065 86.001133 \r\nL 480.588074 86.001133 \r\nL 501.293083 86.001133 \r\nL 521.998093 86.001133 \r\nL 542.703102 86.001133 \r\nL 563.408111 86.001133 \r\nL 584.11312 86.001133 \r\nL 604.81813 86.001133 \r\nL 625.523139 86.001133 \r\nL 646.228148 86.001133 \r\nL 666.933157 86.001133 \r\nL 687.638167 86.001133 \r\nL 708.343176 86.001133 \r\nL 729.048185 86.001133 \r\nL 749.753195 86.001133 \r\nL 770.458204 86.001133 \r\nL 791.163213 86.001133 \r\nL 811.868222 86.001133 \r\nL 832.573232 86.001133 \r\nL 853.278241 86.001133 \r\nL 873.98325 86.001133 \r\nL 894.68826 86.001133 \r\nL 915.393269 86.001133 \r\nL 936.098278 86.001133 \r\nL 956.803287 86.001133 \r\nL 977.508297 86.001133 \r\nL 998.213306 86.001133 \r\nL 1018.918315 86.001133 \r\nL 1039.623324 86.001133 \r\nL 1060.328334 86.001133 \r\nL 1081.033343 86.001133 \r\nL 1101.738352 86.001133 \r\n\" style=\"fill:none;stroke:#9467bd;stroke-dasharray:7.5,1.5,1.5,1.5;stroke-dashoffset:0;stroke-width:1.5;\"/>\r\n   </g>\r\n   <g id=\"line2d_19\"/>\r\n   <g id=\"line2d_20\"/>\r\n   <g id=\"line2d_21\"/>\r\n   <g id=\"line2d_22\"/>\r\n   <g id=\"line2d_23\"/>\r\n   <g id=\"patch_3\">\r\n    <path d=\"M 36.465625 279 \r\nL 36.465625 7.2 \r\n\" style=\"fill:none;stroke:#000000;stroke-linecap:square;stroke-linejoin:miter;stroke-width:0.8;\"/>\r\n   </g>\r\n   <g id=\"patch_4\">\r\n    <path d=\"M 1152.465625 279 \r\nL 1152.465625 7.2 \r\n\" style=\"fill:none;stroke:#000000;stroke-linecap:square;stroke-linejoin:miter;stroke-width:0.8;\"/>\r\n   </g>\r\n   <g id=\"patch_5\">\r\n    <path d=\"M 36.465625 279 \r\nL 1152.465625 279 \r\n\" style=\"fill:none;stroke:#000000;stroke-linecap:square;stroke-linejoin:miter;stroke-width:0.8;\"/>\r\n   </g>\r\n   <g id=\"patch_6\">\r\n    <path d=\"M 36.465625 7.2 \r\nL 1152.465625 7.2 \r\n\" style=\"fill:none;stroke:#000000;stroke-linecap:square;stroke-linejoin:miter;stroke-width:0.8;\"/>\r\n   </g>\r\n   <g id=\"legend_1\">\r\n    <g id=\"patch_7\">\r\n     <path d=\"M 1047.607812 274 \r\nL 1145.465625 274 \r\nQ 1147.465625 274 1147.465625 272 \r\nL 1147.465625 198.21875 \r\nQ 1147.465625 196.21875 1145.465625 196.21875 \r\nL 1047.607812 196.21875 \r\nQ 1045.607812 196.21875 1045.607812 198.21875 \r\nL 1045.607812 272 \r\nQ 1045.607812 274 1047.607812 274 \r\nz\r\n\" style=\"fill:#ffffff;opacity:0.8;stroke:#cccccc;stroke-linejoin:miter;\"/>\r\n    </g>\r\n    <g id=\"line2d_24\">\r\n     <path d=\"M 1049.607812 204.317188 \r\nL 1069.607812 204.317188 \r\n\" style=\"fill:none;stroke:#1f77b4;stroke-linecap:square;stroke-width:1.5;\"/>\r\n    </g>\r\n    <g id=\"line2d_25\"/>\r\n    <g id=\"text_14\">\r\n     <!-- own_rec -->\r\n     <defs>\r\n      <path d=\"M 30.609375 48.390625 \r\nQ 23.390625 48.390625 19.1875 42.75 \r\nQ 14.984375 37.109375 14.984375 27.296875 \r\nQ 14.984375 17.484375 19.15625 11.84375 \r\nQ 23.34375 6.203125 30.609375 6.203125 \r\nQ 37.796875 6.203125 41.984375 11.859375 \r\nQ 46.1875 17.53125 46.1875 27.296875 \r\nQ 46.1875 37.015625 41.984375 42.703125 \r\nQ 37.796875 48.390625 30.609375 48.390625 \r\nz\r\nM 30.609375 56 \r\nQ 42.328125 56 49.015625 48.375 \r\nQ 55.71875 40.765625 55.71875 27.296875 \r\nQ 55.71875 13.875 49.015625 6.21875 \r\nQ 42.328125 -1.421875 30.609375 -1.421875 \r\nQ 18.84375 -1.421875 12.171875 6.21875 \r\nQ 5.515625 13.875 5.515625 27.296875 \r\nQ 5.515625 40.765625 12.171875 48.375 \r\nQ 18.84375 56 30.609375 56 \r\nz\r\n\" id=\"DejaVuSans-111\"/>\r\n      <path d=\"M 4.203125 54.6875 \r\nL 13.1875 54.6875 \r\nL 24.421875 12.015625 \r\nL 35.59375 54.6875 \r\nL 46.1875 54.6875 \r\nL 57.421875 12.015625 \r\nL 68.609375 54.6875 \r\nL 77.59375 54.6875 \r\nL 63.28125 0 \r\nL 52.6875 0 \r\nL 40.921875 44.828125 \r\nL 29.109375 0 \r\nL 18.5 0 \r\nz\r\n\" id=\"DejaVuSans-119\"/>\r\n      <path d=\"M 54.890625 33.015625 \r\nL 54.890625 0 \r\nL 45.90625 0 \r\nL 45.90625 32.71875 \r\nQ 45.90625 40.484375 42.875 44.328125 \r\nQ 39.84375 48.1875 33.796875 48.1875 \r\nQ 26.515625 48.1875 22.3125 43.546875 \r\nQ 18.109375 38.921875 18.109375 30.90625 \r\nL 18.109375 0 \r\nL 9.078125 0 \r\nL 9.078125 54.6875 \r\nL 18.109375 54.6875 \r\nL 18.109375 46.1875 \r\nQ 21.34375 51.125 25.703125 53.5625 \r\nQ 30.078125 56 35.796875 56 \r\nQ 45.21875 56 50.046875 50.171875 \r\nQ 54.890625 44.34375 54.890625 33.015625 \r\nz\r\n\" id=\"DejaVuSans-110\"/>\r\n      <path d=\"M 50.984375 -16.609375 \r\nL 50.984375 -23.578125 \r\nL -0.984375 -23.578125 \r\nL -0.984375 -16.609375 \r\nz\r\n\" id=\"DejaVuSans-95\"/>\r\n      <path d=\"M 41.109375 46.296875 \r\nQ 39.59375 47.171875 37.8125 47.578125 \r\nQ 36.03125 48 33.890625 48 \r\nQ 26.265625 48 22.1875 43.046875 \r\nQ 18.109375 38.09375 18.109375 28.8125 \r\nL 18.109375 0 \r\nL 9.078125 0 \r\nL 9.078125 54.6875 \r\nL 18.109375 54.6875 \r\nL 18.109375 46.1875 \r\nQ 20.953125 51.171875 25.484375 53.578125 \r\nQ 30.03125 56 36.53125 56 \r\nQ 37.453125 56 38.578125 55.875 \r\nQ 39.703125 55.765625 41.0625 55.515625 \r\nz\r\n\" id=\"DejaVuSans-114\"/>\r\n      <path d=\"M 56.203125 29.59375 \r\nL 56.203125 25.203125 \r\nL 14.890625 25.203125 \r\nQ 15.484375 15.921875 20.484375 11.0625 \r\nQ 25.484375 6.203125 34.421875 6.203125 \r\nQ 39.59375 6.203125 44.453125 7.46875 \r\nQ 49.3125 8.734375 54.109375 11.28125 \r\nL 54.109375 2.78125 \r\nQ 49.265625 0.734375 44.1875 -0.34375 \r\nQ 39.109375 -1.421875 33.890625 -1.421875 \r\nQ 20.796875 -1.421875 13.15625 6.1875 \r\nQ 5.515625 13.8125 5.515625 26.8125 \r\nQ 5.515625 40.234375 12.765625 48.109375 \r\nQ 20.015625 56 32.328125 56 \r\nQ 43.359375 56 49.78125 48.890625 \r\nQ 56.203125 41.796875 56.203125 29.59375 \r\nz\r\nM 47.21875 32.234375 \r\nQ 47.125 39.59375 43.09375 43.984375 \r\nQ 39.0625 48.390625 32.421875 48.390625 \r\nQ 24.90625 48.390625 20.390625 44.140625 \r\nQ 15.875 39.890625 15.1875 32.171875 \r\nz\r\n\" id=\"DejaVuSans-101\"/>\r\n      <path d=\"M 48.78125 52.59375 \r\nL 48.78125 44.1875 \r\nQ 44.96875 46.296875 41.140625 47.34375 \r\nQ 37.3125 48.390625 33.40625 48.390625 \r\nQ 24.65625 48.390625 19.8125 42.84375 \r\nQ 14.984375 37.3125 14.984375 27.296875 \r\nQ 14.984375 17.28125 19.8125 11.734375 \r\nQ 24.65625 6.203125 33.40625 6.203125 \r\nQ 37.3125 6.203125 41.140625 7.25 \r\nQ 44.96875 8.296875 48.78125 10.40625 \r\nL 48.78125 2.09375 \r\nQ 45.015625 0.34375 40.984375 -0.53125 \r\nQ 36.96875 -1.421875 32.421875 -1.421875 \r\nQ 20.0625 -1.421875 12.78125 6.34375 \r\nQ 5.515625 14.109375 5.515625 27.296875 \r\nQ 5.515625 40.671875 12.859375 48.328125 \r\nQ 20.21875 56 33.015625 56 \r\nQ 37.15625 56 41.109375 55.140625 \r\nQ 45.0625 54.296875 48.78125 52.59375 \r\nz\r\n\" id=\"DejaVuSans-99\"/>\r\n     </defs>\r\n     <g transform=\"translate(1077.607812 207.817188)scale(0.1 -0.1)\">\r\n      <use xlink:href=\"#DejaVuSans-111\"/>\r\n      <use x=\"61.181641\" xlink:href=\"#DejaVuSans-119\"/>\r\n      <use x=\"142.96875\" xlink:href=\"#DejaVuSans-110\"/>\r\n      <use x=\"206.347656\" xlink:href=\"#DejaVuSans-95\"/>\r\n      <use x=\"256.347656\" xlink:href=\"#DejaVuSans-114\"/>\r\n      <use x=\"295.210938\" xlink:href=\"#DejaVuSans-101\"/>\r\n      <use x=\"356.734375\" xlink:href=\"#DejaVuSans-99\"/>\r\n     </g>\r\n    </g>\r\n    <g id=\"line2d_26\">\r\n     <path d=\"M 1049.607812 219.273438 \r\nL 1069.607812 219.273438 \r\n\" style=\"fill:none;stroke:#ff7f0e;stroke-dasharray:6,2.25;stroke-dashoffset:0;stroke-width:1.5;\"/>\r\n    </g>\r\n    <g id=\"line2d_27\"/>\r\n    <g id=\"text_15\">\r\n     <!-- sim_item_rec -->\r\n     <defs>\r\n      <path d=\"M 44.28125 53.078125 \r\nL 44.28125 44.578125 \r\nQ 40.484375 46.53125 36.375 47.5 \r\nQ 32.28125 48.484375 27.875 48.484375 \r\nQ 21.1875 48.484375 17.84375 46.4375 \r\nQ 14.5 44.390625 14.5 40.28125 \r\nQ 14.5 37.15625 16.890625 35.375 \r\nQ 19.28125 33.59375 26.515625 31.984375 \r\nL 29.59375 31.296875 \r\nQ 39.15625 29.25 43.1875 25.515625 \r\nQ 47.21875 21.78125 47.21875 15.09375 \r\nQ 47.21875 7.46875 41.1875 3.015625 \r\nQ 35.15625 -1.421875 24.609375 -1.421875 \r\nQ 20.21875 -1.421875 15.453125 -0.5625 \r\nQ 10.6875 0.296875 5.421875 2 \r\nL 5.421875 11.28125 \r\nQ 10.40625 8.6875 15.234375 7.390625 \r\nQ 20.0625 6.109375 24.8125 6.109375 \r\nQ 31.15625 6.109375 34.5625 8.28125 \r\nQ 37.984375 10.453125 37.984375 14.40625 \r\nQ 37.984375 18.0625 35.515625 20.015625 \r\nQ 33.0625 21.96875 24.703125 23.78125 \r\nL 21.578125 24.515625 \r\nQ 13.234375 26.265625 9.515625 29.90625 \r\nQ 5.8125 33.546875 5.8125 39.890625 \r\nQ 5.8125 47.609375 11.28125 51.796875 \r\nQ 16.75 56 26.8125 56 \r\nQ 31.78125 56 36.171875 55.265625 \r\nQ 40.578125 54.546875 44.28125 53.078125 \r\nz\r\n\" id=\"DejaVuSans-115\"/>\r\n      <path d=\"M 9.421875 54.6875 \r\nL 18.40625 54.6875 \r\nL 18.40625 0 \r\nL 9.421875 0 \r\nz\r\nM 9.421875 75.984375 \r\nL 18.40625 75.984375 \r\nL 18.40625 64.59375 \r\nL 9.421875 64.59375 \r\nz\r\n\" id=\"DejaVuSans-105\"/>\r\n      <path d=\"M 52 44.1875 \r\nQ 55.375 50.25 60.0625 53.125 \r\nQ 64.75 56 71.09375 56 \r\nQ 79.640625 56 84.28125 50.015625 \r\nQ 88.921875 44.046875 88.921875 33.015625 \r\nL 88.921875 0 \r\nL 79.890625 0 \r\nL 79.890625 32.71875 \r\nQ 79.890625 40.578125 77.09375 44.375 \r\nQ 74.3125 48.1875 68.609375 48.1875 \r\nQ 61.625 48.1875 57.5625 43.546875 \r\nQ 53.515625 38.921875 53.515625 30.90625 \r\nL 53.515625 0 \r\nL 44.484375 0 \r\nL 44.484375 32.71875 \r\nQ 44.484375 40.625 41.703125 44.40625 \r\nQ 38.921875 48.1875 33.109375 48.1875 \r\nQ 26.21875 48.1875 22.15625 43.53125 \r\nQ 18.109375 38.875 18.109375 30.90625 \r\nL 18.109375 0 \r\nL 9.078125 0 \r\nL 9.078125 54.6875 \r\nL 18.109375 54.6875 \r\nL 18.109375 46.1875 \r\nQ 21.1875 51.21875 25.484375 53.609375 \r\nQ 29.78125 56 35.6875 56 \r\nQ 41.65625 56 45.828125 52.96875 \r\nQ 50 49.953125 52 44.1875 \r\nz\r\n\" id=\"DejaVuSans-109\"/>\r\n      <path d=\"M 18.3125 70.21875 \r\nL 18.3125 54.6875 \r\nL 36.8125 54.6875 \r\nL 36.8125 47.703125 \r\nL 18.3125 47.703125 \r\nL 18.3125 18.015625 \r\nQ 18.3125 11.328125 20.140625 9.421875 \r\nQ 21.96875 7.515625 27.59375 7.515625 \r\nL 36.8125 7.515625 \r\nL 36.8125 0 \r\nL 27.59375 0 \r\nQ 17.1875 0 13.234375 3.875 \r\nQ 9.28125 7.765625 9.28125 18.015625 \r\nL 9.28125 47.703125 \r\nL 2.6875 47.703125 \r\nL 2.6875 54.6875 \r\nL 9.28125 54.6875 \r\nL 9.28125 70.21875 \r\nz\r\n\" id=\"DejaVuSans-116\"/>\r\n     </defs>\r\n     <g transform=\"translate(1077.607812 222.773438)scale(0.1 -0.1)\">\r\n      <use xlink:href=\"#DejaVuSans-115\"/>\r\n      <use x=\"52.099609\" xlink:href=\"#DejaVuSans-105\"/>\r\n      <use x=\"79.882812\" xlink:href=\"#DejaVuSans-109\"/>\r\n      <use x=\"177.294922\" xlink:href=\"#DejaVuSans-95\"/>\r\n      <use x=\"227.294922\" xlink:href=\"#DejaVuSans-105\"/>\r\n      <use x=\"255.078125\" xlink:href=\"#DejaVuSans-116\"/>\r\n      <use x=\"294.287109\" xlink:href=\"#DejaVuSans-101\"/>\r\n      <use x=\"355.810547\" xlink:href=\"#DejaVuSans-109\"/>\r\n      <use x=\"453.222656\" xlink:href=\"#DejaVuSans-95\"/>\r\n      <use x=\"503.222656\" xlink:href=\"#DejaVuSans-114\"/>\r\n      <use x=\"542.085938\" xlink:href=\"#DejaVuSans-101\"/>\r\n      <use x=\"603.609375\" xlink:href=\"#DejaVuSans-99\"/>\r\n     </g>\r\n    </g>\r\n    <g id=\"line2d_28\">\r\n     <path d=\"M 1049.607812 234.229688 \r\nL 1069.607812 234.229688 \r\n\" style=\"fill:none;stroke:#2ca02c;stroke-dasharray:1.5,1.5;stroke-dashoffset:0;stroke-width:1.5;\"/>\r\n    </g>\r\n    <g id=\"line2d_29\"/>\r\n    <g id=\"text_16\">\r\n     <!-- tfidf_rec -->\r\n     <defs>\r\n      <path d=\"M 37.109375 75.984375 \r\nL 37.109375 68.5 \r\nL 28.515625 68.5 \r\nQ 23.6875 68.5 21.796875 66.546875 \r\nQ 19.921875 64.59375 19.921875 59.515625 \r\nL 19.921875 54.6875 \r\nL 34.71875 54.6875 \r\nL 34.71875 47.703125 \r\nL 19.921875 47.703125 \r\nL 19.921875 0 \r\nL 10.890625 0 \r\nL 10.890625 47.703125 \r\nL 2.296875 47.703125 \r\nL 2.296875 54.6875 \r\nL 10.890625 54.6875 \r\nL 10.890625 58.5 \r\nQ 10.890625 67.625 15.140625 71.796875 \r\nQ 19.390625 75.984375 28.609375 75.984375 \r\nz\r\n\" id=\"DejaVuSans-102\"/>\r\n      <path d=\"M 45.40625 46.390625 \r\nL 45.40625 75.984375 \r\nL 54.390625 75.984375 \r\nL 54.390625 0 \r\nL 45.40625 0 \r\nL 45.40625 8.203125 \r\nQ 42.578125 3.328125 38.25 0.953125 \r\nQ 33.9375 -1.421875 27.875 -1.421875 \r\nQ 17.96875 -1.421875 11.734375 6.484375 \r\nQ 5.515625 14.40625 5.515625 27.296875 \r\nQ 5.515625 40.1875 11.734375 48.09375 \r\nQ 17.96875 56 27.875 56 \r\nQ 33.9375 56 38.25 53.625 \r\nQ 42.578125 51.265625 45.40625 46.390625 \r\nz\r\nM 14.796875 27.296875 \r\nQ 14.796875 17.390625 18.875 11.75 \r\nQ 22.953125 6.109375 30.078125 6.109375 \r\nQ 37.203125 6.109375 41.296875 11.75 \r\nQ 45.40625 17.390625 45.40625 27.296875 \r\nQ 45.40625 37.203125 41.296875 42.84375 \r\nQ 37.203125 48.484375 30.078125 48.484375 \r\nQ 22.953125 48.484375 18.875 42.84375 \r\nQ 14.796875 37.203125 14.796875 27.296875 \r\nz\r\n\" id=\"DejaVuSans-100\"/>\r\n     </defs>\r\n     <g transform=\"translate(1077.607812 237.729688)scale(0.1 -0.1)\">\r\n      <use xlink:href=\"#DejaVuSans-116\"/>\r\n      <use x=\"39.208984\" xlink:href=\"#DejaVuSans-102\"/>\r\n      <use x=\"74.414062\" xlink:href=\"#DejaVuSans-105\"/>\r\n      <use x=\"102.197266\" xlink:href=\"#DejaVuSans-100\"/>\r\n      <use x=\"165.673828\" xlink:href=\"#DejaVuSans-102\"/>\r\n      <use x=\"200.878906\" xlink:href=\"#DejaVuSans-95\"/>\r\n      <use x=\"250.878906\" xlink:href=\"#DejaVuSans-114\"/>\r\n      <use x=\"289.742188\" xlink:href=\"#DejaVuSans-101\"/>\r\n      <use x=\"351.265625\" xlink:href=\"#DejaVuSans-99\"/>\r\n     </g>\r\n    </g>\r\n    <g id=\"line2d_30\">\r\n     <path d=\"M 1049.607812 249.185938 \r\nL 1069.607812 249.185938 \r\n\" style=\"fill:none;stroke:#d62728;stroke-dasharray:4.5,1.5,2.25,1.5;stroke-dashoffset:0;stroke-width:1.5;\"/>\r\n    </g>\r\n    <g id=\"line2d_31\"/>\r\n    <g id=\"text_17\">\r\n     <!-- cosine_rec -->\r\n     <g transform=\"translate(1077.607812 252.685938)scale(0.1 -0.1)\">\r\n      <use xlink:href=\"#DejaVuSans-99\"/>\r\n      <use x=\"54.980469\" xlink:href=\"#DejaVuSans-111\"/>\r\n      <use x=\"116.162109\" xlink:href=\"#DejaVuSans-115\"/>\r\n      <use x=\"168.261719\" xlink:href=\"#DejaVuSans-105\"/>\r\n      <use x=\"196.044922\" xlink:href=\"#DejaVuSans-110\"/>\r\n      <use x=\"259.423828\" xlink:href=\"#DejaVuSans-101\"/>\r\n      <use x=\"320.947266\" xlink:href=\"#DejaVuSans-95\"/>\r\n      <use x=\"370.947266\" xlink:href=\"#DejaVuSans-114\"/>\r\n      <use x=\"409.810547\" xlink:href=\"#DejaVuSans-101\"/>\r\n      <use x=\"471.333984\" xlink:href=\"#DejaVuSans-99\"/>\r\n     </g>\r\n    </g>\r\n    <g id=\"line2d_32\">\r\n     <path d=\"M 1049.607812 264.142188 \r\nL 1069.607812 264.142188 \r\n\" style=\"fill:none;stroke:#9467bd;stroke-dasharray:7.5,1.5,1.5,1.5;stroke-dashoffset:0;stroke-width:1.5;\"/>\r\n    </g>\r\n    <g id=\"line2d_33\"/>\r\n    <g id=\"text_18\">\r\n     <!-- als_rec -->\r\n     <defs>\r\n      <path d=\"M 34.28125 27.484375 \r\nQ 23.390625 27.484375 19.1875 25 \r\nQ 14.984375 22.515625 14.984375 16.5 \r\nQ 14.984375 11.71875 18.140625 8.90625 \r\nQ 21.296875 6.109375 26.703125 6.109375 \r\nQ 34.1875 6.109375 38.703125 11.40625 \r\nQ 43.21875 16.703125 43.21875 25.484375 \r\nL 43.21875 27.484375 \r\nz\r\nM 52.203125 31.203125 \r\nL 52.203125 0 \r\nL 43.21875 0 \r\nL 43.21875 8.296875 \r\nQ 40.140625 3.328125 35.546875 0.953125 \r\nQ 30.953125 -1.421875 24.3125 -1.421875 \r\nQ 15.921875 -1.421875 10.953125 3.296875 \r\nQ 6 8.015625 6 15.921875 \r\nQ 6 25.140625 12.171875 29.828125 \r\nQ 18.359375 34.515625 30.609375 34.515625 \r\nL 43.21875 34.515625 \r\nL 43.21875 35.40625 \r\nQ 43.21875 41.609375 39.140625 45 \r\nQ 35.0625 48.390625 27.6875 48.390625 \r\nQ 23 48.390625 18.546875 47.265625 \r\nQ 14.109375 46.140625 10.015625 43.890625 \r\nL 10.015625 52.203125 \r\nQ 14.9375 54.109375 19.578125 55.046875 \r\nQ 24.21875 56 28.609375 56 \r\nQ 40.484375 56 46.34375 49.84375 \r\nQ 52.203125 43.703125 52.203125 31.203125 \r\nz\r\n\" id=\"DejaVuSans-97\"/>\r\n      <path d=\"M 9.421875 75.984375 \r\nL 18.40625 75.984375 \r\nL 18.40625 0 \r\nL 9.421875 0 \r\nz\r\n\" id=\"DejaVuSans-108\"/>\r\n     </defs>\r\n     <g transform=\"translate(1077.607812 267.642188)scale(0.1 -0.1)\">\r\n      <use xlink:href=\"#DejaVuSans-97\"/>\r\n      <use x=\"61.279297\" xlink:href=\"#DejaVuSans-108\"/>\r\n      <use x=\"89.0625\" xlink:href=\"#DejaVuSans-115\"/>\r\n      <use x=\"141.162109\" xlink:href=\"#DejaVuSans-95\"/>\r\n      <use x=\"191.162109\" xlink:href=\"#DejaVuSans-114\"/>\r\n      <use x=\"230.025391\" xlink:href=\"#DejaVuSans-101\"/>\r\n      <use x=\"291.548828\" xlink:href=\"#DejaVuSans-99\"/>\r\n     </g>\r\n    </g>\r\n   </g>\r\n  </g>\r\n </g>\r\n <defs>\r\n  <clipPath id=\"p4a21486271\">\r\n   <rect height=\"271.8\" width=\"1116\" x=\"36.465625\" y=\"7.2\"/>\r\n  </clipPath>\r\n </defs>\r\n</svg>\r\n",
      "image/png": "[encoded data removed]"
     },
     "metadata": {
      "needs_background": "light"
     }
    }
   ],
   "source": [
    "results_recall = dict()\n",
    "for k in range(10, 510, 10):\n",
    "    gen = calc_recall(result_eval_matcher, k, ACTUAL_COL)\n",
    "    for itm in gen:\n",
    "        if k not in results_recall:\n",
    "            results_recall[k] = dict()\n",
    "        results_recall[k].update({itm[0]: itm[1]})\n",
    "\n",
    "plt.figure(figsize=(20, 5))\n",
    "sns.lineplot(data=pd.DataFrame.from_dict(results_recall, orient='index'))"
   ]
  },
  {
   "cell_type": "code",
   "execution_count": 18,
   "metadata": {},
   "outputs": [
    {
     "output_type": "execute_result",
     "data": {
      "text/plain": [
       "      own_rec  sim_item_rec  tfidf_rec  cosine_rec   als_rec\n",
       "260  0.032476       0.02218   0.069325     0.06768  0.053897\n",
       "270  0.032476       0.02218   0.069325     0.06768  0.053897\n",
       "290  0.032476       0.02218   0.069325     0.06768  0.053897\n",
       "300  0.032476       0.02218   0.069325     0.06768  0.053897\n",
       "310  0.032476       0.02218   0.069325     0.06768  0.053897"
      ],
      "text/html": "<div>\n<style scoped>\n    .dataframe tbody tr th:only-of-type {\n        vertical-align: middle;\n    }\n\n    .dataframe tbody tr th {\n        vertical-align: top;\n    }\n\n    .dataframe thead th {\n        text-align: right;\n    }\n</style>\n<table border=\"1\" class=\"dataframe\">\n  <thead>\n    <tr style=\"text-align: right;\">\n      <th></th>\n      <th>own_rec</th>\n      <th>sim_item_rec</th>\n      <th>tfidf_rec</th>\n      <th>cosine_rec</th>\n      <th>als_rec</th>\n    </tr>\n  </thead>\n  <tbody>\n    <tr>\n      <th>260</th>\n      <td>0.032476</td>\n      <td>0.02218</td>\n      <td>0.069325</td>\n      <td>0.06768</td>\n      <td>0.053897</td>\n    </tr>\n    <tr>\n      <th>270</th>\n      <td>0.032476</td>\n      <td>0.02218</td>\n      <td>0.069325</td>\n      <td>0.06768</td>\n      <td>0.053897</td>\n    </tr>\n    <tr>\n      <th>290</th>\n      <td>0.032476</td>\n      <td>0.02218</td>\n      <td>0.069325</td>\n      <td>0.06768</td>\n      <td>0.053897</td>\n    </tr>\n    <tr>\n      <th>300</th>\n      <td>0.032476</td>\n      <td>0.02218</td>\n      <td>0.069325</td>\n      <td>0.06768</td>\n      <td>0.053897</td>\n    </tr>\n    <tr>\n      <th>310</th>\n      <td>0.032476</td>\n      <td>0.02218</td>\n      <td>0.069325</td>\n      <td>0.06768</td>\n      <td>0.053897</td>\n    </tr>\n  </tbody>\n</table>\n</div>"
     },
     "metadata": {},
     "execution_count": 18
    }
   ],
   "source": [
    "pd.DataFrame.from_dict(results_recall, orient='index').sort_values(by='tfidf_rec', ascending=False).head()"
   ]
  },
  {
   "cell_type": "code",
   "execution_count": 19,
   "metadata": {},
   "outputs": [
    {
     "output_type": "execute_result",
     "data": {
      "text/plain": [
       "{'own_rec': 0.03247640940823699,\n",
       " 'sim_item_rec': 0.022180495444091165,\n",
       " 'tfidf_rec': 0.0693253113171965,\n",
       " 'cosine_rec': 0.0676801154187011,\n",
       " 'als_rec': 0.053896537704620676}"
      ]
     },
     "metadata": {},
     "execution_count": 19
    }
   ],
   "source": [
    "results_recall[50]"
   ]
  },
  {
   "source": [
    "### При значении k>50 recal уже не меняется"
   ],
   "cell_type": "markdown",
   "metadata": {}
  },
  {
   "cell_type": "code",
   "execution_count": 20,
   "metadata": {},
   "outputs": [],
   "source": [
    "TOPK_RECALL = 50"
   ]
  },
  {
   "cell_type": "markdown",
   "metadata": {},
   "source": [
    "### Precision@5 of matching"
   ]
  },
  {
   "cell_type": "code",
   "execution_count": 21,
   "metadata": {},
   "outputs": [
    {
     "output_type": "execute_result",
     "data": {
      "text/plain": [
       "<matplotlib.axes._subplots.AxesSubplot at 0x27db6582a88>"
      ]
     },
     "metadata": {},
     "execution_count": 21
    },
    {
     "output_type": "display_data",
     "data": {
      "text/plain": "<Figure size 1440x360 with 1 Axes>",
      "image/svg+xml": "<?xml version=\"1.0\" encoding=\"utf-8\" standalone=\"no\"?>\r\n<!DOCTYPE svg PUBLIC \"-//W3C//DTD SVG 1.1//EN\"\r\n  \"http://www.w3.org/Graphics/SVG/1.1/DTD/svg11.dtd\">\r\n<!-- Created with matplotlib (https://matplotlib.org/) -->\r\n<svg height=\"305.999087pt\" version=\"1.1\" viewBox=\"0 0 1159.665625 305.999087\" width=\"1159.665625pt\" xmlns=\"http://www.w3.org/2000/svg\" xmlns:xlink=\"http://www.w3.org/1999/xlink\">\r\n <defs>\r\n  <style type=\"text/css\">\r\n*{stroke-linecap:butt;stroke-linejoin:round;}\r\n  </style>\r\n </defs>\r\n <g id=\"figure_1\">\r\n  <g id=\"patch_1\">\r\n   <path d=\"M 0 305.999087 \r\nL 1159.665625 305.999087 \r\nL 1159.665625 0 \r\nL 0 0 \r\nz\r\n\" style=\"fill:none;\"/>\r\n  </g>\r\n  <g id=\"axes_1\">\r\n   <g id=\"patch_2\">\r\n    <path d=\"M 36.465625 282.120962 \r\nL 1152.465625 282.120962 \r\nL 1152.465625 10.320962 \r\nL 36.465625 10.320962 \r\nz\r\n\" style=\"fill:#ffffff;\"/>\r\n   </g>\r\n   <g id=\"matplotlib.axis_1\">\r\n    <g id=\"xtick_1\">\r\n     <g id=\"line2d_1\">\r\n      <defs>\r\n       <path d=\"M 0 0 \r\nL 0 3.5 \r\n\" id=\"mf9afa710c3\" style=\"stroke:#000000;stroke-width:0.8;\"/>\r\n      </defs>\r\n      <g>\r\n       <use style=\"stroke:#000000;stroke-width:0.8;\" x=\"154.829261\" xlink:href=\"#mf9afa710c3\" y=\"282.120962\"/>\r\n      </g>\r\n     </g>\r\n     <g id=\"text_1\">\r\n      <!-- 6 -->\r\n      <defs>\r\n       <path d=\"M 33.015625 40.375 \r\nQ 26.375 40.375 22.484375 35.828125 \r\nQ 18.609375 31.296875 18.609375 23.390625 \r\nQ 18.609375 15.53125 22.484375 10.953125 \r\nQ 26.375 6.390625 33.015625 6.390625 \r\nQ 39.65625 6.390625 43.53125 10.953125 \r\nQ 47.40625 15.53125 47.40625 23.390625 \r\nQ 47.40625 31.296875 43.53125 35.828125 \r\nQ 39.65625 40.375 33.015625 40.375 \r\nz\r\nM 52.59375 71.296875 \r\nL 52.59375 62.3125 \r\nQ 48.875 64.0625 45.09375 64.984375 \r\nQ 41.3125 65.921875 37.59375 65.921875 \r\nQ 27.828125 65.921875 22.671875 59.328125 \r\nQ 17.53125 52.734375 16.796875 39.40625 \r\nQ 19.671875 43.65625 24.015625 45.921875 \r\nQ 28.375 48.1875 33.59375 48.1875 \r\nQ 44.578125 48.1875 50.953125 41.515625 \r\nQ 57.328125 34.859375 57.328125 23.390625 \r\nQ 57.328125 12.15625 50.6875 5.359375 \r\nQ 44.046875 -1.421875 33.015625 -1.421875 \r\nQ 20.359375 -1.421875 13.671875 8.265625 \r\nQ 6.984375 17.96875 6.984375 36.375 \r\nQ 6.984375 53.65625 15.1875 63.9375 \r\nQ 23.390625 74.21875 37.203125 74.21875 \r\nQ 40.921875 74.21875 44.703125 73.484375 \r\nQ 48.484375 72.75 52.59375 71.296875 \r\nz\r\n\" id=\"DejaVuSans-54\"/>\r\n      </defs>\r\n      <g transform=\"translate(151.648011 296.7194)scale(0.1 -0.1)\">\r\n       <use xlink:href=\"#DejaVuSans-54\"/>\r\n      </g>\r\n     </g>\r\n    </g>\r\n    <g id=\"xtick_2\">\r\n     <g id=\"line2d_2\">\r\n      <g>\r\n       <use style=\"stroke:#000000;stroke-width:0.8;\" x=\"290.101989\" xlink:href=\"#mf9afa710c3\" y=\"282.120962\"/>\r\n      </g>\r\n     </g>\r\n     <g id=\"text_2\">\r\n      <!-- 8 -->\r\n      <defs>\r\n       <path d=\"M 31.78125 34.625 \r\nQ 24.75 34.625 20.71875 30.859375 \r\nQ 16.703125 27.09375 16.703125 20.515625 \r\nQ 16.703125 13.921875 20.71875 10.15625 \r\nQ 24.75 6.390625 31.78125 6.390625 \r\nQ 38.8125 6.390625 42.859375 10.171875 \r\nQ 46.921875 13.96875 46.921875 20.515625 \r\nQ 46.921875 27.09375 42.890625 30.859375 \r\nQ 38.875 34.625 31.78125 34.625 \r\nz\r\nM 21.921875 38.8125 \r\nQ 15.578125 40.375 12.03125 44.71875 \r\nQ 8.5 49.078125 8.5 55.328125 \r\nQ 8.5 64.0625 14.71875 69.140625 \r\nQ 20.953125 74.21875 31.78125 74.21875 \r\nQ 42.671875 74.21875 48.875 69.140625 \r\nQ 55.078125 64.0625 55.078125 55.328125 \r\nQ 55.078125 49.078125 51.53125 44.71875 \r\nQ 48 40.375 41.703125 38.8125 \r\nQ 48.828125 37.15625 52.796875 32.3125 \r\nQ 56.78125 27.484375 56.78125 20.515625 \r\nQ 56.78125 9.90625 50.3125 4.234375 \r\nQ 43.84375 -1.421875 31.78125 -1.421875 \r\nQ 19.734375 -1.421875 13.25 4.234375 \r\nQ 6.78125 9.90625 6.78125 20.515625 \r\nQ 6.78125 27.484375 10.78125 32.3125 \r\nQ 14.796875 37.15625 21.921875 38.8125 \r\nz\r\nM 18.3125 54.390625 \r\nQ 18.3125 48.734375 21.84375 45.5625 \r\nQ 25.390625 42.390625 31.78125 42.390625 \r\nQ 38.140625 42.390625 41.71875 45.5625 \r\nQ 45.3125 48.734375 45.3125 54.390625 \r\nQ 45.3125 60.0625 41.71875 63.234375 \r\nQ 38.140625 66.40625 31.78125 66.40625 \r\nQ 25.390625 66.40625 21.84375 63.234375 \r\nQ 18.3125 60.0625 18.3125 54.390625 \r\nz\r\n\" id=\"DejaVuSans-56\"/>\r\n      </defs>\r\n      <g transform=\"translate(286.920739 296.7194)scale(0.1 -0.1)\">\r\n       <use xlink:href=\"#DejaVuSans-56\"/>\r\n      </g>\r\n     </g>\r\n    </g>\r\n    <g id=\"xtick_3\">\r\n     <g id=\"line2d_3\">\r\n      <g>\r\n       <use style=\"stroke:#000000;stroke-width:0.8;\" x=\"425.374716\" xlink:href=\"#mf9afa710c3\" y=\"282.120962\"/>\r\n      </g>\r\n     </g>\r\n     <g id=\"text_3\">\r\n      <!-- 10 -->\r\n      <defs>\r\n       <path d=\"M 12.40625 8.296875 \r\nL 28.515625 8.296875 \r\nL 28.515625 63.921875 \r\nL 10.984375 60.40625 \r\nL 10.984375 69.390625 \r\nL 28.421875 72.90625 \r\nL 38.28125 72.90625 \r\nL 38.28125 8.296875 \r\nL 54.390625 8.296875 \r\nL 54.390625 0 \r\nL 12.40625 0 \r\nz\r\n\" id=\"DejaVuSans-49\"/>\r\n       <path d=\"M 31.78125 66.40625 \r\nQ 24.171875 66.40625 20.328125 58.90625 \r\nQ 16.5 51.421875 16.5 36.375 \r\nQ 16.5 21.390625 20.328125 13.890625 \r\nQ 24.171875 6.390625 31.78125 6.390625 \r\nQ 39.453125 6.390625 43.28125 13.890625 \r\nQ 47.125 21.390625 47.125 36.375 \r\nQ 47.125 51.421875 43.28125 58.90625 \r\nQ 39.453125 66.40625 31.78125 66.40625 \r\nz\r\nM 31.78125 74.21875 \r\nQ 44.046875 74.21875 50.515625 64.515625 \r\nQ 56.984375 54.828125 56.984375 36.375 \r\nQ 56.984375 17.96875 50.515625 8.265625 \r\nQ 44.046875 -1.421875 31.78125 -1.421875 \r\nQ 19.53125 -1.421875 13.0625 8.265625 \r\nQ 6.59375 17.96875 6.59375 36.375 \r\nQ 6.59375 54.828125 13.0625 64.515625 \r\nQ 19.53125 74.21875 31.78125 74.21875 \r\nz\r\n\" id=\"DejaVuSans-48\"/>\r\n      </defs>\r\n      <g transform=\"translate(419.012216 296.7194)scale(0.1 -0.1)\">\r\n       <use xlink:href=\"#DejaVuSans-49\"/>\r\n       <use x=\"63.623047\" xlink:href=\"#DejaVuSans-48\"/>\r\n      </g>\r\n     </g>\r\n    </g>\r\n    <g id=\"xtick_4\">\r\n     <g id=\"line2d_4\">\r\n      <g>\r\n       <use style=\"stroke:#000000;stroke-width:0.8;\" x=\"560.647443\" xlink:href=\"#mf9afa710c3\" y=\"282.120962\"/>\r\n      </g>\r\n     </g>\r\n     <g id=\"text_4\">\r\n      <!-- 12 -->\r\n      <defs>\r\n       <path d=\"M 19.1875 8.296875 \r\nL 53.609375 8.296875 \r\nL 53.609375 0 \r\nL 7.328125 0 \r\nL 7.328125 8.296875 \r\nQ 12.9375 14.109375 22.625 23.890625 \r\nQ 32.328125 33.6875 34.8125 36.53125 \r\nQ 39.546875 41.84375 41.421875 45.53125 \r\nQ 43.3125 49.21875 43.3125 52.78125 \r\nQ 43.3125 58.59375 39.234375 62.25 \r\nQ 35.15625 65.921875 28.609375 65.921875 \r\nQ 23.96875 65.921875 18.8125 64.3125 \r\nQ 13.671875 62.703125 7.8125 59.421875 \r\nL 7.8125 69.390625 \r\nQ 13.765625 71.78125 18.9375 73 \r\nQ 24.125 74.21875 28.421875 74.21875 \r\nQ 39.75 74.21875 46.484375 68.546875 \r\nQ 53.21875 62.890625 53.21875 53.421875 \r\nQ 53.21875 48.921875 51.53125 44.890625 \r\nQ 49.859375 40.875 45.40625 35.40625 \r\nQ 44.1875 33.984375 37.640625 27.21875 \r\nQ 31.109375 20.453125 19.1875 8.296875 \r\nz\r\n\" id=\"DejaVuSans-50\"/>\r\n      </defs>\r\n      <g transform=\"translate(554.284943 296.7194)scale(0.1 -0.1)\">\r\n       <use xlink:href=\"#DejaVuSans-49\"/>\r\n       <use x=\"63.623047\" xlink:href=\"#DejaVuSans-50\"/>\r\n      </g>\r\n     </g>\r\n    </g>\r\n    <g id=\"xtick_5\">\r\n     <g id=\"line2d_5\">\r\n      <g>\r\n       <use style=\"stroke:#000000;stroke-width:0.8;\" x=\"695.92017\" xlink:href=\"#mf9afa710c3\" y=\"282.120962\"/>\r\n      </g>\r\n     </g>\r\n     <g id=\"text_5\">\r\n      <!-- 14 -->\r\n      <defs>\r\n       <path d=\"M 37.796875 64.3125 \r\nL 12.890625 25.390625 \r\nL 37.796875 25.390625 \r\nz\r\nM 35.203125 72.90625 \r\nL 47.609375 72.90625 \r\nL 47.609375 25.390625 \r\nL 58.015625 25.390625 \r\nL 58.015625 17.1875 \r\nL 47.609375 17.1875 \r\nL 47.609375 0 \r\nL 37.796875 0 \r\nL 37.796875 17.1875 \r\nL 4.890625 17.1875 \r\nL 4.890625 26.703125 \r\nz\r\n\" id=\"DejaVuSans-52\"/>\r\n      </defs>\r\n      <g transform=\"translate(689.55767 296.7194)scale(0.1 -0.1)\">\r\n       <use xlink:href=\"#DejaVuSans-49\"/>\r\n       <use x=\"63.623047\" xlink:href=\"#DejaVuSans-52\"/>\r\n      </g>\r\n     </g>\r\n    </g>\r\n    <g id=\"xtick_6\">\r\n     <g id=\"line2d_6\">\r\n      <g>\r\n       <use style=\"stroke:#000000;stroke-width:0.8;\" x=\"831.192898\" xlink:href=\"#mf9afa710c3\" y=\"282.120962\"/>\r\n      </g>\r\n     </g>\r\n     <g id=\"text_6\">\r\n      <!-- 16 -->\r\n      <g transform=\"translate(824.830398 296.7194)scale(0.1 -0.1)\">\r\n       <use xlink:href=\"#DejaVuSans-49\"/>\r\n       <use x=\"63.623047\" xlink:href=\"#DejaVuSans-54\"/>\r\n      </g>\r\n     </g>\r\n    </g>\r\n    <g id=\"xtick_7\">\r\n     <g id=\"line2d_7\">\r\n      <g>\r\n       <use style=\"stroke:#000000;stroke-width:0.8;\" x=\"966.465625\" xlink:href=\"#mf9afa710c3\" y=\"282.120962\"/>\r\n      </g>\r\n     </g>\r\n     <g id=\"text_7\">\r\n      <!-- 18 -->\r\n      <g transform=\"translate(960.103125 296.7194)scale(0.1 -0.1)\">\r\n       <use xlink:href=\"#DejaVuSans-49\"/>\r\n       <use x=\"63.623047\" xlink:href=\"#DejaVuSans-56\"/>\r\n      </g>\r\n     </g>\r\n    </g>\r\n    <g id=\"xtick_8\">\r\n     <g id=\"line2d_8\">\r\n      <g>\r\n       <use style=\"stroke:#000000;stroke-width:0.8;\" x=\"1101.738352\" xlink:href=\"#mf9afa710c3\" y=\"282.120962\"/>\r\n      </g>\r\n     </g>\r\n     <g id=\"text_8\">\r\n      <!-- 20 -->\r\n      <g transform=\"translate(1095.375852 296.7194)scale(0.1 -0.1)\">\r\n       <use xlink:href=\"#DejaVuSans-50\"/>\r\n       <use x=\"63.623047\" xlink:href=\"#DejaVuSans-48\"/>\r\n      </g>\r\n     </g>\r\n    </g>\r\n   </g>\r\n   <g id=\"matplotlib.axis_2\">\r\n    <g id=\"ytick_1\">\r\n     <g id=\"line2d_9\">\r\n      <defs>\r\n       <path d=\"M 0 0 \r\nL -3.5 0 \r\n\" id=\"m3f19043ebb\" style=\"stroke:#000000;stroke-width:0.8;\"/>\r\n      </defs>\r\n      <g>\r\n       <use style=\"stroke:#000000;stroke-width:0.8;\" x=\"36.465625\" xlink:href=\"#m3f19043ebb\" y=\"249.733185\"/>\r\n      </g>\r\n     </g>\r\n     <g id=\"text_9\">\r\n      <!-- 0.06 -->\r\n      <defs>\r\n       <path d=\"M 10.6875 12.40625 \r\nL 21 12.40625 \r\nL 21 0 \r\nL 10.6875 0 \r\nz\r\n\" id=\"DejaVuSans-46\"/>\r\n      </defs>\r\n      <g transform=\"translate(7.2 253.532404)scale(0.1 -0.1)\">\r\n       <use xlink:href=\"#DejaVuSans-48\"/>\r\n       <use x=\"63.623047\" xlink:href=\"#DejaVuSans-46\"/>\r\n       <use x=\"95.410156\" xlink:href=\"#DejaVuSans-48\"/>\r\n       <use x=\"159.033203\" xlink:href=\"#DejaVuSans-54\"/>\r\n      </g>\r\n     </g>\r\n    </g>\r\n    <g id=\"ytick_2\">\r\n     <g id=\"line2d_10\">\r\n      <g>\r\n       <use style=\"stroke:#000000;stroke-width:0.8;\" x=\"36.465625\" xlink:href=\"#m3f19043ebb\" y=\"209.944191\"/>\r\n      </g>\r\n     </g>\r\n     <g id=\"text_10\">\r\n      <!-- 0.08 -->\r\n      <g transform=\"translate(7.2 213.74341)scale(0.1 -0.1)\">\r\n       <use xlink:href=\"#DejaVuSans-48\"/>\r\n       <use x=\"63.623047\" xlink:href=\"#DejaVuSans-46\"/>\r\n       <use x=\"95.410156\" xlink:href=\"#DejaVuSans-48\"/>\r\n       <use x=\"159.033203\" xlink:href=\"#DejaVuSans-56\"/>\r\n      </g>\r\n     </g>\r\n    </g>\r\n    <g id=\"ytick_3\">\r\n     <g id=\"line2d_11\">\r\n      <g>\r\n       <use style=\"stroke:#000000;stroke-width:0.8;\" x=\"36.465625\" xlink:href=\"#m3f19043ebb\" y=\"170.155196\"/>\r\n      </g>\r\n     </g>\r\n     <g id=\"text_11\">\r\n      <!-- 0.10 -->\r\n      <g transform=\"translate(7.2 173.954415)scale(0.1 -0.1)\">\r\n       <use xlink:href=\"#DejaVuSans-48\"/>\r\n       <use x=\"63.623047\" xlink:href=\"#DejaVuSans-46\"/>\r\n       <use x=\"95.410156\" xlink:href=\"#DejaVuSans-49\"/>\r\n       <use x=\"159.033203\" xlink:href=\"#DejaVuSans-48\"/>\r\n      </g>\r\n     </g>\r\n    </g>\r\n    <g id=\"ytick_4\">\r\n     <g id=\"line2d_12\">\r\n      <g>\r\n       <use style=\"stroke:#000000;stroke-width:0.8;\" x=\"36.465625\" xlink:href=\"#m3f19043ebb\" y=\"130.366202\"/>\r\n      </g>\r\n     </g>\r\n     <g id=\"text_12\">\r\n      <!-- 0.12 -->\r\n      <g transform=\"translate(7.2 134.165421)scale(0.1 -0.1)\">\r\n       <use xlink:href=\"#DejaVuSans-48\"/>\r\n       <use x=\"63.623047\" xlink:href=\"#DejaVuSans-46\"/>\r\n       <use x=\"95.410156\" xlink:href=\"#DejaVuSans-49\"/>\r\n       <use x=\"159.033203\" xlink:href=\"#DejaVuSans-50\"/>\r\n      </g>\r\n     </g>\r\n    </g>\r\n    <g id=\"ytick_5\">\r\n     <g id=\"line2d_13\">\r\n      <g>\r\n       <use style=\"stroke:#000000;stroke-width:0.8;\" x=\"36.465625\" xlink:href=\"#m3f19043ebb\" y=\"90.577208\"/>\r\n      </g>\r\n     </g>\r\n     <g id=\"text_13\">\r\n      <!-- 0.14 -->\r\n      <g transform=\"translate(7.2 94.376426)scale(0.1 -0.1)\">\r\n       <use xlink:href=\"#DejaVuSans-48\"/>\r\n       <use x=\"63.623047\" xlink:href=\"#DejaVuSans-46\"/>\r\n       <use x=\"95.410156\" xlink:href=\"#DejaVuSans-49\"/>\r\n       <use x=\"159.033203\" xlink:href=\"#DejaVuSans-52\"/>\r\n      </g>\r\n     </g>\r\n    </g>\r\n    <g id=\"ytick_6\">\r\n     <g id=\"line2d_14\">\r\n      <g>\r\n       <use style=\"stroke:#000000;stroke-width:0.8;\" x=\"36.465625\" xlink:href=\"#m3f19043ebb\" y=\"50.788213\"/>\r\n      </g>\r\n     </g>\r\n     <g id=\"text_14\">\r\n      <!-- 0.16 -->\r\n      <g transform=\"translate(7.2 54.587432)scale(0.1 -0.1)\">\r\n       <use xlink:href=\"#DejaVuSans-48\"/>\r\n       <use x=\"63.623047\" xlink:href=\"#DejaVuSans-46\"/>\r\n       <use x=\"95.410156\" xlink:href=\"#DejaVuSans-49\"/>\r\n       <use x=\"159.033203\" xlink:href=\"#DejaVuSans-54\"/>\r\n      </g>\r\n     </g>\r\n    </g>\r\n    <g id=\"ytick_7\">\r\n     <g id=\"line2d_15\">\r\n      <g>\r\n       <use style=\"stroke:#000000;stroke-width:0.8;\" x=\"36.465625\" xlink:href=\"#m3f19043ebb\" y=\"10.999219\"/>\r\n      </g>\r\n     </g>\r\n     <g id=\"text_15\">\r\n      <!-- 0.18 -->\r\n      <g transform=\"translate(7.2 14.798437)scale(0.1 -0.1)\">\r\n       <use xlink:href=\"#DejaVuSans-48\"/>\r\n       <use x=\"63.623047\" xlink:href=\"#DejaVuSans-46\"/>\r\n       <use x=\"95.410156\" xlink:href=\"#DejaVuSans-49\"/>\r\n       <use x=\"159.033203\" xlink:href=\"#DejaVuSans-56\"/>\r\n      </g>\r\n     </g>\r\n    </g>\r\n   </g>\r\n   <g id=\"line2d_16\">\r\n    <path clip-path=\"url(#p2691e6cdbb)\" d=\"M 87.192898 109.204598 \r\nL 154.829261 120.149192 \r\nL 222.465625 134.308898 \r\nL 290.101989 145.506738 \r\nL 357.738352 161.307032 \r\nL 425.374716 167.56549 \r\nL 493.01108 179.412557 \r\nL 560.647443 190.595382 \r\nL 628.283807 198.848293 \r\nL 695.92017 207.507752 \r\nL 763.556534 205.455366 \r\nL 831.192898 207.879362 \r\nL 898.829261 204.142377 \r\nL 966.465625 208.014243 \r\nL 1034.101989 210.407612 \r\nL 1101.738352 215.613799 \r\n\" style=\"fill:none;stroke:#1f77b4;stroke-linecap:square;stroke-width:1.5;\"/>\r\n   </g>\r\n   <g id=\"line2d_17\">\r\n    <path clip-path=\"url(#p2691e6cdbb)\" d=\"M 87.192898 246.829014 \r\nL 154.829261 245.318352 \r\nL 222.465625 250.052935 \r\nL 290.101989 250.251127 \r\nL 357.738352 251.535703 \r\nL 425.374716 255.245561 \r\nL 493.01108 256.683353 \r\nL 560.647443 258.806408 \r\nL 628.283807 259.179923 \r\nL 695.92017 260.68923 \r\nL 763.556534 263.107171 \r\nL 831.192898 264.124556 \r\nL 898.829261 265.838332 \r\nL 966.465625 267.20754 \r\nL 1034.101989 268.627335 \r\nL 1101.738352 269.766417 \r\n\" style=\"fill:none;stroke:#ff7f0e;stroke-dasharray:6,2.25;stroke-dashoffset:0;stroke-width:1.5;\"/>\r\n   </g>\r\n   <g id=\"line2d_18\">\r\n    <path clip-path=\"url(#p2691e6cdbb)\" d=\"M 87.192898 57.780421 \r\nL 154.829261 43.382885 \r\nL 222.465625 32.174035 \r\nL 290.101989 23.767398 \r\nL 357.738352 22.675508 \r\nL 425.374716 23.559296 \r\nL 493.01108 23.27342 \r\nL 560.647443 23.960084 \r\nL 628.283807 26.177462 \r\nL 695.92017 29.267222 \r\nL 763.556534 33.054888 \r\nL 831.192898 35.386395 \r\nL 898.829261 40.109481 \r\nL 966.465625 43.691183 \r\nL 1034.101989 47.187937 \r\nL 1101.738352 51.491134 \r\n\" style=\"fill:none;stroke:#2ca02c;stroke-dasharray:1.5,1.5;stroke-dashoffset:0;stroke-width:1.5;\"/>\r\n   </g>\r\n   <g id=\"line2d_19\">\r\n    <path clip-path=\"url(#p2691e6cdbb)\" d=\"M 87.192898 50.936196 \r\nL 154.829261 58.181209 \r\nL 222.465625 49.086406 \r\nL 290.101989 39.837453 \r\nL 357.738352 33.465952 \r\nL 425.374716 26.79643 \r\nL 493.01108 28.234222 \r\nL 560.647443 27.582591 \r\nL 628.283807 30.375063 \r\nL 695.92017 30.984884 \r\nL 763.556534 35.582935 \r\nL 831.192898 38.796946 \r\nL 898.829261 42.884167 \r\nL 966.465625 46.31172 \r\nL 1034.101989 50.108659 \r\nL 1101.738352 53.710882 \r\n\" style=\"fill:none;stroke:#d62728;stroke-dasharray:4.5,1.5,2.25,1.5;stroke-dashoffset:0;stroke-width:1.5;\"/>\r\n   </g>\r\n   <g id=\"line2d_20\">\r\n    <path clip-path=\"url(#p2691e6cdbb)\" d=\"M 87.192898 87.37707 \r\nL 154.829261 91.785737 \r\nL 222.465625 99.03075 \r\nL 290.101989 105.505017 \r\nL 357.738352 107.663106 \r\nL 425.374716 111.146878 \r\nL 493.01108 116.856005 \r\nL 560.647443 118.838924 \r\nL 628.283807 123.718339 \r\nL 695.92017 127.30612 \r\nL 763.556534 129.737273 \r\nL 831.192898 132.789428 \r\nL 898.829261 134.775232 \r\nL 966.465625 138.390182 \r\nL 1034.101989 140.94311 \r\nL 1101.738352 143.795681 \r\n\" style=\"fill:none;stroke:#9467bd;stroke-dasharray:7.5,1.5,1.5,1.5;stroke-dashoffset:0;stroke-width:1.5;\"/>\r\n   </g>\r\n   <g id=\"line2d_21\"/>\r\n   <g id=\"line2d_22\"/>\r\n   <g id=\"line2d_23\"/>\r\n   <g id=\"line2d_24\"/>\r\n   <g id=\"line2d_25\"/>\r\n   <g id=\"patch_3\">\r\n    <path d=\"M 36.465625 282.120962 \r\nL 36.465625 10.320962 \r\n\" style=\"fill:none;stroke:#000000;stroke-linecap:square;stroke-linejoin:miter;stroke-width:0.8;\"/>\r\n   </g>\r\n   <g id=\"patch_4\">\r\n    <path d=\"M 1152.465625 282.120962 \r\nL 1152.465625 10.320962 \r\n\" style=\"fill:none;stroke:#000000;stroke-linecap:square;stroke-linejoin:miter;stroke-width:0.8;\"/>\r\n   </g>\r\n   <g id=\"patch_5\">\r\n    <path d=\"M 36.465625 282.120962 \r\nL 1152.465625 282.120962 \r\n\" style=\"fill:none;stroke:#000000;stroke-linecap:square;stroke-linejoin:miter;stroke-width:0.8;\"/>\r\n   </g>\r\n   <g id=\"patch_6\">\r\n    <path d=\"M 36.465625 10.320962 \r\nL 1152.465625 10.320962 \r\n\" style=\"fill:none;stroke:#000000;stroke-linecap:square;stroke-linejoin:miter;stroke-width:0.8;\"/>\r\n   </g>\r\n   <g id=\"legend_1\">\r\n    <g id=\"patch_7\">\r\n     <path d=\"M 43.465625 277.120962 \r\nL 141.323438 277.120962 \r\nQ 143.323438 277.120962 143.323438 275.120962 \r\nL 143.323438 201.339712 \r\nQ 143.323438 199.339712 141.323438 199.339712 \r\nL 43.465625 199.339712 \r\nQ 41.465625 199.339712 41.465625 201.339712 \r\nL 41.465625 275.120962 \r\nQ 41.465625 277.120962 43.465625 277.120962 \r\nz\r\n\" style=\"fill:#ffffff;opacity:0.8;stroke:#cccccc;stroke-linejoin:miter;\"/>\r\n    </g>\r\n    <g id=\"line2d_26\">\r\n     <path d=\"M 45.465625 207.43815 \r\nL 65.465625 207.43815 \r\n\" style=\"fill:none;stroke:#1f77b4;stroke-linecap:square;stroke-width:1.5;\"/>\r\n    </g>\r\n    <g id=\"line2d_27\"/>\r\n    <g id=\"text_16\">\r\n     <!-- own_rec -->\r\n     <defs>\r\n      <path d=\"M 30.609375 48.390625 \r\nQ 23.390625 48.390625 19.1875 42.75 \r\nQ 14.984375 37.109375 14.984375 27.296875 \r\nQ 14.984375 17.484375 19.15625 11.84375 \r\nQ 23.34375 6.203125 30.609375 6.203125 \r\nQ 37.796875 6.203125 41.984375 11.859375 \r\nQ 46.1875 17.53125 46.1875 27.296875 \r\nQ 46.1875 37.015625 41.984375 42.703125 \r\nQ 37.796875 48.390625 30.609375 48.390625 \r\nz\r\nM 30.609375 56 \r\nQ 42.328125 56 49.015625 48.375 \r\nQ 55.71875 40.765625 55.71875 27.296875 \r\nQ 55.71875 13.875 49.015625 6.21875 \r\nQ 42.328125 -1.421875 30.609375 -1.421875 \r\nQ 18.84375 -1.421875 12.171875 6.21875 \r\nQ 5.515625 13.875 5.515625 27.296875 \r\nQ 5.515625 40.765625 12.171875 48.375 \r\nQ 18.84375 56 30.609375 56 \r\nz\r\n\" id=\"DejaVuSans-111\"/>\r\n      <path d=\"M 4.203125 54.6875 \r\nL 13.1875 54.6875 \r\nL 24.421875 12.015625 \r\nL 35.59375 54.6875 \r\nL 46.1875 54.6875 \r\nL 57.421875 12.015625 \r\nL 68.609375 54.6875 \r\nL 77.59375 54.6875 \r\nL 63.28125 0 \r\nL 52.6875 0 \r\nL 40.921875 44.828125 \r\nL 29.109375 0 \r\nL 18.5 0 \r\nz\r\n\" id=\"DejaVuSans-119\"/>\r\n      <path d=\"M 54.890625 33.015625 \r\nL 54.890625 0 \r\nL 45.90625 0 \r\nL 45.90625 32.71875 \r\nQ 45.90625 40.484375 42.875 44.328125 \r\nQ 39.84375 48.1875 33.796875 48.1875 \r\nQ 26.515625 48.1875 22.3125 43.546875 \r\nQ 18.109375 38.921875 18.109375 30.90625 \r\nL 18.109375 0 \r\nL 9.078125 0 \r\nL 9.078125 54.6875 \r\nL 18.109375 54.6875 \r\nL 18.109375 46.1875 \r\nQ 21.34375 51.125 25.703125 53.5625 \r\nQ 30.078125 56 35.796875 56 \r\nQ 45.21875 56 50.046875 50.171875 \r\nQ 54.890625 44.34375 54.890625 33.015625 \r\nz\r\n\" id=\"DejaVuSans-110\"/>\r\n      <path d=\"M 50.984375 -16.609375 \r\nL 50.984375 -23.578125 \r\nL -0.984375 -23.578125 \r\nL -0.984375 -16.609375 \r\nz\r\n\" id=\"DejaVuSans-95\"/>\r\n      <path d=\"M 41.109375 46.296875 \r\nQ 39.59375 47.171875 37.8125 47.578125 \r\nQ 36.03125 48 33.890625 48 \r\nQ 26.265625 48 22.1875 43.046875 \r\nQ 18.109375 38.09375 18.109375 28.8125 \r\nL 18.109375 0 \r\nL 9.078125 0 \r\nL 9.078125 54.6875 \r\nL 18.109375 54.6875 \r\nL 18.109375 46.1875 \r\nQ 20.953125 51.171875 25.484375 53.578125 \r\nQ 30.03125 56 36.53125 56 \r\nQ 37.453125 56 38.578125 55.875 \r\nQ 39.703125 55.765625 41.0625 55.515625 \r\nz\r\n\" id=\"DejaVuSans-114\"/>\r\n      <path d=\"M 56.203125 29.59375 \r\nL 56.203125 25.203125 \r\nL 14.890625 25.203125 \r\nQ 15.484375 15.921875 20.484375 11.0625 \r\nQ 25.484375 6.203125 34.421875 6.203125 \r\nQ 39.59375 6.203125 44.453125 7.46875 \r\nQ 49.3125 8.734375 54.109375 11.28125 \r\nL 54.109375 2.78125 \r\nQ 49.265625 0.734375 44.1875 -0.34375 \r\nQ 39.109375 -1.421875 33.890625 -1.421875 \r\nQ 20.796875 -1.421875 13.15625 6.1875 \r\nQ 5.515625 13.8125 5.515625 26.8125 \r\nQ 5.515625 40.234375 12.765625 48.109375 \r\nQ 20.015625 56 32.328125 56 \r\nQ 43.359375 56 49.78125 48.890625 \r\nQ 56.203125 41.796875 56.203125 29.59375 \r\nz\r\nM 47.21875 32.234375 \r\nQ 47.125 39.59375 43.09375 43.984375 \r\nQ 39.0625 48.390625 32.421875 48.390625 \r\nQ 24.90625 48.390625 20.390625 44.140625 \r\nQ 15.875 39.890625 15.1875 32.171875 \r\nz\r\n\" id=\"DejaVuSans-101\"/>\r\n      <path d=\"M 48.78125 52.59375 \r\nL 48.78125 44.1875 \r\nQ 44.96875 46.296875 41.140625 47.34375 \r\nQ 37.3125 48.390625 33.40625 48.390625 \r\nQ 24.65625 48.390625 19.8125 42.84375 \r\nQ 14.984375 37.3125 14.984375 27.296875 \r\nQ 14.984375 17.28125 19.8125 11.734375 \r\nQ 24.65625 6.203125 33.40625 6.203125 \r\nQ 37.3125 6.203125 41.140625 7.25 \r\nQ 44.96875 8.296875 48.78125 10.40625 \r\nL 48.78125 2.09375 \r\nQ 45.015625 0.34375 40.984375 -0.53125 \r\nQ 36.96875 -1.421875 32.421875 -1.421875 \r\nQ 20.0625 -1.421875 12.78125 6.34375 \r\nQ 5.515625 14.109375 5.515625 27.296875 \r\nQ 5.515625 40.671875 12.859375 48.328125 \r\nQ 20.21875 56 33.015625 56 \r\nQ 37.15625 56 41.109375 55.140625 \r\nQ 45.0625 54.296875 48.78125 52.59375 \r\nz\r\n\" id=\"DejaVuSans-99\"/>\r\n     </defs>\r\n     <g transform=\"translate(73.465625 210.93815)scale(0.1 -0.1)\">\r\n      <use xlink:href=\"#DejaVuSans-111\"/>\r\n      <use x=\"61.181641\" xlink:href=\"#DejaVuSans-119\"/>\r\n      <use x=\"142.96875\" xlink:href=\"#DejaVuSans-110\"/>\r\n      <use x=\"206.347656\" xlink:href=\"#DejaVuSans-95\"/>\r\n      <use x=\"256.347656\" xlink:href=\"#DejaVuSans-114\"/>\r\n      <use x=\"295.210938\" xlink:href=\"#DejaVuSans-101\"/>\r\n      <use x=\"356.734375\" xlink:href=\"#DejaVuSans-99\"/>\r\n     </g>\r\n    </g>\r\n    <g id=\"line2d_28\">\r\n     <path d=\"M 45.465625 222.3944 \r\nL 65.465625 222.3944 \r\n\" style=\"fill:none;stroke:#ff7f0e;stroke-dasharray:6,2.25;stroke-dashoffset:0;stroke-width:1.5;\"/>\r\n    </g>\r\n    <g id=\"line2d_29\"/>\r\n    <g id=\"text_17\">\r\n     <!-- sim_item_rec -->\r\n     <defs>\r\n      <path d=\"M 44.28125 53.078125 \r\nL 44.28125 44.578125 \r\nQ 40.484375 46.53125 36.375 47.5 \r\nQ 32.28125 48.484375 27.875 48.484375 \r\nQ 21.1875 48.484375 17.84375 46.4375 \r\nQ 14.5 44.390625 14.5 40.28125 \r\nQ 14.5 37.15625 16.890625 35.375 \r\nQ 19.28125 33.59375 26.515625 31.984375 \r\nL 29.59375 31.296875 \r\nQ 39.15625 29.25 43.1875 25.515625 \r\nQ 47.21875 21.78125 47.21875 15.09375 \r\nQ 47.21875 7.46875 41.1875 3.015625 \r\nQ 35.15625 -1.421875 24.609375 -1.421875 \r\nQ 20.21875 -1.421875 15.453125 -0.5625 \r\nQ 10.6875 0.296875 5.421875 2 \r\nL 5.421875 11.28125 \r\nQ 10.40625 8.6875 15.234375 7.390625 \r\nQ 20.0625 6.109375 24.8125 6.109375 \r\nQ 31.15625 6.109375 34.5625 8.28125 \r\nQ 37.984375 10.453125 37.984375 14.40625 \r\nQ 37.984375 18.0625 35.515625 20.015625 \r\nQ 33.0625 21.96875 24.703125 23.78125 \r\nL 21.578125 24.515625 \r\nQ 13.234375 26.265625 9.515625 29.90625 \r\nQ 5.8125 33.546875 5.8125 39.890625 \r\nQ 5.8125 47.609375 11.28125 51.796875 \r\nQ 16.75 56 26.8125 56 \r\nQ 31.78125 56 36.171875 55.265625 \r\nQ 40.578125 54.546875 44.28125 53.078125 \r\nz\r\n\" id=\"DejaVuSans-115\"/>\r\n      <path d=\"M 9.421875 54.6875 \r\nL 18.40625 54.6875 \r\nL 18.40625 0 \r\nL 9.421875 0 \r\nz\r\nM 9.421875 75.984375 \r\nL 18.40625 75.984375 \r\nL 18.40625 64.59375 \r\nL 9.421875 64.59375 \r\nz\r\n\" id=\"DejaVuSans-105\"/>\r\n      <path d=\"M 52 44.1875 \r\nQ 55.375 50.25 60.0625 53.125 \r\nQ 64.75 56 71.09375 56 \r\nQ 79.640625 56 84.28125 50.015625 \r\nQ 88.921875 44.046875 88.921875 33.015625 \r\nL 88.921875 0 \r\nL 79.890625 0 \r\nL 79.890625 32.71875 \r\nQ 79.890625 40.578125 77.09375 44.375 \r\nQ 74.3125 48.1875 68.609375 48.1875 \r\nQ 61.625 48.1875 57.5625 43.546875 \r\nQ 53.515625 38.921875 53.515625 30.90625 \r\nL 53.515625 0 \r\nL 44.484375 0 \r\nL 44.484375 32.71875 \r\nQ 44.484375 40.625 41.703125 44.40625 \r\nQ 38.921875 48.1875 33.109375 48.1875 \r\nQ 26.21875 48.1875 22.15625 43.53125 \r\nQ 18.109375 38.875 18.109375 30.90625 \r\nL 18.109375 0 \r\nL 9.078125 0 \r\nL 9.078125 54.6875 \r\nL 18.109375 54.6875 \r\nL 18.109375 46.1875 \r\nQ 21.1875 51.21875 25.484375 53.609375 \r\nQ 29.78125 56 35.6875 56 \r\nQ 41.65625 56 45.828125 52.96875 \r\nQ 50 49.953125 52 44.1875 \r\nz\r\n\" id=\"DejaVuSans-109\"/>\r\n      <path d=\"M 18.3125 70.21875 \r\nL 18.3125 54.6875 \r\nL 36.8125 54.6875 \r\nL 36.8125 47.703125 \r\nL 18.3125 47.703125 \r\nL 18.3125 18.015625 \r\nQ 18.3125 11.328125 20.140625 9.421875 \r\nQ 21.96875 7.515625 27.59375 7.515625 \r\nL 36.8125 7.515625 \r\nL 36.8125 0 \r\nL 27.59375 0 \r\nQ 17.1875 0 13.234375 3.875 \r\nQ 9.28125 7.765625 9.28125 18.015625 \r\nL 9.28125 47.703125 \r\nL 2.6875 47.703125 \r\nL 2.6875 54.6875 \r\nL 9.28125 54.6875 \r\nL 9.28125 70.21875 \r\nz\r\n\" id=\"DejaVuSans-116\"/>\r\n     </defs>\r\n     <g transform=\"translate(73.465625 225.8944)scale(0.1 -0.1)\">\r\n      <use xlink:href=\"#DejaVuSans-115\"/>\r\n      <use x=\"52.099609\" xlink:href=\"#DejaVuSans-105\"/>\r\n      <use x=\"79.882812\" xlink:href=\"#DejaVuSans-109\"/>\r\n      <use x=\"177.294922\" xlink:href=\"#DejaVuSans-95\"/>\r\n      <use x=\"227.294922\" xlink:href=\"#DejaVuSans-105\"/>\r\n      <use x=\"255.078125\" xlink:href=\"#DejaVuSans-116\"/>\r\n      <use x=\"294.287109\" xlink:href=\"#DejaVuSans-101\"/>\r\n      <use x=\"355.810547\" xlink:href=\"#DejaVuSans-109\"/>\r\n      <use x=\"453.222656\" xlink:href=\"#DejaVuSans-95\"/>\r\n      <use x=\"503.222656\" xlink:href=\"#DejaVuSans-114\"/>\r\n      <use x=\"542.085938\" xlink:href=\"#DejaVuSans-101\"/>\r\n      <use x=\"603.609375\" xlink:href=\"#DejaVuSans-99\"/>\r\n     </g>\r\n    </g>\r\n    <g id=\"line2d_30\">\r\n     <path d=\"M 45.465625 237.35065 \r\nL 65.465625 237.35065 \r\n\" style=\"fill:none;stroke:#2ca02c;stroke-dasharray:1.5,1.5;stroke-dashoffset:0;stroke-width:1.5;\"/>\r\n    </g>\r\n    <g id=\"line2d_31\"/>\r\n    <g id=\"text_18\">\r\n     <!-- tfidf_rec -->\r\n     <defs>\r\n      <path d=\"M 37.109375 75.984375 \r\nL 37.109375 68.5 \r\nL 28.515625 68.5 \r\nQ 23.6875 68.5 21.796875 66.546875 \r\nQ 19.921875 64.59375 19.921875 59.515625 \r\nL 19.921875 54.6875 \r\nL 34.71875 54.6875 \r\nL 34.71875 47.703125 \r\nL 19.921875 47.703125 \r\nL 19.921875 0 \r\nL 10.890625 0 \r\nL 10.890625 47.703125 \r\nL 2.296875 47.703125 \r\nL 2.296875 54.6875 \r\nL 10.890625 54.6875 \r\nL 10.890625 58.5 \r\nQ 10.890625 67.625 15.140625 71.796875 \r\nQ 19.390625 75.984375 28.609375 75.984375 \r\nz\r\n\" id=\"DejaVuSans-102\"/>\r\n      <path d=\"M 45.40625 46.390625 \r\nL 45.40625 75.984375 \r\nL 54.390625 75.984375 \r\nL 54.390625 0 \r\nL 45.40625 0 \r\nL 45.40625 8.203125 \r\nQ 42.578125 3.328125 38.25 0.953125 \r\nQ 33.9375 -1.421875 27.875 -1.421875 \r\nQ 17.96875 -1.421875 11.734375 6.484375 \r\nQ 5.515625 14.40625 5.515625 27.296875 \r\nQ 5.515625 40.1875 11.734375 48.09375 \r\nQ 17.96875 56 27.875 56 \r\nQ 33.9375 56 38.25 53.625 \r\nQ 42.578125 51.265625 45.40625 46.390625 \r\nz\r\nM 14.796875 27.296875 \r\nQ 14.796875 17.390625 18.875 11.75 \r\nQ 22.953125 6.109375 30.078125 6.109375 \r\nQ 37.203125 6.109375 41.296875 11.75 \r\nQ 45.40625 17.390625 45.40625 27.296875 \r\nQ 45.40625 37.203125 41.296875 42.84375 \r\nQ 37.203125 48.484375 30.078125 48.484375 \r\nQ 22.953125 48.484375 18.875 42.84375 \r\nQ 14.796875 37.203125 14.796875 27.296875 \r\nz\r\n\" id=\"DejaVuSans-100\"/>\r\n     </defs>\r\n     <g transform=\"translate(73.465625 240.85065)scale(0.1 -0.1)\">\r\n      <use xlink:href=\"#DejaVuSans-116\"/>\r\n      <use x=\"39.208984\" xlink:href=\"#DejaVuSans-102\"/>\r\n      <use x=\"74.414062\" xlink:href=\"#DejaVuSans-105\"/>\r\n      <use x=\"102.197266\" xlink:href=\"#DejaVuSans-100\"/>\r\n      <use x=\"165.673828\" xlink:href=\"#DejaVuSans-102\"/>\r\n      <use x=\"200.878906\" xlink:href=\"#DejaVuSans-95\"/>\r\n      <use x=\"250.878906\" xlink:href=\"#DejaVuSans-114\"/>\r\n      <use x=\"289.742188\" xlink:href=\"#DejaVuSans-101\"/>\r\n      <use x=\"351.265625\" xlink:href=\"#DejaVuSans-99\"/>\r\n     </g>\r\n    </g>\r\n    <g id=\"line2d_32\">\r\n     <path d=\"M 45.465625 252.3069 \r\nL 65.465625 252.3069 \r\n\" style=\"fill:none;stroke:#d62728;stroke-dasharray:4.5,1.5,2.25,1.5;stroke-dashoffset:0;stroke-width:1.5;\"/>\r\n    </g>\r\n    <g id=\"line2d_33\"/>\r\n    <g id=\"text_19\">\r\n     <!-- cosine_rec -->\r\n     <g transform=\"translate(73.465625 255.8069)scale(0.1 -0.1)\">\r\n      <use xlink:href=\"#DejaVuSans-99\"/>\r\n      <use x=\"54.980469\" xlink:href=\"#DejaVuSans-111\"/>\r\n      <use x=\"116.162109\" xlink:href=\"#DejaVuSans-115\"/>\r\n      <use x=\"168.261719\" xlink:href=\"#DejaVuSans-105\"/>\r\n      <use x=\"196.044922\" xlink:href=\"#DejaVuSans-110\"/>\r\n      <use x=\"259.423828\" xlink:href=\"#DejaVuSans-101\"/>\r\n      <use x=\"320.947266\" xlink:href=\"#DejaVuSans-95\"/>\r\n      <use x=\"370.947266\" xlink:href=\"#DejaVuSans-114\"/>\r\n      <use x=\"409.810547\" xlink:href=\"#DejaVuSans-101\"/>\r\n      <use x=\"471.333984\" xlink:href=\"#DejaVuSans-99\"/>\r\n     </g>\r\n    </g>\r\n    <g id=\"line2d_34\">\r\n     <path d=\"M 45.465625 267.26315 \r\nL 65.465625 267.26315 \r\n\" style=\"fill:none;stroke:#9467bd;stroke-dasharray:7.5,1.5,1.5,1.5;stroke-dashoffset:0;stroke-width:1.5;\"/>\r\n    </g>\r\n    <g id=\"line2d_35\"/>\r\n    <g id=\"text_20\">\r\n     <!-- als_rec -->\r\n     <defs>\r\n      <path d=\"M 34.28125 27.484375 \r\nQ 23.390625 27.484375 19.1875 25 \r\nQ 14.984375 22.515625 14.984375 16.5 \r\nQ 14.984375 11.71875 18.140625 8.90625 \r\nQ 21.296875 6.109375 26.703125 6.109375 \r\nQ 34.1875 6.109375 38.703125 11.40625 \r\nQ 43.21875 16.703125 43.21875 25.484375 \r\nL 43.21875 27.484375 \r\nz\r\nM 52.203125 31.203125 \r\nL 52.203125 0 \r\nL 43.21875 0 \r\nL 43.21875 8.296875 \r\nQ 40.140625 3.328125 35.546875 0.953125 \r\nQ 30.953125 -1.421875 24.3125 -1.421875 \r\nQ 15.921875 -1.421875 10.953125 3.296875 \r\nQ 6 8.015625 6 15.921875 \r\nQ 6 25.140625 12.171875 29.828125 \r\nQ 18.359375 34.515625 30.609375 34.515625 \r\nL 43.21875 34.515625 \r\nL 43.21875 35.40625 \r\nQ 43.21875 41.609375 39.140625 45 \r\nQ 35.0625 48.390625 27.6875 48.390625 \r\nQ 23 48.390625 18.546875 47.265625 \r\nQ 14.109375 46.140625 10.015625 43.890625 \r\nL 10.015625 52.203125 \r\nQ 14.9375 54.109375 19.578125 55.046875 \r\nQ 24.21875 56 28.609375 56 \r\nQ 40.484375 56 46.34375 49.84375 \r\nQ 52.203125 43.703125 52.203125 31.203125 \r\nz\r\n\" id=\"DejaVuSans-97\"/>\r\n      <path d=\"M 9.421875 75.984375 \r\nL 18.40625 75.984375 \r\nL 18.40625 0 \r\nL 9.421875 0 \r\nz\r\n\" id=\"DejaVuSans-108\"/>\r\n     </defs>\r\n     <g transform=\"translate(73.465625 270.76315)scale(0.1 -0.1)\">\r\n      <use xlink:href=\"#DejaVuSans-97\"/>\r\n      <use x=\"61.279297\" xlink:href=\"#DejaVuSans-108\"/>\r\n      <use x=\"89.0625\" xlink:href=\"#DejaVuSans-115\"/>\r\n      <use x=\"141.162109\" xlink:href=\"#DejaVuSans-95\"/>\r\n      <use x=\"191.162109\" xlink:href=\"#DejaVuSans-114\"/>\r\n      <use x=\"230.025391\" xlink:href=\"#DejaVuSans-101\"/>\r\n      <use x=\"291.548828\" xlink:href=\"#DejaVuSans-99\"/>\r\n     </g>\r\n    </g>\r\n   </g>\r\n  </g>\r\n </g>\r\n <defs>\r\n  <clipPath id=\"p2691e6cdbb\">\r\n   <rect height=\"271.8\" width=\"1116\" x=\"36.465625\" y=\"10.320962\"/>\r\n  </clipPath>\r\n </defs>\r\n</svg>\r\n",
      "image/png": "[encoded data removed]"
     },
     "metadata": {
      "needs_background": "light"
     }
    }
   ],
   "source": [
    "results_precision = dict()\n",
    "for k in range(5, 21, 1):\n",
    "    gen = calc_precision(result_eval_matcher, k, ACTUAL_COL)\n",
    "    for itm in gen:\n",
    "        if k not in results_precision:\n",
    "            results_precision[k] = dict()\n",
    "        results_precision[k].update({itm[0]: itm[1]})\n",
    "\n",
    "plt.figure(figsize = (20, 5))\n",
    "sns.lineplot(data=pd.DataFrame.from_dict(results_precision, orient='index'))"
   ]
  },
  {
   "cell_type": "code",
   "execution_count": 22,
   "metadata": {},
   "outputs": [
    {
     "output_type": "execute_result",
     "data": {
      "text/plain": [
       "     own_rec  sim_item_rec  tfidf_rec  cosine_rec   als_rec\n",
       "9   0.104448      0.059094   0.174131    0.168707  0.131412\n",
       "11  0.095347      0.056506   0.173830    0.171337  0.126791\n",
       "10  0.101302      0.057229   0.173687    0.172060  0.129661\n",
       "8   0.112390      0.059740   0.173582    0.165504  0.132497\n",
       "12  0.089726      0.055439   0.173485    0.171664  0.125794"
      ],
      "text/html": "<div>\n<style scoped>\n    .dataframe tbody tr th:only-of-type {\n        vertical-align: middle;\n    }\n\n    .dataframe tbody tr th {\n        vertical-align: top;\n    }\n\n    .dataframe thead th {\n        text-align: right;\n    }\n</style>\n<table border=\"1\" class=\"dataframe\">\n  <thead>\n    <tr style=\"text-align: right;\">\n      <th></th>\n      <th>own_rec</th>\n      <th>sim_item_rec</th>\n      <th>tfidf_rec</th>\n      <th>cosine_rec</th>\n      <th>als_rec</th>\n    </tr>\n  </thead>\n  <tbody>\n    <tr>\n      <th>9</th>\n      <td>0.104448</td>\n      <td>0.059094</td>\n      <td>0.174131</td>\n      <td>0.168707</td>\n      <td>0.131412</td>\n    </tr>\n    <tr>\n      <th>11</th>\n      <td>0.095347</td>\n      <td>0.056506</td>\n      <td>0.173830</td>\n      <td>0.171337</td>\n      <td>0.126791</td>\n    </tr>\n    <tr>\n      <th>10</th>\n      <td>0.101302</td>\n      <td>0.057229</td>\n      <td>0.173687</td>\n      <td>0.172060</td>\n      <td>0.129661</td>\n    </tr>\n    <tr>\n      <th>8</th>\n      <td>0.112390</td>\n      <td>0.059740</td>\n      <td>0.173582</td>\n      <td>0.165504</td>\n      <td>0.132497</td>\n    </tr>\n    <tr>\n      <th>12</th>\n      <td>0.089726</td>\n      <td>0.055439</td>\n      <td>0.173485</td>\n      <td>0.171664</td>\n      <td>0.125794</td>\n    </tr>\n  </tbody>\n</table>\n</div>"
     },
     "metadata": {},
     "execution_count": 22
    }
   ],
   "source": [
    "pd.DataFrame.from_dict(results_precision, orient='index').sort_values(by='tfidf_rec', ascending=False).head()"
   ]
  },
  {
   "cell_type": "code",
   "execution_count": 23,
   "metadata": {},
   "outputs": [],
   "source": [
    "TOPK_PRECISION = 9"
   ]
  },
  {
   "cell_type": "markdown",
   "metadata": {},
   "source": [
    "# Ranking part"
   ]
  },
  {
   "cell_type": "markdown",
   "metadata": {},
   "source": [
    "## Prepare data"
   ]
  },
  {
   "cell_type": "code",
   "execution_count": 24,
   "metadata": {},
   "outputs": [],
   "source": [
    "df_match_candidates = pd.DataFrame(data_train_ranker[USER_COL].unique())\n",
    "df_match_candidates.columns = [USER_COL]"
   ]
  },
  {
   "cell_type": "code",
   "execution_count": 25,
   "metadata": {},
   "outputs": [],
   "source": [
    "df_match_candidates['candidates'] = df_match_candidates[USER_COL].apply(lambda x: recommender.get_tfidf_recommendations(x, N=N_PREDICT))"
   ]
  },
  {
   "cell_type": "code",
   "execution_count": 26,
   "metadata": {},
   "outputs": [
    {
     "output_type": "execute_result",
     "data": {
      "text/plain": [
       "   user_id                                         candidates\n",
       "0     2070  [844179, 1029743, 916122, 866211, 1044078, 112...\n",
       "1     2021  [844179, 1044078, 916122, 866211, 1119454, 102..."
      ],
      "text/html": "<div>\n<style scoped>\n    .dataframe tbody tr th:only-of-type {\n        vertical-align: middle;\n    }\n\n    .dataframe tbody tr th {\n        vertical-align: top;\n    }\n\n    .dataframe thead th {\n        text-align: right;\n    }\n</style>\n<table border=\"1\" class=\"dataframe\">\n  <thead>\n    <tr style=\"text-align: right;\">\n      <th></th>\n      <th>user_id</th>\n      <th>candidates</th>\n    </tr>\n  </thead>\n  <tbody>\n    <tr>\n      <th>0</th>\n      <td>2070</td>\n      <td>[844179, 1029743, 916122, 866211, 1044078, 112...</td>\n    </tr>\n    <tr>\n      <th>1</th>\n      <td>2021</td>\n      <td>[844179, 1044078, 916122, 866211, 1119454, 102...</td>\n    </tr>\n  </tbody>\n</table>\n</div>"
     },
     "metadata": {},
     "execution_count": 26
    }
   ],
   "source": [
    "df_match_candidates.head(2)"
   ]
  },
  {
   "cell_type": "code",
   "execution_count": 27,
   "metadata": {},
   "outputs": [],
   "source": [
    "df_items = df_match_candidates.apply(lambda x: pd.Series(x['candidates']), axis=1).stack().reset_index(level=1, drop=True)\n",
    "df_items.name = 'item_id'"
   ]
  },
  {
   "cell_type": "code",
   "execution_count": 28,
   "metadata": {},
   "outputs": [],
   "source": [
    "df_match_candidates = df_match_candidates.drop('candidates', axis=1).join(df_items)"
   ]
  },
  {
   "cell_type": "code",
   "execution_count": 29,
   "metadata": {},
   "outputs": [
    {
     "output_type": "execute_result",
     "data": {
      "text/plain": [
       "   user_id  item_id\n",
       "0     2070   844179\n",
       "0     2070  1029743\n",
       "0     2070   916122\n",
       "0     2070   866211"
      ],
      "text/html": "<div>\n<style scoped>\n    .dataframe tbody tr th:only-of-type {\n        vertical-align: middle;\n    }\n\n    .dataframe tbody tr th {\n        vertical-align: top;\n    }\n\n    .dataframe thead th {\n        text-align: right;\n    }\n</style>\n<table border=\"1\" class=\"dataframe\">\n  <thead>\n    <tr style=\"text-align: right;\">\n      <th></th>\n      <th>user_id</th>\n      <th>item_id</th>\n    </tr>\n  </thead>\n  <tbody>\n    <tr>\n      <th>0</th>\n      <td>2070</td>\n      <td>844179</td>\n    </tr>\n    <tr>\n      <th>0</th>\n      <td>2070</td>\n      <td>1029743</td>\n    </tr>\n    <tr>\n      <th>0</th>\n      <td>2070</td>\n      <td>916122</td>\n    </tr>\n    <tr>\n      <th>0</th>\n      <td>2070</td>\n      <td>866211</td>\n    </tr>\n  </tbody>\n</table>\n</div>"
     },
     "metadata": {},
     "execution_count": 29
    }
   ],
   "source": [
    "df_match_candidates.head(4)"
   ]
  },
  {
   "cell_type": "markdown",
   "metadata": {},
   "source": [
    "### Check warm start"
   ]
  },
  {
   "cell_type": "code",
   "execution_count": 30,
   "metadata": {
    "scrolled": true
   },
   "outputs": [
    {
     "output_type": "stream",
     "name": "stdout",
     "text": [
      "match_candidates\nShape: (107550, 2) Users: 2151 Items: 4976\n"
     ]
    }
   ],
   "source": [
    "print_stats_data(df_match_candidates, 'match_candidates')"
   ]
  },
  {
   "cell_type": "markdown",
   "metadata": {},
   "source": [
    "### Create train data set for ranking"
   ]
  },
  {
   "cell_type": "code",
   "execution_count": 47,
   "metadata": {},
   "outputs": [],
   "source": [
    "df_ranker_train = data_train_ranker[[USER_COL, ITEM_COL]].copy()\n",
    "df_ranker_train['target'] = 1  # тут только покупки \n",
    "\n",
    "df_ranker_train = df_match_candidates.merge(df_ranker_train, on=[USER_COL, ITEM_COL], how='left')\n",
    "df_ranker_train['target'].fillna(0, inplace= True)\n",
    "\n",
    "df_ranker_train = df_ranker_train.merge(item_features, on='item_id', how='left')\n",
    "df_ranker_train = df_ranker_train.merge(user_features, on='user_id', how='left')"
   ]
  },
  {
   "cell_type": "code",
   "execution_count": 31,
   "metadata": {},
   "outputs": [
    {
     "output_type": "execute_result",
     "data": {
      "text/plain": [
       "0.0    95421\n",
       "1.0    18620\n",
       "Name: target, dtype: int64"
      ]
     },
     "metadata": {},
     "execution_count": 31
    }
   ],
   "source": [
    "df_ranker_train.target.value_counts()"
   ]
  },
  {
   "cell_type": "code",
   "execution_count": 32,
   "metadata": {},
   "outputs": [
    {
     "output_type": "execute_result",
     "data": {
      "text/plain": [
       "   user_id  item_id  target\n",
       "0     2070   844179     0.0\n",
       "1     2070  1029743     0.0"
      ],
      "text/html": "<div>\n<style scoped>\n    .dataframe tbody tr th:only-of-type {\n        vertical-align: middle;\n    }\n\n    .dataframe tbody tr th {\n        vertical-align: top;\n    }\n\n    .dataframe thead th {\n        text-align: right;\n    }\n</style>\n<table border=\"1\" class=\"dataframe\">\n  <thead>\n    <tr style=\"text-align: right;\">\n      <th></th>\n      <th>user_id</th>\n      <th>item_id</th>\n      <th>target</th>\n    </tr>\n  </thead>\n  <tbody>\n    <tr>\n      <th>0</th>\n      <td>2070</td>\n      <td>844179</td>\n      <td>0.0</td>\n    </tr>\n    <tr>\n      <th>1</th>\n      <td>2070</td>\n      <td>1029743</td>\n      <td>0.0</td>\n    </tr>\n  </tbody>\n</table>\n</div>"
     },
     "metadata": {},
     "execution_count": 32
    }
   ],
   "source": [
    "df_ranker_train.head(2)"
   ]
  },
  {
   "cell_type": "code",
   "execution_count": 127,
   "metadata": {},
   "outputs": [
    {
     "output_type": "execute_result",
     "data": {
      "text/plain": [
       "   item_id  manufacturer    department     brand            commodity_desc  \\\n",
       "0    25671             2       GROCERY  National                  FRZN ICE   \n",
       "1    26081             2  MISC. TRANS.  National  NO COMMODITY DESCRIPTION   \n",
       "\n",
       "            sub_commodity_desc curr_size_of_product  \n",
       "0          ICE - CRUSHED/CUBED                22 LB  \n",
       "1  NO SUBCOMMODITY DESCRIPTION                       "
      ],
      "text/html": "<div>\n<style scoped>\n    .dataframe tbody tr th:only-of-type {\n        vertical-align: middle;\n    }\n\n    .dataframe tbody tr th {\n        vertical-align: top;\n    }\n\n    .dataframe thead th {\n        text-align: right;\n    }\n</style>\n<table border=\"1\" class=\"dataframe\">\n  <thead>\n    <tr style=\"text-align: right;\">\n      <th></th>\n      <th>item_id</th>\n      <th>manufacturer</th>\n      <th>department</th>\n      <th>brand</th>\n      <th>commodity_desc</th>\n      <th>sub_commodity_desc</th>\n      <th>curr_size_of_product</th>\n    </tr>\n  </thead>\n  <tbody>\n    <tr>\n      <th>0</th>\n      <td>25671</td>\n      <td>2</td>\n      <td>GROCERY</td>\n      <td>National</td>\n      <td>FRZN ICE</td>\n      <td>ICE - CRUSHED/CUBED</td>\n      <td>22 LB</td>\n    </tr>\n    <tr>\n      <th>1</th>\n      <td>26081</td>\n      <td>2</td>\n      <td>MISC. TRANS.</td>\n      <td>National</td>\n      <td>NO COMMODITY DESCRIPTION</td>\n      <td>NO SUBCOMMODITY DESCRIPTION</td>\n      <td></td>\n    </tr>\n  </tbody>\n</table>\n</div>"
     },
     "metadata": {},
     "execution_count": 127
    }
   ],
   "source": [
    "item_features.head(2)"
   ]
  },
  {
   "cell_type": "code",
   "execution_count": 128,
   "metadata": {},
   "outputs": [
    {
     "output_type": "execute_result",
     "data": {
      "text/plain": [
       "  age_desc marital_status_code income_desc homeowner_desc      hh_comp_desc  \\\n",
       "0      65+                   A      35-49K      Homeowner  2 Adults No Kids   \n",
       "1    45-54                   A      50-74K      Homeowner  2 Adults No Kids   \n",
       "\n",
       "  household_size_desc kid_category_desc  user_id  \n",
       "0                   2      None/Unknown        1  \n",
       "1                   2      None/Unknown        7  "
      ],
      "text/html": "<div>\n<style scoped>\n    .dataframe tbody tr th:only-of-type {\n        vertical-align: middle;\n    }\n\n    .dataframe tbody tr th {\n        vertical-align: top;\n    }\n\n    .dataframe thead th {\n        text-align: right;\n    }\n</style>\n<table border=\"1\" class=\"dataframe\">\n  <thead>\n    <tr style=\"text-align: right;\">\n      <th></th>\n      <th>age_desc</th>\n      <th>marital_status_code</th>\n      <th>income_desc</th>\n      <th>homeowner_desc</th>\n      <th>hh_comp_desc</th>\n      <th>household_size_desc</th>\n      <th>kid_category_desc</th>\n      <th>user_id</th>\n    </tr>\n  </thead>\n  <tbody>\n    <tr>\n      <th>0</th>\n      <td>65+</td>\n      <td>A</td>\n      <td>35-49K</td>\n      <td>Homeowner</td>\n      <td>2 Adults No Kids</td>\n      <td>2</td>\n      <td>None/Unknown</td>\n      <td>1</td>\n    </tr>\n    <tr>\n      <th>1</th>\n      <td>45-54</td>\n      <td>A</td>\n      <td>50-74K</td>\n      <td>Homeowner</td>\n      <td>2 Adults No Kids</td>\n      <td>2</td>\n      <td>None/Unknown</td>\n      <td>7</td>\n    </tr>\n  </tbody>\n</table>\n</div>"
     },
     "metadata": {},
     "execution_count": 128
    }
   ],
   "source": [
    "user_features.head(2)"
   ]
  },
  {
   "cell_type": "code",
   "execution_count": 54,
   "metadata": {},
   "outputs": [
    {
     "output_type": "execute_result",
     "data": {
      "text/plain": [
       "    user_id    basket_id  day  item_id  quantity  sales_value  store_id  \\\n",
       "7      2375  26984851516    1  1085983         1         2.99       364   \n",
       "11     1364  26984896261    1   999999         1         2.19     31742   \n",
       "\n",
       "    retail_disc  trans_time  week_no  coupon_disc  coupon_match_disc  price  \n",
       "7          -0.4        1642        1          0.0                0.0   2.99  \n",
       "11          0.0        1520        1          0.0                0.0   2.19  "
      ],
      "text/html": "<div>\n<style scoped>\n    .dataframe tbody tr th:only-of-type {\n        vertical-align: middle;\n    }\n\n    .dataframe tbody tr th {\n        vertical-align: top;\n    }\n\n    .dataframe thead th {\n        text-align: right;\n    }\n</style>\n<table border=\"1\" class=\"dataframe\">\n  <thead>\n    <tr style=\"text-align: right;\">\n      <th></th>\n      <th>user_id</th>\n      <th>basket_id</th>\n      <th>day</th>\n      <th>item_id</th>\n      <th>quantity</th>\n      <th>sales_value</th>\n      <th>store_id</th>\n      <th>retail_disc</th>\n      <th>trans_time</th>\n      <th>week_no</th>\n      <th>coupon_disc</th>\n      <th>coupon_match_disc</th>\n      <th>price</th>\n    </tr>\n  </thead>\n  <tbody>\n    <tr>\n      <th>7</th>\n      <td>2375</td>\n      <td>26984851516</td>\n      <td>1</td>\n      <td>1085983</td>\n      <td>1</td>\n      <td>2.99</td>\n      <td>364</td>\n      <td>-0.4</td>\n      <td>1642</td>\n      <td>1</td>\n      <td>0.0</td>\n      <td>0.0</td>\n      <td>2.99</td>\n    </tr>\n    <tr>\n      <th>11</th>\n      <td>1364</td>\n      <td>26984896261</td>\n      <td>1</td>\n      <td>999999</td>\n      <td>1</td>\n      <td>2.19</td>\n      <td>31742</td>\n      <td>0.0</td>\n      <td>1520</td>\n      <td>1</td>\n      <td>0.0</td>\n      <td>0.0</td>\n      <td>2.19</td>\n    </tr>\n  </tbody>\n</table>\n</div>"
     },
     "metadata": {},
     "execution_count": 54
    }
   ],
   "source": [
    "data_train_matcher.head(2)"
   ]
  },
  {
   "cell_type": "markdown",
   "metadata": {},
   "source": [
    "## Prepare features"
   ]
  },
  {
   "cell_type": "code",
   "execution_count": 56,
   "metadata": {},
   "outputs": [
    {
     "output_type": "stream",
     "name": "stdout",
     "text": [
      "before featurizing\n",
      "Shape: (114041, 16) Users: 2151 Items: 4976\n",
      "after featurizing\n",
      "Shape: (114041, 24) Users: 2151 Items: 4976\n"
     ]
    }
   ],
   "source": [
    "\n",
    "\n",
    "print_stats_data(df_ranker_train, 'before featurizing')\n",
    "\n",
    "########## user_id\n",
    "\n",
    "# Средний чек\n",
    "data_train_matcher_user_group = data_train_matcher[['user_id', 'quantity', 'price']].groupby(['user_id'], as_index=False)\\\n",
    "    .agg({\n",
    "        'price': 'mean',\n",
    "    })\\\n",
    "    .rename(columns={\n",
    "        'price': 'avg_bill',\n",
    "    })\n",
    "df_ranker_train = df_ranker_train.merge(data_train_matcher_user_group[['user_id', 'avg_bill']], on='user_id', how='left')\n",
    "\n",
    "# Средний чек по категории\n",
    "avg_bill_by_dep_group = df_ranker_train[['department', 'avg_bill']].groupby(['department'], as_index=False)\\\n",
    "    .agg({'avg_bill': 'mean'})\\\n",
    "    .rename(columns={'avg_bill': 'avg_bill_by_dep'})\n",
    "df_ranker_train = df_ranker_train.merge(avg_bill_by_dep_group[['department', 'avg_bill_by_dep']], on='department', how='left')\n",
    "\n",
    "########## item_id\n",
    "\n",
    "# Среднее количество покупок товара в неделю\n",
    "# Средняя цена товара\n",
    "data_train_matcher_item_group = data_train_matcher[['item_id', 'quantity', 'week_no', 'price']].groupby(['item_id'], as_index=False)\\\n",
    "    .agg({\n",
    "        'quantity': 'sum',\n",
    "        'week_no': 'max',\n",
    "        'price': 'mean',\n",
    "    })\\\n",
    "    .rename(columns={\n",
    "        'quantity': 'total_quantity',\n",
    "        'week_no': 'max_week_no',\n",
    "        'price': 'avg_price',\n",
    "    })\n",
    "df_ranker_train = df_ranker_train.merge(data_train_matcher_item_group[['item_id', 'total_quantity', 'max_week_no', 'avg_price']], on='item_id', how='left')\n",
    "\n",
    "# Среднее количество покупок товара в неделю\n",
    "df_ranker_train['avg_quantity_per_week'] = df_ranker_train['total_quantity'] / df_ranker_train['max_week_no']\n",
    "\n",
    "# Цена / Средняя цена товара в категории\n",
    "item_price_dep_avg_group = df_ranker_train[['department', 'avg_price']].groupby(['department'], as_index=False)\\\n",
    "    .agg({'avg_price': 'mean'})\\\n",
    "    .rename(columns={'avg_price': 'avg_dep_price'})\n",
    "df_ranker_train = df_ranker_train.merge(item_price_dep_avg_group[['department', 'avg_dep_price']], on='department', how='left')\n",
    "df_ranker_train['avg_price/avg_dep_price'] = df_ranker_train['avg_price'] / df_ranker_train['avg_dep_price']\n",
    "\n",
    "# Убираем лишние категории\n",
    "df_ranker_train.loc[df_ranker_train['kid_category_desc'] == 'None/Unknown', 'kid_category_desc'] = '-'\n",
    "df_ranker_train.loc[df_ranker_train['homeowner_desc'] == 'Unknown', 'homeowner_desc'] = '-'\n",
    "df_ranker_train.loc[df_ranker_train['hh_comp_desc'] == 'Unknown', 'hh_comp_desc'] = '-'\n",
    "cat_feats = ['manufacturer', 'department', 'brand', 'commodity_desc', 'sub_commodity_desc', 'curr_size_of_product',\n",
    "             'age_desc', 'marital_status_code', 'income_desc', 'homeowner_desc', 'hh_comp_desc', 'household_size_desc',\n",
    "             'kid_category_desc']\n",
    "\n",
    "for feat in cat_feats:\n",
    "    df_ranker_train[feat] = df_ranker_train[feat].fillna('-')\n",
    "    df_ranker_train[feat] = df_ranker_train[feat].astype('category')\n",
    "\n",
    "print_stats_data(df_ranker_train, 'after featurizing')"
   ]
  },
  {
   "cell_type": "code",
   "execution_count": 48,
   "metadata": {},
   "outputs": [
    {
     "output_type": "execute_result",
     "data": {
      "text/plain": [
       "   user_id  item_id  target manufacturer department     brand  \\\n",
       "0     2070   844179     0.0         2852       MEAT  National   \n",
       "1     2070  1029743     0.0           69    GROCERY   Private   \n",
       "\n",
       "        commodity_desc     sub_commodity_desc curr_size_of_product age_desc  \\\n",
       "0                 BEEF                 PRIMAL                         45-54   \n",
       "1  FLUID MILK PRODUCTS  FLUID MILK WHITE ONLY                 1 GA    45-54   \n",
       "\n",
       "   ... income_desc homeowner_desc hh_comp_desc household_size_desc  \\\n",
       "0  ...      50-74K              -            -                   1   \n",
       "1  ...      50-74K              -            -                   1   \n",
       "\n",
       "  kid_category_desc avg_bill  avg_bill_by_dep  avg_price  \\\n",
       "0                 -  4.20884         4.117195   3.832766   \n",
       "1                 -  4.20884         4.095411   2.523331   \n",
       "\n",
       "   avg_quantity_per_week  avg_price/avg_dep_price  \n",
       "0              49.364706                 0.828802  \n",
       "1             132.658824                 0.723703  \n",
       "\n",
       "[2 rows x 21 columns]"
      ],
      "text/html": "<div>\n<style scoped>\n    .dataframe tbody tr th:only-of-type {\n        vertical-align: middle;\n    }\n\n    .dataframe tbody tr th {\n        vertical-align: top;\n    }\n\n    .dataframe thead th {\n        text-align: right;\n    }\n</style>\n<table border=\"1\" class=\"dataframe\">\n  <thead>\n    <tr style=\"text-align: right;\">\n      <th></th>\n      <th>user_id</th>\n      <th>item_id</th>\n      <th>target</th>\n      <th>manufacturer</th>\n      <th>department</th>\n      <th>brand</th>\n      <th>commodity_desc</th>\n      <th>sub_commodity_desc</th>\n      <th>curr_size_of_product</th>\n      <th>age_desc</th>\n      <th>...</th>\n      <th>income_desc</th>\n      <th>homeowner_desc</th>\n      <th>hh_comp_desc</th>\n      <th>household_size_desc</th>\n      <th>kid_category_desc</th>\n      <th>avg_bill</th>\n      <th>avg_bill_by_dep</th>\n      <th>avg_price</th>\n      <th>avg_quantity_per_week</th>\n      <th>avg_price/avg_dep_price</th>\n    </tr>\n  </thead>\n  <tbody>\n    <tr>\n      <th>0</th>\n      <td>2070</td>\n      <td>844179</td>\n      <td>0.0</td>\n      <td>2852</td>\n      <td>MEAT</td>\n      <td>National</td>\n      <td>BEEF</td>\n      <td>PRIMAL</td>\n      <td></td>\n      <td>45-54</td>\n      <td>...</td>\n      <td>50-74K</td>\n      <td>-</td>\n      <td>-</td>\n      <td>1</td>\n      <td>-</td>\n      <td>4.20884</td>\n      <td>4.117195</td>\n      <td>3.832766</td>\n      <td>49.364706</td>\n      <td>0.828802</td>\n    </tr>\n    <tr>\n      <th>1</th>\n      <td>2070</td>\n      <td>1029743</td>\n      <td>0.0</td>\n      <td>69</td>\n      <td>GROCERY</td>\n      <td>Private</td>\n      <td>FLUID MILK PRODUCTS</td>\n      <td>FLUID MILK WHITE ONLY</td>\n      <td>1 GA</td>\n      <td>45-54</td>\n      <td>...</td>\n      <td>50-74K</td>\n      <td>-</td>\n      <td>-</td>\n      <td>1</td>\n      <td>-</td>\n      <td>4.20884</td>\n      <td>4.095411</td>\n      <td>2.523331</td>\n      <td>132.658824</td>\n      <td>0.723703</td>\n    </tr>\n  </tbody>\n</table>\n<p>2 rows × 21 columns</p>\n</div>"
     },
     "metadata": {},
     "execution_count": 48
    }
   ],
   "source": [
    "df_ranker_train.head(2)"
   ]
  },
  {
   "cell_type": "code",
   "execution_count": 49,
   "metadata": {},
   "outputs": [
    {
     "output_type": "stream",
     "name": "stdout",
     "text": [
      "<class 'pandas.core.frame.DataFrame'>\nInt64Index: 114041 entries, 0 to 114040\nData columns (total 21 columns):\n #   Column                   Non-Null Count   Dtype   \n---  ------                   --------------   -----   \n 0   user_id                  114041 non-null  int64   \n 1   item_id                  114041 non-null  int64   \n 2   target                   114041 non-null  float64 \n 3   manufacturer             114041 non-null  category\n 4   department               114041 non-null  category\n 5   brand                    114041 non-null  category\n 6   commodity_desc           114041 non-null  category\n 7   sub_commodity_desc       114041 non-null  category\n 8   curr_size_of_product     114041 non-null  category\n 9   age_desc                 114041 non-null  category\n 10  marital_status_code      114041 non-null  category\n 11  income_desc              114041 non-null  category\n 12  homeowner_desc           114041 non-null  category\n 13  hh_comp_desc             114041 non-null  category\n 14  household_size_desc      114041 non-null  category\n 15  kid_category_desc        114041 non-null  category\n 16  avg_bill                 114041 non-null  float64 \n 17  avg_bill_by_dep          114041 non-null  float64 \n 18  avg_price                114041 non-null  float64 \n 19  avg_quantity_per_week    114041 non-null  float64 \n 20  avg_price/avg_dep_price  114041 non-null  float64 \ndtypes: category(13), float64(6), int64(2)\nmemory usage: 9.8 MB\n"
     ]
    }
   ],
   "source": [
    "df_ranker_train.info()"
   ]
  },
  {
   "cell_type": "markdown",
   "metadata": {},
   "source": [
    "## Train ranking model"
   ]
  },
  {
   "cell_type": "code",
   "execution_count": 83,
   "metadata": {
    "tags": []
   },
   "outputs": [],
   "source": [
    "X_train = df_ranker_train.drop('target', axis=1)\n",
    "y_train = df_ranker_train[['target']]\n",
    "\n",
    "params_frozen = {\n",
    "    'eval_metric': 'Accuracy',\n",
    "    'early_stopping_rounds': 50,\n",
    "}\n",
    "\n",
    "# params_grid = {\n",
    "#     'depth': [6, 8, 10],\n",
    "#     'learning_rate': [0.03, 0.3, 0.5],\n",
    "#     'iterations': [400, 800, 1200],\n",
    "#     'l2_leaf_reg': [2, 3, 4],\n",
    "#     'bagging_temperature': [1, 1.5, 2],\n",
    "# }\n",
    "\n",
    "train_pool = Pool(\n",
    "    X_train,\n",
    "    y_train,\n",
    "    cat_features=cat_feats\n",
    ")\n",
    "\n",
    "# clf = CatBoostClassifier(**params_frozen)\n",
    "# rs = clf.randomized_search(\n",
    "#     params_grid,\n",
    "#     train_pool,\n",
    "#     n_iter=5,\n",
    "#     partition_random_seed=0,\n",
    "#     cv=5,\n",
    "#     calc_cv_statistics=True,\n",
    "#     search_by_train_test_split=True,\n",
    "#     refit=True,\n",
    "# )\n",
    "\n",
    "clf = CatBoostClassifier(\n",
    "    bagging_temperature=2,\n",
    "    depth=8,\n",
    "    l2_leaf_reg=2,\n",
    "    iterations=400,\n",
    "    learning_rate=0.3,\n",
    "    verbose=False,\n",
    "    **params_frozen\n",
    ")\n",
    "clf.fit(train_pool)\n",
    "\n",
    "train_preds = clf.predict_proba(X_train)\n",
    "df_ranker_predict = df_ranker_train.copy()\n",
    "df_ranker_predict['proba_item_purchase'] = train_preds[:,1]"
   ]
  },
  {
   "cell_type": "markdown",
   "metadata": {},
   "source": [
    "# Evaluation on test dataset"
   ]
  },
  {
   "cell_type": "code",
   "execution_count": 84,
   "metadata": {},
   "outputs": [
    {
     "output_type": "execute_result",
     "data": {
      "text/plain": [
       "   user_id                                             actual\n",
       "0        1  [821867, 834484, 856942, 865456, 889248, 90795...\n",
       "1        3  [835476, 851057, 872021, 878302, 879948, 90963..."
      ],
      "text/html": "<div>\n<style scoped>\n    .dataframe tbody tr th:only-of-type {\n        vertical-align: middle;\n    }\n\n    .dataframe tbody tr th {\n        vertical-align: top;\n    }\n\n    .dataframe thead th {\n        text-align: right;\n    }\n</style>\n<table border=\"1\" class=\"dataframe\">\n  <thead>\n    <tr style=\"text-align: right;\">\n      <th></th>\n      <th>user_id</th>\n      <th>actual</th>\n    </tr>\n  </thead>\n  <tbody>\n    <tr>\n      <th>0</th>\n      <td>1</td>\n      <td>[821867, 834484, 856942, 865456, 889248, 90795...</td>\n    </tr>\n    <tr>\n      <th>1</th>\n      <td>3</td>\n      <td>[835476, 851057, 872021, 878302, 879948, 90963...</td>\n    </tr>\n  </tbody>\n</table>\n</div>"
     },
     "metadata": {},
     "execution_count": 84
    }
   ],
   "source": [
    "result_eval_ranker = data_val_ranker.groupby(USER_COL)[ITEM_COL].unique().reset_index()\n",
    "result_eval_ranker.columns=[USER_COL, ACTUAL_COL]\n",
    "result_eval_ranker.head(2)"
   ]
  },
  {
   "cell_type": "markdown",
   "metadata": {},
   "source": [
    "## Eval matching on test dataset"
   ]
  },
  {
   "cell_type": "code",
   "execution_count": 85,
   "metadata": {},
   "outputs": [
    {
     "output_type": "stream",
     "name": "stdout",
     "text": [
      "Wall time: 23.7 s\n"
     ]
    }
   ],
   "source": [
    "%%time\n",
    "result_eval_ranker['tfidf_rec'] = result_eval_ranker[USER_COL].apply(lambda x: recommender.get_tfidf_recommendations(x, N=N_PREDICT))"
   ]
  },
  {
   "cell_type": "markdown",
   "metadata": {},
   "source": [
    "## Eval re-ranked matched result on test dataset\n",
    "    "
   ]
  },
  {
   "cell_type": "code",
   "execution_count": 86,
   "metadata": {},
   "outputs": [],
   "source": [
    "def rerank(user_id):\n",
    "    return df_ranker_predict[df_ranker_predict[USER_COL]==user_id].sort_values('proba_item_purchase', ascending=False).head(5).item_id.tolist()"
   ]
  },
  {
   "cell_type": "code",
   "execution_count": 87,
   "metadata": {},
   "outputs": [],
   "source": [
    "result_eval_ranker['reranked_tfidf_rec'] = result_eval_ranker[USER_COL].apply(lambda user_id: rerank(user_id))"
   ]
  },
  {
   "cell_type": "code",
   "execution_count": 88,
   "metadata": {
    "scrolled": true
   },
   "outputs": [
    {
     "output_type": "stream",
     "name": "stderr",
     "text": [
      "c:\\Users\\konst\\Repo\\education\\gb_recommender_systems\\metrics.py:20: RuntimeWarning: invalid value encountered in long_scalars\n",
      "  return flags.sum() / len(recommended_list)\n",
      "('reranked_tfidf_rec', 0.18610966057441256)\n",
      "('tfidf_rec', 0.14607843137254906)\n"
     ]
    }
   ],
   "source": [
    "print(*sorted(calc_precision(result_eval_ranker, TOPK_PRECISION, ACTUAL_COL), key=lambda x: x[1], reverse=True), sep='\\n')"
   ]
  },
  {
   "source": [
    "    ----\n",
    "    baseline\n",
    "    ----\n",
    "    ('own_rec', 0.14441176470588235)\n",
    "    ('reranked_own_rec', 0.13681462140992168)\n",
    "    \n",
    "    ----\n",
    "    + 0.0348: optimized recall\n",
    "    ----\n",
    "    ('reranked_tfidf_rec', 0.1792167101827676)\n",
    "    ('tfidf_rec', 0.14607843137254906)\n",
    "\n",
    "    ----\n",
    "    + 0.0069: features item_id + user_id features\n",
    "    ----\n",
    "    ('reranked_tfidf_rec', 0.18610966057441256)\n",
    "    ('tfidf_rec', 0.14607843137254906)"
   ],
   "cell_type": "markdown",
   "metadata": {}
  }
 ],
 "metadata": {
  "kernelspec": {
   "name": "python3",
   "display_name": "Python 3.7.7 64-bit"
  },
  "language_info": {
   "codemirror_mode": {
    "name": "ipython",
    "version": 3
   },
   "file_extension": ".py",
   "mimetype": "text/x-python",
   "name": "python",
   "nbconvert_exporter": "python",
   "pygments_lexer": "ipython3",
   "version": "3.7.7"
  },
  "interpreter": {
   "hash": "ca35beca1e73f0e8e48de5d26c91c8a581bc78491f6978c6ebd776970508bb03"
  }
 },
 "nbformat": 4,
 "nbformat_minor": 2
}