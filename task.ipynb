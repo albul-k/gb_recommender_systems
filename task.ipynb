{
 "cells": [
  {
   "cell_type": "markdown",
   "metadata": {
    "id": "89mFQmjdo1gZ"
   },
   "source": [
    "# Вебинар 1. Введение, примеры задач, бизнес- и ML-метрики "
   ]
  },
  {
   "cell_type": "code",
   "execution_count": 1,
   "metadata": {
    "id": "MDr2G6YIo1g_"
   },
   "outputs": [],
   "source": [
    "import pandas as pd\n",
    "import numpy as np\n",
    "import random"
   ]
  },
  {
   "cell_type": "markdown",
   "metadata": {
    "id": "8VrZhsIbo1ha"
   },
   "source": [
    "# 2. ML-mетрики качества"
   ]
  },
  {
   "cell_type": "markdown",
   "metadata": {
    "id": "IZ6mlwcSo1hn"
   },
   "source": [
    "### 1. Hit rate\n",
    "\n",
    "Hit rate = был ли хотя бы 1 релевантный товар среди рекомендованных\n",
    "\n",
    "- Иногда применяется, когда продаются достаточно дорогие товары (например, бытовая техника) \n",
    "\n",
    "----\n",
    "Hit rate = (был ли хотя бы 1 релевантный товар среди рекомендованных)   \n",
    "\n",
    "Hit rate@k = (был ли хотя бы 1 релевантный товар среди топ-k рекомендованных)"
   ]
  },
  {
   "cell_type": "code",
   "execution_count": 2,
   "metadata": {
    "id": "UdC9moeIo1ho"
   },
   "outputs": [],
   "source": [
    "def hit_rate(recommended_list, bought_list):\n",
    "    bought_list = np.array(bought_list)\n",
    "    recommended_list = np.array(recommended_list)\n",
    "    \n",
    "    flags = np.isin(bought_list, recommended_list)\n",
    "    return (flags.sum() > 0) * 1\n",
    "\n",
    "def hit_rate_at_k(recommended_list, bought_list, k=5):\n",
    "    bought_list = np.array(bought_list)[:k]\n",
    "    recommended_list = np.array(recommended_list)[:k]\n",
    "    \n",
    "    flags = np.isin(bought_list, recommended_list)\n",
    "    return (flags.sum() > 0) * 1"
   ]
  },
  {
   "cell_type": "code",
   "execution_count": 3,
   "metadata": {
    "id": "cQXLlorio1hs",
    "outputId": "1d1b69db-3909-4fe1-e600-e900847bb26d"
   },
   "outputs": [
    {
     "output_type": "stream",
     "name": "stdout",
     "text": [
      "hit_rate: 1\nhit_rate_at_k (k=1): 0\nhit_rate_at_k (k=2): 0\nhit_rate_at_k (k=3): 1\nhit_rate_at_k (k=4): 1\nhit_rate_at_k (k=5): 1\n"
     ]
    }
   ],
   "source": [
    "recommended_list = [143, 156, 1134, 27, 1543, 3345, 533, 11, 43] #id товаров\n",
    "bought_list = [521, 32, 143, 991]\n",
    "\n",
    "print(f'hit_rate: {hit_rate(recommended_list, bought_list)}')\n",
    "for k in range(1, 6):\n",
    "    print(f'hit_rate_at_k (k={k}): {hit_rate_at_k(recommended_list, bought_list, k)}')"
   ]
  },
  {
   "cell_type": "markdown",
   "metadata": {
    "id": "iwXCUigno1hy"
   },
   "source": [
    "### 2. Precision\n",
    "\n",
    "*Precision* - доля релевантных товаров среди рекомендованных = Какой % рекомендованных товаров  юзер купил\n",
    "\n",
    "- Пожалуй, самая приближенная к бизнес-метрикам и самая популярная метрика\n",
    "\n",
    "---\n",
    "\n",
    "Precision= (# of recommended items that are relevant) / (# of recommended items)  \n",
    "\n",
    "Precision@k = (# of recommended items @k that are relevant) / (# of recommended items @k)\n",
    "\n",
    "Money Precision@k = (revenue of recommended items @k that are relevant) / (revenue of recommended items @k)  \n",
    "\n",
    "**Note:** Обычно k в precision@k достаточно невелико (5-20) и определяется из бизнес-логики. Например, 5 товаров в e-mail рассылке, 20 ответов на первой странице google и т.д"
   ]
  },
  {
   "cell_type": "markdown",
   "metadata": {
    "id": "WvSzvvmMo1hz"
   },
   "source": [
    "Красная рыба - 400 руб  \n",
    "Молоко - 60 руб  \n",
    "Хлеб = 40 руб  \n",
    "Гречка = 40 руб  \n",
    "Шоколад = 90 руб  \n",
    "\n",
    "------  \n",
    "Варенье - 240 руб  \n",
    "...  \n",
    "\n",
    "**Case 1**  \n",
    "prices_resommended = [400, 60, 40, 40 , 90]  \n",
    "flags = [1, 0, 0, 0 , 1]  \n",
    "\n",
    "$precison@5 = \\frac{1 + 0 + 0 +0 + 1}{1+1+1+1+1} = 40\\%$  \n",
    "$money precision@5 = \\frac{1*400 + 0*60 + ... + 1*90}{1*400 + 1*60 + ... + 1*90} = 77.7\\%$  \n",
    "\n",
    "  \n",
    "**Case 2**   \n",
    "prices_resommended = [400, 60, 40, 40 , 90]  \n",
    "flags = [0, 1, 0, 0 , 1]  \n",
    "\n",
    "$precison@5 = \\frac{0 + 1 + 0 +0 + 1}{1+1+1+1+1} = 40\\%$  \n",
    "$money precision@5 = \\frac{0*400 + 1*60 + ... + 1*90}{1*400 + 1*60 + ... + 1*90} = 15.8\\%$"
   ]
  },
  {
   "cell_type": "code",
   "execution_count": 4,
   "metadata": {
    "id": "bDZRoYivo1h1"
   },
   "outputs": [],
   "source": [
    "def precision(recommended_list, bought_list):\n",
    "    \n",
    "    bought_list = np.array(bought_list)\n",
    "    recommended_list = np.array(recommended_list)\n",
    "    \n",
    "    flags = np.isin(bought_list, recommended_list)\n",
    "    return flags.sum() / len(recommended_list)\n",
    "\n",
    "\n",
    "def precision_at_k(recommended_list, bought_list, k=5):\n",
    "\n",
    "    bought_list = np.array(bought_list)[:k]\n",
    "    recommended_list = np.array(recommended_list)[:k]\n",
    "    \n",
    "    flags = np.isin(bought_list, recommended_list)\n",
    "    return flags.sum() / len(recommended_list)\n",
    "\n",
    "\n",
    "def money_precision_at_k(recommended_list, bought_list, prices_recommended, k=5):\n",
    "    \n",
    "    recommend_list = np.array(recommended_list)[:k]\n",
    "    prices_recommended_ = np.array(prices_recommended)[:k]\n",
    "    \n",
    "    flags = np.isin(recommend_list, bought_list)\n",
    "    \n",
    "    precision = np.dot(flags, prices_recommended_) / prices_recommended_.sum()\n",
    "    return precision"
   ]
  },
  {
   "cell_type": "code",
   "execution_count": 5,
   "metadata": {
    "id": "rfL2QSH1o1h5",
    "outputId": "684a2322-c696-4183-8ff9-bc3bec2be345"
   },
   "outputs": [
    {
     "output_type": "stream",
     "name": "stdout",
     "text": [
      "precision: 0.2\n\nk=1\nprecision_at_k: 0.0\nmoney_precision_at_k: 1.0\n\nk=2\nprecision_at_k: 0.0\nmoney_precision_at_k: 0.30317848410757947\n\nk=3\nprecision_at_k: 0.3333333333333333\nmoney_precision_at_k: 0.17945007235890015\n\nk=4\nprecision_at_k: 0.5\nmoney_precision_at_k: 0.5004405286343613\n\nk=5\nprecision_at_k: 0.4\nmoney_precision_at_k: 0.44583987441130296\n\n"
     ]
    }
   ],
   "source": [
    "random.seed(100)\n",
    "\n",
    "recommended_list = [143, 156, 1134, 991, 27, 1543, 3345, 533, 11, 43] #id товаров\n",
    "bought_list = [521, 32, 143, 991]\n",
    "prices_recommended = [random.randint(50, 500) for i in range(1, len(recommended_list)+1)]\n",
    "\n",
    "print(f'precision: {precision(recommended_list, bought_list)}\\n')\n",
    "\n",
    "for k in range(1, 6):\n",
    "    print(f'k={k}')\n",
    "    print(f'precision_at_k: {precision_at_k(recommended_list, bought_list, k)}')\n",
    "    print(f'money_precision_at_k: {money_precision_at_k(recommended_list, bought_list, prices_recommended, k)}\\n')"
   ]
  },
  {
   "cell_type": "markdown",
   "metadata": {
    "id": "NfVd3dnCo1iN"
   },
   "source": [
    "### 3. Recall\n",
    "\n",
    "*Recall* - доля рекомендованных товаров среди релевантных = Какой % купленных товаров был среди рекомендованных\n",
    "\n",
    "- Обычно используется для моделей пре-фильтрации товаров (убрать те товары, которые точно не будем рекомендовать)\n",
    "\n",
    "---\n",
    "\n",
    "Recall= (# of recommended items that are relevant) / (# of relevant items)  \n",
    "\n",
    "Recall@k = (# of recommended items @k that are relevant) / (# of relevant items)\n",
    "\n",
    "Money Recall@k = (revenue of recommended items @k that are relevant) / (revenue of relevant items)  \n",
    "\n",
    "    \n",
    "  \n",
    "**Note:** в recall@k число k обычно достаточно большое (50-200), больше чем покупок у среднестатистического юзера"
   ]
  },
  {
   "cell_type": "code",
   "execution_count": 6,
   "metadata": {
    "id": "g2sl_HTfo1iS"
   },
   "outputs": [],
   "source": [
    "def recall(recommended_list, bought_list):\n",
    "    \n",
    "    bought_list = np.array(bought_list)\n",
    "    recommended_list = np.array(recommended_list)\n",
    "    \n",
    "    flags = np.isin(bought_list, recommended_list)\n",
    "    return flags.sum() / len(bought_list)\n",
    "    \n",
    "\n",
    "def recall_at_k(recommended_list, bought_list, k=5):\n",
    "    \n",
    "    bought_list = np.array(bought_list)[:k]\n",
    "    recommended_list = np.array(recommended_list)[:k]\n",
    "    \n",
    "    flags = np.isin(bought_list, recommended_list)\n",
    "    return flags.sum() / len(bought_list)\n",
    "\n",
    "\n",
    "def money_recall_at_k(recommended_list, bought_list, prices_recommended, prices_bought, k=5):\n",
    "    \n",
    "    recommend_list = np.array(recommended_list)[:k]\n",
    "    prices_recommended_ = np.array(prices_recommended)[:k]\n",
    "    \n",
    "    flags = np.isin(recommend_list, bought_list)\n",
    "    \n",
    "    recall = np.dot(flags, prices_recommended_) / prices_bought.sum()\n",
    "    return recall"
   ]
  },
  {
   "cell_type": "code",
   "execution_count": 7,
   "metadata": {
    "id": "kd4I_xqvo1iX",
    "outputId": "2e90ab42-c647-4087-c536-454d10f5f305"
   },
   "outputs": [
    {
     "output_type": "stream",
     "name": "stdout",
     "text": [
      "recall: 0.5\n\nk=1\nrecall_at_k: 0.0\nmoney_recall_at_k: 0.21830985915492956\n\nk=2\nrecall_at_k: 0.0\nmoney_recall_at_k: 0.21830985915492956\n\nk=3\nrecall_at_k: 0.3333333333333333\nmoney_recall_at_k: 0.21830985915492956\n\nk=4\nrecall_at_k: 0.5\nmoney_recall_at_k: 1.0\n\nk=5\nrecall_at_k: 0.5\nmoney_recall_at_k: 1.0\n\n"
     ]
    }
   ],
   "source": [
    "random.seed(100)\n",
    "\n",
    "recommended_list = [143, 156, 1134, 991, 27, 1543, 3345, 533, 11, 43] #id товаров\n",
    "bought_list = [521, 32, 143, 991]\n",
    "prices_recommended = [random.randint(50, 500) for i in range(1, len(recommended_list)+1)]\n",
    "prices_bought = np.isin(recommended_list, bought_list) * prices_recommended\n",
    "\n",
    "print(f'recall: {recall(recommended_list, bought_list)}\\n')\n",
    "\n",
    "for k in range(1, 6):\n",
    "    print(f'k={k}')\n",
    "    print(f'recall_at_k: {recall_at_k(recommended_list, bought_list, k)}')\n",
    "    print(f'money_recall_at_k: {money_recall_at_k(recommended_list, bought_list, prices_recommended, prices_bought, k)}\\n')"
   ]
  },
  {
   "cell_type": "markdown",
   "metadata": {
    "id": "A-9Go3EOo1ib"
   },
   "source": [
    "---"
   ]
  },
  {
   "cell_type": "markdown",
   "metadata": {
    "id": "p06Ri8-go1ic"
   },
   "source": [
    "# Метрики ранжирования"
   ]
  },
  {
   "cell_type": "markdown",
   "metadata": {
    "id": "F95YT0wwo1id"
   },
   "source": [
    "## AP@k\n",
    "AP@k - average precision at k\n",
    "\n",
    "$$AP@k = \\frac{1}{r} \\sum{[recommended_{relevant_i}] * precision@k}$$\n",
    "\n",
    "- r - кол-во релевантных среди рекомендованных\n",
    "- Суммируем по всем релевантным товарам\n",
    "- Зависит от порядка реокмендаций"
   ]
  },
  {
   "cell_type": "code",
   "execution_count": 8,
   "metadata": {},
   "outputs": [],
   "source": [
    "recommended_list = [221, 21, 3234, 1, 234, 234, 234, 666] #id товаров\n",
    "bought_list = [1, 221, 3, 4, 5, 6, 7, 8, 9]"
   ]
  },
  {
   "cell_type": "code",
   "execution_count": 9,
   "metadata": {},
   "outputs": [],
   "source": [
    "def ap_k(recommended_list, bought_list, k=5):\n",
    "    \n",
    "    recommended_list = np.array(recommended_list)[:k]\n",
    "    bought_list = np.array(bought_list)\n",
    "    \n",
    "    relevant_indexes = np.nonzero(np.isin(recommended_list, bought_list))[0]\n",
    "    if len(relevant_indexes) == 0:\n",
    "        return 0\n",
    "    \n",
    "    amount_relevant = len(relevant_indexes)\n",
    "            \n",
    "    sum_ = sum([precision_at_k(recommended_list, bought_list, k=index_relevant+1) for index_relevant in relevant_indexes])\n",
    "    return sum_/amount_relevant"
   ]
  },
  {
   "cell_type": "code",
   "execution_count": 10,
   "metadata": {},
   "outputs": [
    {
     "output_type": "execute_result",
     "data": {
      "text/plain": [
       "0.25"
      ]
     },
     "metadata": {},
     "execution_count": 10
    }
   ],
   "source": [
    "ap_k(recommended_list, bought_list, k=5)"
   ]
  },
  {
   "cell_type": "markdown",
   "metadata": {
    "id": "GyKVp_A_o1ip"
   },
   "source": [
    "### MAP@k\n",
    "\n",
    "MAP@k (Mean Average Precision@k)  \n",
    "Среднее AP@k по всем юзерам\n",
    "- Показывает средневзвешенную точность рекомендаций\n",
    "\n",
    "$$MAP@k = \\frac{1}{|U|} \\sum_u{AP_k}$$\n",
    "  \n",
    "|U| - кол-во юзеров"
   ]
  },
  {
   "cell_type": "code",
   "execution_count": 11,
   "metadata": {},
   "outputs": [],
   "source": [
    "# теперь список из 3 пользователей\n",
    "recommended_list_3_users = [\n",
    "    [143, 156, 1134, 991, 27, 1543, 3345, 533, 11, 43], \n",
    "    [1134, 533, 14, 4, 15, 1543, 1, 99, 27, 3345], \n",
    "    [991, 3345, 27, 533, 43, 143, 1543, 156, 1134, 11], \n",
    "]\n",
    "\n",
    "bought_list_3_users = [\n",
    "    [521, 32, 143],  # юзер 1\n",
    "    [143, 156, 991, 43, 11], # юзер 2\n",
    "    [991, 1, 2], # юзер 3\n",
    "]"
   ]
  },
  {
   "cell_type": "code",
   "execution_count": 12,
   "metadata": {
    "id": "heZq-3_Vo1iq"
   },
   "outputs": [],
   "source": [
    "def map_k(recommended_list, bought_list, k=5):\n",
    "    \n",
    "    result = 0\n",
    "    for itm in zip(recommended_list, bought_list):\n",
    "        result += ap_k(itm[0], itm[1], k=5)\n",
    "    \n",
    "    return result / len(recommended_list)"
   ]
  },
  {
   "cell_type": "code",
   "execution_count": 13,
   "metadata": {},
   "outputs": [
    {
     "output_type": "execute_result",
     "data": {
      "text/plain": [
       "0.3333333333333333"
      ]
     },
     "metadata": {},
     "execution_count": 13
    }
   ],
   "source": [
    "map_k(recommended_list_3_users, bought_list_3_users, k)"
   ]
  },
  {
   "cell_type": "markdown",
   "metadata": {
    "id": "Ziy893rxo1iw"
   },
   "source": [
    "### AUC@k\n",
    "AUC для первых k наблюдений  \n",
    "- Можно посчитать как sklern.metrics.roc_auc_score для топ-k предсказаний\n",
    "- Показывает долю верно отранжированных товаров"
   ]
  },
  {
   "cell_type": "markdown",
   "metadata": {
    "id": "-aRUBub7o1ix"
   },
   "source": [
    "### Normalized discounted cumulative gain ( NDCG@k)\n",
    "\n",
    "\n",
    "$$DCG = \\frac{1}{|r|} \\sum_u{\\frac{[bought fact]}{discount(i)}}$$  \n",
    "\n",
    "$discount(i) = i$ if $i <= 2$,   \n",
    "$discount(i) = log_2(i)$ if $i > 2$\n",
    "\n",
    "\n",
    "(!) Считаем для первых k рекоммендаций   \n",
    "(!) - существуют вариации с другими $discount(i)$  \n",
    "i - ранк рекомендованного товара  \n",
    "|r| - кол-во рекомендованных товаров \n",
    "\n",
    "$$NDCG = \\frac{DCG}{ideal DCG}$$\n"
   ]
  },
  {
   "cell_type": "markdown",
   "metadata": {
    "id": "zHpCD4lKo1i1"
   },
   "source": [
    "$DCG@5 = \\frac{1}{5}*(1 / 1 + 0 / 2 + 0 / log(3) + 1 / log(4) + 0 / log(5))$  \n",
    "$ideal DCG@5 = \\frac{1}{5}*(1 / 1 + 1 / 2 + 1 / log(3) + 1 / log(4) + 1 / log(5))$  \n",
    "\n",
    "$NDCG = \\frac{DCG}{ideal DCG}$"
   ]
  },
  {
   "cell_type": "code",
   "execution_count": 14,
   "metadata": {},
   "outputs": [],
   "source": [
    "def dcg_at_k(recommended_list, bought_list, k=5, is_ideal=False):\n",
    "    \n",
    "    recommended_list = np.array(recommended_list)[:k]\n",
    "    bought_list = np.array(bought_list)\n",
    "\n",
    "    if is_ideal == False:\n",
    "        is_bought = np.isin(recommended_list, bought_list) * 1\n",
    "    else:\n",
    "        is_bought = np.full(len(recommended_list), 1)\n",
    "    \n",
    "    sum_ = sum([value / idx if idx in [1, 2] else value / np.log2(idx) for idx, value in enumerate(is_bought, 1)])\n",
    "    return sum_/len(recommended_list)\n",
    "\n",
    "def ndcg_at_k(recommended_list, bought_list, k=5):\n",
    "    return dcg_at_k(recommended_list, bought_list, k=5, is_ideal=False) / dcg_at_k(recommended_list, bought_list, k=5, is_ideal=True)"
   ]
  },
  {
   "cell_type": "code",
   "execution_count": 15,
   "metadata": {},
   "outputs": [
    {
     "output_type": "stream",
     "name": "stdout",
     "text": [
      "dcg_at_k: 0.3\nndcg_at_k: 0.489938890671454\n"
     ]
    }
   ],
   "source": [
    "recommended_list = [221, 21, 3234, 1, 234, 234, 234, 666] #id товаров\n",
    "bought_list = [1, 221, 3, 4, 5, 6, 7, 8, 9]\n",
    "\n",
    "print(f'dcg_at_k: {dcg_at_k(recommended_list, bought_list, k=5)}')\n",
    "print(f'ndcg_at_k: {ndcg_at_k(recommended_list, bought_list, k=5)}')"
   ]
  },
  {
   "cell_type": "markdown",
   "metadata": {
    "id": "T7Y-Jtcdo1i6"
   },
   "source": [
    "### Mean Reciprocal Rank ( MRR@k )\n",
    "\n",
    "\n",
    "- Считаем для первых k рекоммендаций\n",
    "- Найти ранк первого релевантного предсказания $k_u$\n",
    "- Посчитать reciprocal rank = $\\frac{1}{k_u}$\n",
    "\n",
    "$$MRR = mean(\\frac{1}{k_u})$$"
   ]
  },
  {
   "cell_type": "code",
   "execution_count": 16,
   "metadata": {},
   "outputs": [],
   "source": [
    "def reciprocal_rank(recommended_list, bought_list, k=1):\n",
    "\n",
    "    mrr = []\n",
    "    for itm in zip(recommended_list, bought_list):\n",
    "        flags = np.isin(np.array(itm[0])[:k], np.array(itm[1]))\n",
    "        relevant_indexes = np.nonzero(flags)[0]\n",
    "        \n",
    "        if len(relevant_indexes) == 0:\n",
    "            mrr.append(0)\n",
    "        else:\n",
    "            mrr.append(1 / (relevant_indexes[0] + 1))\n",
    "    return np.mean(mrr)"
   ]
  },
  {
   "cell_type": "code",
   "execution_count": 17,
   "metadata": {},
   "outputs": [
    {
     "output_type": "execute_result",
     "data": {
      "text/plain": [
       "0.6666666666666666"
      ]
     },
     "metadata": {},
     "execution_count": 17
    }
   ],
   "source": [
    "reciprocal_rank(recommended_list_3_users, bought_list_3_users, k=5)"
   ]
  },
  {
   "cell_type": "markdown",
   "metadata": {
    "id": "DlPGKta8o1i_"
   },
   "source": [
    "# 3. Связь бизнес-метрик, ML-метрик и функции потерь(loss)"
   ]
  },
  {
   "cell_type": "markdown",
   "metadata": {
    "id": "uOUGeoTco1i_"
   },
   "source": [
    "- **loss** - то, что оптимизирует модель (RMSE - Root Mean Squared Error)\n",
    "- **ML-метрика** - то, как мы измеряем качество на test (money precision@5)\n",
    "- **Бизнес-метрика** - то, что хочет оптимизировать бизнес (выручка)\n",
    "\n",
    "В идеале loss = ML-метрика = бизнес-метрика, но это возмонжо в очень редких случаях\n",
    "\n",
    "Надеемся, что:  \n",
    "    *Оптимизация loss --> рост ML-метрик --> рост бизнес-метрик*"
   ]
  },
  {
   "cell_type": "markdown",
   "metadata": {
    "id": "P9bMXLKro1jA"
   },
   "source": [
    "### Пример: рекомендательная система товаров на сайте  \n",
    "      \n",
    "На сайте есть баннер, на котором мы можем разместить 5 товаров. Надо порекомендовать эти 5 товаров персонально каждому юзеру\n",
    "\n",
    "*Шаг 1: Определим бизнес-метрику*  \n",
    "Бизнес хочет максимизировать выручку --> бизнес-метрика - **Выручка**  \n",
    "\n",
    "*Шаг 2: Разложим ее на составляющие*  \n",
    "Выручка =   \n",
    "       Средний чек * кол-во покупок =   \n",
    "       Средний чек * (число юзеров * конверсия из захода на сайт в заказ) =\n",
    "       Число юзеров * (Средний чек * конверсия из захода на сайт в заказ)\n",
    "       \n",
    "Рекомендательная система влияет только на (Средний чек * конверсия из захода на сайт в заказ).   \n",
    "Хорошим приближением этого является **money precision@5** - ML-метрика\n",
    "\n",
    "*Шаг 3: loss*  \n",
    "Это существенно сложнее. Персонализированные ML-модели не умеют напрямую оптимизировать конверсию. Стандартный loss - **RMSE**. Можно для начала попробовать его. \n",
    "\n",
    "P.S. Если вы хотите приблизить RMSE к money precision@5, то можно посчитать weighted RMSE, где вес каждого наблюдения = стоимость товара.   \n",
    "P.S.S. Про другие виды loss будет рассказано в курсе"
   ]
  },
  {
   "cell_type": "markdown",
   "metadata": {},
   "source": [
    "# Полезные ссылки"
   ]
  },
  {
   "cell_type": "markdown",
   "metadata": {},
   "source": [
    "Статьи: https://docs.google.com/document/d/16L1u5zuQyT5rSAQNk2Q7Zk5KzqlPqWTpYa2cPK3QU0Y/edit?usp=sharing"
   ]
  },
  {
   "cell_type": "markdown",
   "metadata": {},
   "source": [
    "# Домашнее задание \n",
    "\n",
    "**1) Приведите еще примеры метрик для оценки рекомендаций/ранжирования (можно взять из интернета, или ваши знания)**\n",
    "\n",
    "**2) Доделать все функции, где стоит комментарий \"сделать дома\"**"
   ]
  },
  {
   "source": [
    "### 1) Приведите еще примеры метрик для оценки рекомендаций/ранжирования (можно взять из интернета, или ваши знания)\n",
    "\n",
    "Kendall’s tau: https://en.wikipedia.org/wiki/Kendall_rank_correlation_coefficient\n",
    "\n",
    "Spearman’s rho: https://en.wikipedia.org/wiki/Spearman%27s_rank_correlation_coefficient"
   ],
   "cell_type": "markdown",
   "metadata": {}
  }
 ],
 "metadata": {
  "colab": {
   "name": "webinar_1.ipynb",
   "provenance": []
  },
  "kernelspec": {
   "name": "python37764bit3fbe5ae206bf467f9f636d844c57ff6e",
   "display_name": "Python 3.7.7 64-bit"
  },
  "language_info": {
   "codemirror_mode": {
    "name": "ipython",
    "version": 3
   },
   "file_extension": ".py",
   "mimetype": "text/x-python",
   "name": "python",
   "nbconvert_exporter": "python",
   "pygments_lexer": "ipython3",
   "version": "3.7.7"
  },
  "metadata": {
   "interpreter": {
    "hash": "ca35beca1e73f0e8e48de5d26c91c8a581bc78491f6978c6ebd776970508bb03"
   }
  }
 },
 "nbformat": 4,
 "nbformat_minor": 1
}