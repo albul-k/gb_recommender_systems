{
 "cells": [
  {
   "cell_type": "markdown",
   "metadata": {},
   "source": [
    "# Вебинар 2. Бейзлайны и детерминированные алгоритмы item-item"
   ]
  },
  {
   "cell_type": "code",
   "execution_count": 1,
   "metadata": {},
   "outputs": [],
   "source": [
    "import pandas as pd\n",
    "import numpy as np\n",
    "import matplotlib.pyplot as plt\n",
    "%matplotlib inline\n",
    "\n",
    "# Для работы с матрицами\n",
    "from scipy.sparse import csr_matrix, coo_matrix\n",
    "\n",
    "# Детерминированные алгоритмы\n",
    "from implicit.nearest_neighbours import ItemItemRecommender, CosineRecommender, TFIDFRecommender\n",
    "\n",
    "# Метрики\n",
    "from implicit.evaluation import train_test_split\n",
    "from implicit.evaluation import precision_at_k, mean_average_precision_at_k, AUC_at_k, ndcg_at_k"
   ]
  },
  {
   "cell_type": "code",
   "execution_count": 2,
   "metadata": {},
   "outputs": [
    {
     "output_type": "execute_result",
     "data": {
      "text/plain": [
       "   user_id    basket_id  day  item_id  quantity  sales_value  store_id  \\\n",
       "0     2375  26984851472    1  1004906         1         1.39       364   \n",
       "1     2375  26984851472    1  1033142         1         0.82       364   \n",
       "2     2375  26984851472    1  1036325         1         0.99       364   \n",
       "3     2375  26984851472    1  1082185         1         1.21       364   \n",
       "4     2375  26984851472    1  8160430         1         1.50       364   \n",
       "\n",
       "   retail_disc  trans_time  week_no  coupon_disc  coupon_match_disc  \n",
       "0        -0.60        1631        1          0.0                0.0  \n",
       "1         0.00        1631        1          0.0                0.0  \n",
       "2        -0.30        1631        1          0.0                0.0  \n",
       "3         0.00        1631        1          0.0                0.0  \n",
       "4        -0.39        1631        1          0.0                0.0  "
      ],
      "text/html": "<div>\n<style scoped>\n    .dataframe tbody tr th:only-of-type {\n        vertical-align: middle;\n    }\n\n    .dataframe tbody tr th {\n        vertical-align: top;\n    }\n\n    .dataframe thead th {\n        text-align: right;\n    }\n</style>\n<table border=\"1\" class=\"dataframe\">\n  <thead>\n    <tr style=\"text-align: right;\">\n      <th></th>\n      <th>user_id</th>\n      <th>basket_id</th>\n      <th>day</th>\n      <th>item_id</th>\n      <th>quantity</th>\n      <th>sales_value</th>\n      <th>store_id</th>\n      <th>retail_disc</th>\n      <th>trans_time</th>\n      <th>week_no</th>\n      <th>coupon_disc</th>\n      <th>coupon_match_disc</th>\n    </tr>\n  </thead>\n  <tbody>\n    <tr>\n      <th>0</th>\n      <td>2375</td>\n      <td>26984851472</td>\n      <td>1</td>\n      <td>1004906</td>\n      <td>1</td>\n      <td>1.39</td>\n      <td>364</td>\n      <td>-0.60</td>\n      <td>1631</td>\n      <td>1</td>\n      <td>0.0</td>\n      <td>0.0</td>\n    </tr>\n    <tr>\n      <th>1</th>\n      <td>2375</td>\n      <td>26984851472</td>\n      <td>1</td>\n      <td>1033142</td>\n      <td>1</td>\n      <td>0.82</td>\n      <td>364</td>\n      <td>0.00</td>\n      <td>1631</td>\n      <td>1</td>\n      <td>0.0</td>\n      <td>0.0</td>\n    </tr>\n    <tr>\n      <th>2</th>\n      <td>2375</td>\n      <td>26984851472</td>\n      <td>1</td>\n      <td>1036325</td>\n      <td>1</td>\n      <td>0.99</td>\n      <td>364</td>\n      <td>-0.30</td>\n      <td>1631</td>\n      <td>1</td>\n      <td>0.0</td>\n      <td>0.0</td>\n    </tr>\n    <tr>\n      <th>3</th>\n      <td>2375</td>\n      <td>26984851472</td>\n      <td>1</td>\n      <td>1082185</td>\n      <td>1</td>\n      <td>1.21</td>\n      <td>364</td>\n      <td>0.00</td>\n      <td>1631</td>\n      <td>1</td>\n      <td>0.0</td>\n      <td>0.0</td>\n    </tr>\n    <tr>\n      <th>4</th>\n      <td>2375</td>\n      <td>26984851472</td>\n      <td>1</td>\n      <td>8160430</td>\n      <td>1</td>\n      <td>1.50</td>\n      <td>364</td>\n      <td>-0.39</td>\n      <td>1631</td>\n      <td>1</td>\n      <td>0.0</td>\n      <td>0.0</td>\n    </tr>\n  </tbody>\n</table>\n</div>"
     },
     "metadata": {},
     "execution_count": 2
    }
   ],
   "source": [
    "data = pd.read_csv('./lessons/web2/retail_train.csv')\n",
    "data.head()"
   ]
  },
  {
   "cell_type": "code",
   "execution_count": 3,
   "metadata": {},
   "outputs": [
    {
     "output_type": "execute_result",
     "data": {
      "text/plain": [
       "95"
      ]
     },
     "metadata": {},
     "execution_count": 3
    }
   ],
   "source": [
    "data['week_no'].nunique()"
   ]
  },
  {
   "cell_type": "code",
   "execution_count": 4,
   "metadata": {},
   "outputs": [
    {
     "output_type": "stream",
     "name": "stdout",
     "text": [
      "# users:  2499\n# items:  89051\n# interactions:  2396804\n"
     ]
    }
   ],
   "source": [
    "users, items, interactions = data.user_id.nunique(), data.item_id.nunique(), data.shape[0]\n",
    "\n",
    "print('# users: ', users)\n",
    "print('# items: ', items)\n",
    "print('# interactions: ', interactions)"
   ]
  },
  {
   "cell_type": "code",
   "execution_count": 5,
   "metadata": {},
   "outputs": [
    {
     "output_type": "execute_result",
     "data": {
      "text/plain": [
       "            item_id    sales_value\n",
       "count  8.905100e+04   89051.000000\n",
       "mean   5.115772e+06      83.458481\n",
       "std    5.178973e+06    1628.715079\n",
       "min    2.567100e+04       0.000000\n",
       "25%    9.665830e+05       3.500000\n",
       "50%    1.448516e+06      10.780000\n",
       "75%    9.553042e+06      46.105000\n",
       "max    1.802456e+07  467993.620000"
      ],
      "text/html": "<div>\n<style scoped>\n    .dataframe tbody tr th:only-of-type {\n        vertical-align: middle;\n    }\n\n    .dataframe tbody tr th {\n        vertical-align: top;\n    }\n\n    .dataframe thead th {\n        text-align: right;\n    }\n</style>\n<table border=\"1\" class=\"dataframe\">\n  <thead>\n    <tr style=\"text-align: right;\">\n      <th></th>\n      <th>item_id</th>\n      <th>sales_value</th>\n    </tr>\n  </thead>\n  <tbody>\n    <tr>\n      <th>count</th>\n      <td>8.905100e+04</td>\n      <td>89051.000000</td>\n    </tr>\n    <tr>\n      <th>mean</th>\n      <td>5.115772e+06</td>\n      <td>83.458481</td>\n    </tr>\n    <tr>\n      <th>std</th>\n      <td>5.178973e+06</td>\n      <td>1628.715079</td>\n    </tr>\n    <tr>\n      <th>min</th>\n      <td>2.567100e+04</td>\n      <td>0.000000</td>\n    </tr>\n    <tr>\n      <th>25%</th>\n      <td>9.665830e+05</td>\n      <td>3.500000</td>\n    </tr>\n    <tr>\n      <th>50%</th>\n      <td>1.448516e+06</td>\n      <td>10.780000</td>\n    </tr>\n    <tr>\n      <th>75%</th>\n      <td>9.553042e+06</td>\n      <td>46.105000</td>\n    </tr>\n    <tr>\n      <th>max</th>\n      <td>1.802456e+07</td>\n      <td>467993.620000</td>\n    </tr>\n  </tbody>\n</table>\n</div>"
     },
     "metadata": {},
     "execution_count": 5
    }
   ],
   "source": [
    "popularity = data.groupby('item_id')['sales_value'].sum().reset_index()\n",
    "popularity.describe()"
   ]
  },
  {
   "cell_type": "code",
   "execution_count": 6,
   "metadata": {},
   "outputs": [
    {
     "output_type": "execute_result",
     "data": {
      "text/plain": [
       "            item_id       user_id\n",
       "count  8.905100e+04  89051.000000\n",
       "mean   5.115772e+06     14.759767\n",
       "std    5.178973e+06     45.904111\n",
       "min    2.567100e+04      1.000000\n",
       "25%    9.665830e+05      1.000000\n",
       "50%    1.448516e+06      2.000000\n",
       "75%    9.553042e+06     10.000000\n",
       "max    1.802456e+07   2039.000000"
      ],
      "text/html": "<div>\n<style scoped>\n    .dataframe tbody tr th:only-of-type {\n        vertical-align: middle;\n    }\n\n    .dataframe tbody tr th {\n        vertical-align: top;\n    }\n\n    .dataframe thead th {\n        text-align: right;\n    }\n</style>\n<table border=\"1\" class=\"dataframe\">\n  <thead>\n    <tr style=\"text-align: right;\">\n      <th></th>\n      <th>item_id</th>\n      <th>user_id</th>\n    </tr>\n  </thead>\n  <tbody>\n    <tr>\n      <th>count</th>\n      <td>8.905100e+04</td>\n      <td>89051.000000</td>\n    </tr>\n    <tr>\n      <th>mean</th>\n      <td>5.115772e+06</td>\n      <td>14.759767</td>\n    </tr>\n    <tr>\n      <th>std</th>\n      <td>5.178973e+06</td>\n      <td>45.904111</td>\n    </tr>\n    <tr>\n      <th>min</th>\n      <td>2.567100e+04</td>\n      <td>1.000000</td>\n    </tr>\n    <tr>\n      <th>25%</th>\n      <td>9.665830e+05</td>\n      <td>1.000000</td>\n    </tr>\n    <tr>\n      <th>50%</th>\n      <td>1.448516e+06</td>\n      <td>2.000000</td>\n    </tr>\n    <tr>\n      <th>75%</th>\n      <td>9.553042e+06</td>\n      <td>10.000000</td>\n    </tr>\n    <tr>\n      <th>max</th>\n      <td>1.802456e+07</td>\n      <td>2039.000000</td>\n    </tr>\n  </tbody>\n</table>\n</div>"
     },
     "metadata": {},
     "execution_count": 6
    }
   ],
   "source": [
    "popularity = data.groupby('item_id')['user_id'].nunique().reset_index()\n",
    "popularity.describe()"
   ]
  },
  {
   "cell_type": "code",
   "execution_count": 7,
   "metadata": {},
   "outputs": [
    {
     "output_type": "execute_result",
     "data": {
      "text/plain": [
       "   PRODUCT_ID  MANUFACTURER    DEPARTMENT     BRAND            COMMODITY_DESC  \\\n",
       "0       25671             2       GROCERY  National                  FRZN ICE   \n",
       "1       26081             2  MISC. TRANS.  National  NO COMMODITY DESCRIPTION   \n",
       "2       26093            69        PASTRY   Private                     BREAD   \n",
       "3       26190            69       GROCERY   Private      FRUIT - SHELF STABLE   \n",
       "4       26355            69       GROCERY   Private             COOKIES/CONES   \n",
       "\n",
       "            SUB_COMMODITY_DESC CURR_SIZE_OF_PRODUCT  \n",
       "0          ICE - CRUSHED/CUBED                22 LB  \n",
       "1  NO SUBCOMMODITY DESCRIPTION                       \n",
       "2         BREAD:ITALIAN/FRENCH                       \n",
       "3                  APPLE SAUCE                50 OZ  \n",
       "4            SPECIALTY COOKIES                14 OZ  "
      ],
      "text/html": "<div>\n<style scoped>\n    .dataframe tbody tr th:only-of-type {\n        vertical-align: middle;\n    }\n\n    .dataframe tbody tr th {\n        vertical-align: top;\n    }\n\n    .dataframe thead th {\n        text-align: right;\n    }\n</style>\n<table border=\"1\" class=\"dataframe\">\n  <thead>\n    <tr style=\"text-align: right;\">\n      <th></th>\n      <th>PRODUCT_ID</th>\n      <th>MANUFACTURER</th>\n      <th>DEPARTMENT</th>\n      <th>BRAND</th>\n      <th>COMMODITY_DESC</th>\n      <th>SUB_COMMODITY_DESC</th>\n      <th>CURR_SIZE_OF_PRODUCT</th>\n    </tr>\n  </thead>\n  <tbody>\n    <tr>\n      <th>0</th>\n      <td>25671</td>\n      <td>2</td>\n      <td>GROCERY</td>\n      <td>National</td>\n      <td>FRZN ICE</td>\n      <td>ICE - CRUSHED/CUBED</td>\n      <td>22 LB</td>\n    </tr>\n    <tr>\n      <th>1</th>\n      <td>26081</td>\n      <td>2</td>\n      <td>MISC. TRANS.</td>\n      <td>National</td>\n      <td>NO COMMODITY DESCRIPTION</td>\n      <td>NO SUBCOMMODITY DESCRIPTION</td>\n      <td></td>\n    </tr>\n    <tr>\n      <th>2</th>\n      <td>26093</td>\n      <td>69</td>\n      <td>PASTRY</td>\n      <td>Private</td>\n      <td>BREAD</td>\n      <td>BREAD:ITALIAN/FRENCH</td>\n      <td></td>\n    </tr>\n    <tr>\n      <th>3</th>\n      <td>26190</td>\n      <td>69</td>\n      <td>GROCERY</td>\n      <td>Private</td>\n      <td>FRUIT - SHELF STABLE</td>\n      <td>APPLE SAUCE</td>\n      <td>50 OZ</td>\n    </tr>\n    <tr>\n      <th>4</th>\n      <td>26355</td>\n      <td>69</td>\n      <td>GROCERY</td>\n      <td>Private</td>\n      <td>COOKIES/CONES</td>\n      <td>SPECIALTY COOKIES</td>\n      <td>14 OZ</td>\n    </tr>\n  </tbody>\n</table>\n</div>"
     },
     "metadata": {},
     "execution_count": 7
    }
   ],
   "source": [
    "item_features = pd.read_csv('./lessons/web2/product.csv')\n",
    "item_features.head()"
   ]
  },
  {
   "cell_type": "code",
   "execution_count": 8,
   "metadata": {},
   "outputs": [
    {
     "output_type": "execute_result",
     "data": {
      "text/plain": [
       "  AGE_DESC MARITAL_STATUS_CODE INCOME_DESC HOMEOWNER_DESC      HH_COMP_DESC  \\\n",
       "0      65+                   A      35-49K      Homeowner  2 Adults No Kids   \n",
       "1    45-54                   A      50-74K      Homeowner  2 Adults No Kids   \n",
       "2    25-34                   U      25-34K        Unknown     2 Adults Kids   \n",
       "3    25-34                   U      75-99K      Homeowner     2 Adults Kids   \n",
       "4    45-54                   B      50-74K      Homeowner     Single Female   \n",
       "\n",
       "  HOUSEHOLD_SIZE_DESC KID_CATEGORY_DESC  household_key  \n",
       "0                   2      None/Unknown              1  \n",
       "1                   2      None/Unknown              7  \n",
       "2                   3                 1              8  \n",
       "3                   4                 2             13  \n",
       "4                   1      None/Unknown             16  "
      ],
      "text/html": "<div>\n<style scoped>\n    .dataframe tbody tr th:only-of-type {\n        vertical-align: middle;\n    }\n\n    .dataframe tbody tr th {\n        vertical-align: top;\n    }\n\n    .dataframe thead th {\n        text-align: right;\n    }\n</style>\n<table border=\"1\" class=\"dataframe\">\n  <thead>\n    <tr style=\"text-align: right;\">\n      <th></th>\n      <th>AGE_DESC</th>\n      <th>MARITAL_STATUS_CODE</th>\n      <th>INCOME_DESC</th>\n      <th>HOMEOWNER_DESC</th>\n      <th>HH_COMP_DESC</th>\n      <th>HOUSEHOLD_SIZE_DESC</th>\n      <th>KID_CATEGORY_DESC</th>\n      <th>household_key</th>\n    </tr>\n  </thead>\n  <tbody>\n    <tr>\n      <th>0</th>\n      <td>65+</td>\n      <td>A</td>\n      <td>35-49K</td>\n      <td>Homeowner</td>\n      <td>2 Adults No Kids</td>\n      <td>2</td>\n      <td>None/Unknown</td>\n      <td>1</td>\n    </tr>\n    <tr>\n      <th>1</th>\n      <td>45-54</td>\n      <td>A</td>\n      <td>50-74K</td>\n      <td>Homeowner</td>\n      <td>2 Adults No Kids</td>\n      <td>2</td>\n      <td>None/Unknown</td>\n      <td>7</td>\n    </tr>\n    <tr>\n      <th>2</th>\n      <td>25-34</td>\n      <td>U</td>\n      <td>25-34K</td>\n      <td>Unknown</td>\n      <td>2 Adults Kids</td>\n      <td>3</td>\n      <td>1</td>\n      <td>8</td>\n    </tr>\n    <tr>\n      <th>3</th>\n      <td>25-34</td>\n      <td>U</td>\n      <td>75-99K</td>\n      <td>Homeowner</td>\n      <td>2 Adults Kids</td>\n      <td>4</td>\n      <td>2</td>\n      <td>13</td>\n    </tr>\n    <tr>\n      <th>4</th>\n      <td>45-54</td>\n      <td>B</td>\n      <td>50-74K</td>\n      <td>Homeowner</td>\n      <td>Single Female</td>\n      <td>1</td>\n      <td>None/Unknown</td>\n      <td>16</td>\n    </tr>\n  </tbody>\n</table>\n</div>"
     },
     "metadata": {},
     "execution_count": 8
    }
   ],
   "source": [
    "user_features = pd.read_csv('./lessons/web2/hh_demographic.csv')\n",
    "user_features.head()"
   ]
  },
  {
   "cell_type": "markdown",
   "metadata": {},
   "source": [
    "### Train-test split"
   ]
  },
  {
   "cell_type": "code",
   "execution_count": 9,
   "metadata": {},
   "outputs": [],
   "source": [
    "test_size_weeks = 3\n",
    "\n",
    "data_train = data[data['week_no'] < data['week_no'].max() - test_size_weeks]\n",
    "data_test = data[data['week_no'] >= data['week_no'].max() - test_size_weeks]"
   ]
  },
  {
   "cell_type": "code",
   "execution_count": 10,
   "metadata": {},
   "outputs": [
    {
     "output_type": "execute_result",
     "data": {
      "text/plain": [
       "(2278490, 118314)"
      ]
     },
     "metadata": {},
     "execution_count": 10
    }
   ],
   "source": [
    "data_train.shape[0], data_test.shape[0]"
   ]
  },
  {
   "cell_type": "markdown",
   "metadata": {},
   "source": [
    "# 1. Бейзлайны"
   ]
  },
  {
   "cell_type": "markdown",
   "metadata": {},
   "source": [
    "Создадим датафрейм с покупками юзеров на тестовом датасете (последние 3 недели)"
   ]
  },
  {
   "cell_type": "code",
   "execution_count": 11,
   "metadata": {},
   "outputs": [
    {
     "output_type": "execute_result",
     "data": {
      "text/plain": [
       "   user_id                                             actual\n",
       "0        1  [821867, 834484, 856942, 865456, 889248, 90795...\n",
       "1        3  [835476, 851057, 872021, 878302, 879948, 90963..."
      ],
      "text/html": "<div>\n<style scoped>\n    .dataframe tbody tr th:only-of-type {\n        vertical-align: middle;\n    }\n\n    .dataframe tbody tr th {\n        vertical-align: top;\n    }\n\n    .dataframe thead th {\n        text-align: right;\n    }\n</style>\n<table border=\"1\" class=\"dataframe\">\n  <thead>\n    <tr style=\"text-align: right;\">\n      <th></th>\n      <th>user_id</th>\n      <th>actual</th>\n    </tr>\n  </thead>\n  <tbody>\n    <tr>\n      <th>0</th>\n      <td>1</td>\n      <td>[821867, 834484, 856942, 865456, 889248, 90795...</td>\n    </tr>\n    <tr>\n      <th>1</th>\n      <td>3</td>\n      <td>[835476, 851057, 872021, 878302, 879948, 90963...</td>\n    </tr>\n  </tbody>\n</table>\n</div>"
     },
     "metadata": {},
     "execution_count": 11
    }
   ],
   "source": [
    "result = data_test.groupby('user_id')['item_id'].unique().reset_index()\n",
    "result.columns=['user_id', 'actual']\n",
    "result.head(2)"
   ]
  },
  {
   "cell_type": "code",
   "execution_count": 12,
   "metadata": {},
   "outputs": [
    {
     "output_type": "stream",
     "name": "stdout",
     "text": [
      "В тестовом дата сете 2042 юзеров\nВ тестовом дата сете 0 новых юзеров\n"
     ]
    }
   ],
   "source": [
    "test_users = result.shape[0]\n",
    "new_test_users = len(set(data_test['user_id']) - set(data_train['user_id']))\n",
    "\n",
    "print('В тестовом дата сете {} юзеров'.format(test_users))\n",
    "print('В тестовом дата сете {} новых юзеров'.format(new_test_users))"
   ]
  },
  {
   "cell_type": "markdown",
   "metadata": {},
   "source": [
    "### 1.1 Random recommendation"
   ]
  },
  {
   "cell_type": "code",
   "execution_count": 13,
   "metadata": {},
   "outputs": [],
   "source": [
    "def random_recommendation(items, n=5):\n",
    "    \"\"\"Случайные рекоммендации\"\"\"\n",
    "    \n",
    "    items = np.array(items)\n",
    "    recs = np.random.choice(items, size=n, replace=False)\n",
    "    \n",
    "    return recs.tolist()"
   ]
  },
  {
   "cell_type": "code",
   "execution_count": 14,
   "metadata": {},
   "outputs": [
    {
     "output_type": "stream",
     "name": "stdout",
     "text": [
      "Wall time: 5.47 s\n"
     ]
    },
    {
     "output_type": "execute_result",
     "data": {
      "text/plain": [
       "   user_id                                             actual  \\\n",
       "0        1  [821867, 834484, 856942, 865456, 889248, 90795...   \n",
       "1        3  [835476, 851057, 872021, 878302, 879948, 90963...   \n",
       "\n",
       "                           random_recommendation  \n",
       "0    [12777787, 9676955, 96130, 938892, 1160461]  \n",
       "1  [945324, 8154496, 15454651, 9446124, 7167719]  "
      ],
      "text/html": "<div>\n<style scoped>\n    .dataframe tbody tr th:only-of-type {\n        vertical-align: middle;\n    }\n\n    .dataframe tbody tr th {\n        vertical-align: top;\n    }\n\n    .dataframe thead th {\n        text-align: right;\n    }\n</style>\n<table border=\"1\" class=\"dataframe\">\n  <thead>\n    <tr style=\"text-align: right;\">\n      <th></th>\n      <th>user_id</th>\n      <th>actual</th>\n      <th>random_recommendation</th>\n    </tr>\n  </thead>\n  <tbody>\n    <tr>\n      <th>0</th>\n      <td>1</td>\n      <td>[821867, 834484, 856942, 865456, 889248, 90795...</td>\n      <td>[12777787, 9676955, 96130, 938892, 1160461]</td>\n    </tr>\n    <tr>\n      <th>1</th>\n      <td>3</td>\n      <td>[835476, 851057, 872021, 878302, 879948, 90963...</td>\n      <td>[945324, 8154496, 15454651, 9446124, 7167719]</td>\n    </tr>\n  </tbody>\n</table>\n</div>"
     },
     "metadata": {},
     "execution_count": 14
    }
   ],
   "source": [
    "%%time\n",
    "\n",
    "items = data_train.item_id.unique()\n",
    "\n",
    "result['random_recommendation'] = result['user_id'].apply(lambda x: random_recommendation(items, n=5))\n",
    "\n",
    "result.head(2)"
   ]
  },
  {
   "cell_type": "markdown",
   "metadata": {},
   "source": [
    "### 1.2 Popularity-based recommendation"
   ]
  },
  {
   "cell_type": "code",
   "execution_count": 15,
   "metadata": {},
   "outputs": [],
   "source": [
    "def popularity_recommendation(data, n=5):\n",
    "    \"\"\"Топ-n популярных товаров\"\"\"\n",
    "    \n",
    "    popular = data.groupby('item_id')['sales_value'].sum().reset_index()\n",
    "    popular.sort_values('sales_value', ascending=False, inplace=True)\n",
    "    \n",
    "    recs = popular.head(n).item_id\n",
    "    \n",
    "    return recs.tolist()"
   ]
  },
  {
   "cell_type": "code",
   "execution_count": 16,
   "metadata": {},
   "outputs": [
    {
     "output_type": "stream",
     "name": "stdout",
     "text": [
      "Wall time: 288 ms\n"
     ]
    },
    {
     "output_type": "execute_result",
     "data": {
      "text/plain": [
       "   user_id                                             actual  \\\n",
       "0        1  [821867, 834484, 856942, 865456, 889248, 90795...   \n",
       "1        3  [835476, 851057, 872021, 878302, 879948, 90963...   \n",
       "\n",
       "                           random_recommendation  \\\n",
       "0    [12777787, 9676955, 96130, 938892, 1160461]   \n",
       "1  [945324, 8154496, 15454651, 9446124, 7167719]   \n",
       "\n",
       "                          popular_recommendation  \n",
       "0  [6534178, 6533889, 1029743, 6534166, 1082185]  \n",
       "1  [6534178, 6533889, 1029743, 6534166, 1082185]  "
      ],
      "text/html": "<div>\n<style scoped>\n    .dataframe tbody tr th:only-of-type {\n        vertical-align: middle;\n    }\n\n    .dataframe tbody tr th {\n        vertical-align: top;\n    }\n\n    .dataframe thead th {\n        text-align: right;\n    }\n</style>\n<table border=\"1\" class=\"dataframe\">\n  <thead>\n    <tr style=\"text-align: right;\">\n      <th></th>\n      <th>user_id</th>\n      <th>actual</th>\n      <th>random_recommendation</th>\n      <th>popular_recommendation</th>\n    </tr>\n  </thead>\n  <tbody>\n    <tr>\n      <th>0</th>\n      <td>1</td>\n      <td>[821867, 834484, 856942, 865456, 889248, 90795...</td>\n      <td>[12777787, 9676955, 96130, 938892, 1160461]</td>\n      <td>[6534178, 6533889, 1029743, 6534166, 1082185]</td>\n    </tr>\n    <tr>\n      <th>1</th>\n      <td>3</td>\n      <td>[835476, 851057, 872021, 878302, 879948, 90963...</td>\n      <td>[945324, 8154496, 15454651, 9446124, 7167719]</td>\n      <td>[6534178, 6533889, 1029743, 6534166, 1082185]</td>\n    </tr>\n  </tbody>\n</table>\n</div>"
     },
     "metadata": {},
     "execution_count": 16
    }
   ],
   "source": [
    "%%time\n",
    "\n",
    "# Можно так делать, так как рекомендация не зависит от юзера\n",
    "popular_recs = popularity_recommendation(data_train, n=5)\n",
    "\n",
    "result['popular_recommendation'] = result['user_id'].apply(lambda x: popular_recs)\n",
    "result.head(2)"
   ]
  },
  {
   "cell_type": "markdown",
   "metadata": {},
   "source": [
    "### 1.3 Weighted random recommender"
   ]
  },
  {
   "cell_type": "markdown",
   "metadata": {},
   "source": [
    "- Можно сэмплировать товары случайно, но пропорционально какому-либо весу\n",
    "- Например, прямопропорционально популярности. Вес = log(sales_sum товара)"
   ]
  },
  {
   "cell_type": "markdown",
   "metadata": {},
   "source": [
    "*Пример*  \n",
    "item_1 - 5, item_2 - 7, item_3 - 4  # / sum  \n",
    "item_1 - 5 / 16, item_2 - 7 / 16, item_3 - 4 / 16"
   ]
  },
  {
   "cell_type": "code",
   "execution_count": 17,
   "metadata": {},
   "outputs": [],
   "source": [
    "def weighted_random_recommendation(items_weights, n=5):\n",
    "    \"\"\"Случайные рекоммендации\n",
    "    \n",
    "    Input\n",
    "    -----\n",
    "    items_weights: pd.DataFrame\n",
    "        Датафрейм со столбцами item_id, weight. Сумма weight по всем товарам = 1\n",
    "    \"\"\"\n",
    "    \n",
    "    col_item_id = np.array(items_weights['item_id'])\n",
    "    col_weight = np.array(items_weights['weight'])\n",
    "    recs = np.random.choice(col_item_id, size=n, p=col_weight, replace=False)\n",
    "    \n",
    "    return recs.tolist()"
   ]
  },
  {
   "cell_type": "code",
   "execution_count": 18,
   "metadata": {},
   "outputs": [
    {
     "output_type": "execute_result",
     "data": {
      "text/plain": [
       "   user_id                                             actual  \\\n",
       "0        1  [821867, 834484, 856942, 865456, 889248, 90795...   \n",
       "1        3  [835476, 851057, 872021, 878302, 879948, 90963...   \n",
       "\n",
       "                           random_recommendation  \\\n",
       "0    [12777787, 9676955, 96130, 938892, 1160461]   \n",
       "1  [945324, 8154496, 15454651, 9446124, 7167719]   \n",
       "\n",
       "                          popular_recommendation  \\\n",
       "0  [6534178, 6533889, 1029743, 6534166, 1082185]   \n",
       "1  [6534178, 6533889, 1029743, 6534166, 1082185]   \n",
       "\n",
       "                   weighted_random_recommendation  \n",
       "0      [860776, 1013677, 962568, 893651, 1106409]  \n",
       "1  [12384323, 13653499, 962229, 1048507, 8119134]  "
      ],
      "text/html": "<div>\n<style scoped>\n    .dataframe tbody tr th:only-of-type {\n        vertical-align: middle;\n    }\n\n    .dataframe tbody tr th {\n        vertical-align: top;\n    }\n\n    .dataframe thead th {\n        text-align: right;\n    }\n</style>\n<table border=\"1\" class=\"dataframe\">\n  <thead>\n    <tr style=\"text-align: right;\">\n      <th></th>\n      <th>user_id</th>\n      <th>actual</th>\n      <th>random_recommendation</th>\n      <th>popular_recommendation</th>\n      <th>weighted_random_recommendation</th>\n    </tr>\n  </thead>\n  <tbody>\n    <tr>\n      <th>0</th>\n      <td>1</td>\n      <td>[821867, 834484, 856942, 865456, 889248, 90795...</td>\n      <td>[12777787, 9676955, 96130, 938892, 1160461]</td>\n      <td>[6534178, 6533889, 1029743, 6534166, 1082185]</td>\n      <td>[860776, 1013677, 962568, 893651, 1106409]</td>\n    </tr>\n    <tr>\n      <th>1</th>\n      <td>3</td>\n      <td>[835476, 851057, 872021, 878302, 879948, 90963...</td>\n      <td>[945324, 8154496, 15454651, 9446124, 7167719]</td>\n      <td>[6534178, 6533889, 1029743, 6534166, 1082185]</td>\n      <td>[12384323, 13653499, 962229, 1048507, 8119134]</td>\n    </tr>\n  </tbody>\n</table>\n</div>"
     },
     "metadata": {},
     "execution_count": 18
    }
   ],
   "source": [
    "items_weights = data_train.groupby('item_id').agg(sales_sum=('sales_value', 'sum')).reset_index()\n",
    "items_weights['weight'] = items_weights[['sales_sum']].apply(lambda x: x / np.sum(x))\n",
    "\n",
    "result['weighted_random_recommendation'] = result['user_id'].apply(lambda x: weighted_random_recommendation(items_weights, n=5))\n",
    "result.head(2)"
   ]
  },
  {
   "cell_type": "markdown",
   "metadata": {},
   "source": [
    "# 2. Детерминированные алгоритмы"
   ]
  },
  {
   "cell_type": "markdown",
   "metadata": {},
   "source": [
    "## 2.1 Item-Item Recommender / ItemKNN"
   ]
  },
  {
   "cell_type": "markdown",
   "metadata": {},
   "source": [
    "----\n",
    "**(!) Важно** \n",
    "- У item-item алгоритмов большая сложность ($O(I^2 log(I))$ или $O(I^3)$, в зависимости от реализации \n",
    "- Если в датасете много item_id, то item-item модели ОЧЕНЬ долго предсказывают. Со всеми товарами predict на тесте ~2 часа\n",
    "- Давайте возьмем из ~90к товаров только 5k самых популярных \n",
    "\n",
    "*P.S.*  Брать топ-Х популярных и рекомендовать только из них - очень популярная стратегия.   \n",
    "*P.P.S.*  В рекомендательных системах много таких трюков. Что-то подобное в курсе вы увидите еще не раз"
   ]
  },
  {
   "cell_type": "code",
   "execution_count": 19,
   "metadata": {},
   "outputs": [
    {
     "output_type": "execute_result",
     "data": {
      "text/plain": [
       "   item_id  n_sold\n",
       "0    25671       6\n",
       "1    26081       1\n",
       "2    26093       1\n",
       "3    26190       1\n",
       "4    26355       2"
      ],
      "text/html": "<div>\n<style scoped>\n    .dataframe tbody tr th:only-of-type {\n        vertical-align: middle;\n    }\n\n    .dataframe tbody tr th {\n        vertical-align: top;\n    }\n\n    .dataframe thead th {\n        text-align: right;\n    }\n</style>\n<table border=\"1\" class=\"dataframe\">\n  <thead>\n    <tr style=\"text-align: right;\">\n      <th></th>\n      <th>item_id</th>\n      <th>n_sold</th>\n    </tr>\n  </thead>\n  <tbody>\n    <tr>\n      <th>0</th>\n      <td>25671</td>\n      <td>6</td>\n    </tr>\n    <tr>\n      <th>1</th>\n      <td>26081</td>\n      <td>1</td>\n    </tr>\n    <tr>\n      <th>2</th>\n      <td>26093</td>\n      <td>1</td>\n    </tr>\n    <tr>\n      <th>3</th>\n      <td>26190</td>\n      <td>1</td>\n    </tr>\n    <tr>\n      <th>4</th>\n      <td>26355</td>\n      <td>2</td>\n    </tr>\n  </tbody>\n</table>\n</div>"
     },
     "metadata": {},
     "execution_count": 19
    }
   ],
   "source": [
    "popularity = data_train.groupby('item_id')['quantity'].sum().reset_index()\n",
    "popularity.rename(columns={'quantity': 'n_sold'}, inplace=True)\n",
    "\n",
    "popularity.head()"
   ]
  },
  {
   "cell_type": "code",
   "execution_count": 20,
   "metadata": {},
   "outputs": [],
   "source": [
    "top_5000 = popularity.sort_values('n_sold', ascending=False).head(5000).item_id.tolist()"
   ]
  },
  {
   "cell_type": "code",
   "execution_count": 21,
   "metadata": {
    "scrolled": true
   },
   "outputs": [
    {
     "output_type": "execute_result",
     "data": {
      "text/plain": [
       "    user_id    basket_id  day  item_id  quantity  sales_value  store_id  \\\n",
       "0      2375  26984851472    1  1004906         1         1.39       364   \n",
       "1      2375  26984851472    1  1033142         1         0.82       364   \n",
       "2      2375  26984851472    1  1036325         1         0.99       364   \n",
       "3      2375  26984851472    1  1082185         1         1.21       364   \n",
       "4      2375  26984851472    1  8160430         1         1.50       364   \n",
       "..      ...          ...  ...      ...       ...          ...       ...   \n",
       "95     1060  26985040735    1  9553288         1         8.49       315   \n",
       "96     1351  26985052379    1   903230         1         0.99       447   \n",
       "97      744  26985165432    1  5978648         0         0.00     31582   \n",
       "98      212  26985205886    1   822346         1         1.25       288   \n",
       "99      212  26985205886    1   830887         1         2.29       288   \n",
       "\n",
       "    retail_disc  trans_time  week_no  coupon_disc  coupon_match_disc  \n",
       "0         -0.60        1631        1          0.0                0.0  \n",
       "1          0.00        1631        1          0.0                0.0  \n",
       "2         -0.30        1631        1          0.0                0.0  \n",
       "3          0.00        1631        1          0.0                0.0  \n",
       "4         -0.39        1631        1          0.0                0.0  \n",
       "..          ...         ...      ...          ...                ...  \n",
       "95         0.00        1251        1          0.0                0.0  \n",
       "96        -0.30        1955        1          0.0                0.0  \n",
       "97         0.00        1119        1          0.0                0.0  \n",
       "98        -0.34        1341        1          0.0                0.0  \n",
       "99        -0.70        1341        1          0.0                0.0  \n",
       "\n",
       "[100 rows x 12 columns]"
      ],
      "text/html": "<div>\n<style scoped>\n    .dataframe tbody tr th:only-of-type {\n        vertical-align: middle;\n    }\n\n    .dataframe tbody tr th {\n        vertical-align: top;\n    }\n\n    .dataframe thead th {\n        text-align: right;\n    }\n</style>\n<table border=\"1\" class=\"dataframe\">\n  <thead>\n    <tr style=\"text-align: right;\">\n      <th></th>\n      <th>user_id</th>\n      <th>basket_id</th>\n      <th>day</th>\n      <th>item_id</th>\n      <th>quantity</th>\n      <th>sales_value</th>\n      <th>store_id</th>\n      <th>retail_disc</th>\n      <th>trans_time</th>\n      <th>week_no</th>\n      <th>coupon_disc</th>\n      <th>coupon_match_disc</th>\n    </tr>\n  </thead>\n  <tbody>\n    <tr>\n      <th>0</th>\n      <td>2375</td>\n      <td>26984851472</td>\n      <td>1</td>\n      <td>1004906</td>\n      <td>1</td>\n      <td>1.39</td>\n      <td>364</td>\n      <td>-0.60</td>\n      <td>1631</td>\n      <td>1</td>\n      <td>0.0</td>\n      <td>0.0</td>\n    </tr>\n    <tr>\n      <th>1</th>\n      <td>2375</td>\n      <td>26984851472</td>\n      <td>1</td>\n      <td>1033142</td>\n      <td>1</td>\n      <td>0.82</td>\n      <td>364</td>\n      <td>0.00</td>\n      <td>1631</td>\n      <td>1</td>\n      <td>0.0</td>\n      <td>0.0</td>\n    </tr>\n    <tr>\n      <th>2</th>\n      <td>2375</td>\n      <td>26984851472</td>\n      <td>1</td>\n      <td>1036325</td>\n      <td>1</td>\n      <td>0.99</td>\n      <td>364</td>\n      <td>-0.30</td>\n      <td>1631</td>\n      <td>1</td>\n      <td>0.0</td>\n      <td>0.0</td>\n    </tr>\n    <tr>\n      <th>3</th>\n      <td>2375</td>\n      <td>26984851472</td>\n      <td>1</td>\n      <td>1082185</td>\n      <td>1</td>\n      <td>1.21</td>\n      <td>364</td>\n      <td>0.00</td>\n      <td>1631</td>\n      <td>1</td>\n      <td>0.0</td>\n      <td>0.0</td>\n    </tr>\n    <tr>\n      <th>4</th>\n      <td>2375</td>\n      <td>26984851472</td>\n      <td>1</td>\n      <td>8160430</td>\n      <td>1</td>\n      <td>1.50</td>\n      <td>364</td>\n      <td>-0.39</td>\n      <td>1631</td>\n      <td>1</td>\n      <td>0.0</td>\n      <td>0.0</td>\n    </tr>\n    <tr>\n      <th>...</th>\n      <td>...</td>\n      <td>...</td>\n      <td>...</td>\n      <td>...</td>\n      <td>...</td>\n      <td>...</td>\n      <td>...</td>\n      <td>...</td>\n      <td>...</td>\n      <td>...</td>\n      <td>...</td>\n      <td>...</td>\n    </tr>\n    <tr>\n      <th>95</th>\n      <td>1060</td>\n      <td>26985040735</td>\n      <td>1</td>\n      <td>9553288</td>\n      <td>1</td>\n      <td>8.49</td>\n      <td>315</td>\n      <td>0.00</td>\n      <td>1251</td>\n      <td>1</td>\n      <td>0.0</td>\n      <td>0.0</td>\n    </tr>\n    <tr>\n      <th>96</th>\n      <td>1351</td>\n      <td>26985052379</td>\n      <td>1</td>\n      <td>903230</td>\n      <td>1</td>\n      <td>0.99</td>\n      <td>447</td>\n      <td>-0.30</td>\n      <td>1955</td>\n      <td>1</td>\n      <td>0.0</td>\n      <td>0.0</td>\n    </tr>\n    <tr>\n      <th>97</th>\n      <td>744</td>\n      <td>26985165432</td>\n      <td>1</td>\n      <td>5978648</td>\n      <td>0</td>\n      <td>0.00</td>\n      <td>31582</td>\n      <td>0.00</td>\n      <td>1119</td>\n      <td>1</td>\n      <td>0.0</td>\n      <td>0.0</td>\n    </tr>\n    <tr>\n      <th>98</th>\n      <td>212</td>\n      <td>26985205886</td>\n      <td>1</td>\n      <td>822346</td>\n      <td>1</td>\n      <td>1.25</td>\n      <td>288</td>\n      <td>-0.34</td>\n      <td>1341</td>\n      <td>1</td>\n      <td>0.0</td>\n      <td>0.0</td>\n    </tr>\n    <tr>\n      <th>99</th>\n      <td>212</td>\n      <td>26985205886</td>\n      <td>1</td>\n      <td>830887</td>\n      <td>1</td>\n      <td>2.29</td>\n      <td>288</td>\n      <td>-0.70</td>\n      <td>1341</td>\n      <td>1</td>\n      <td>0.0</td>\n      <td>0.0</td>\n    </tr>\n  </tbody>\n</table>\n<p>100 rows × 12 columns</p>\n</div>"
     },
     "metadata": {},
     "execution_count": 21
    }
   ],
   "source": [
    "data_train.head(100)"
   ]
  },
  {
   "cell_type": "code",
   "execution_count": 22,
   "metadata": {
    "scrolled": true
   },
   "outputs": [
    {
     "output_type": "stream",
     "name": "stderr",
     "text": [
      "C:\\Users\\konst\\AppData\\Local\\Programs\\Python\\Python37\\lib\\site-packages\\pandas\\core\\indexing.py:1719: SettingWithCopyWarning: \nA value is trying to be set on a copy of a slice from a DataFrame.\nTry using .loc[row_indexer,col_indexer] = value instead\n\nSee the caveats in the documentation: https://pandas.pydata.org/pandas-docs/stable/user_guide/indexing.html#returning-a-view-versus-a-copy\n  self._setitem_single_column(loc, value, pi)\n"
     ]
    },
    {
     "output_type": "execute_result",
     "data": {
      "text/plain": [
       "    user_id    basket_id  day  item_id  quantity  sales_value  store_id  \\\n",
       "0      2375  26984851472    1  1004906         1         1.39       364   \n",
       "1      2375  26984851472    1  1033142         1         0.82       364   \n",
       "2      2375  26984851472    1  1036325         1         0.99       364   \n",
       "3      2375  26984851472    1  1082185         1         1.21       364   \n",
       "4      2375  26984851472    1  8160430         1         1.50       364   \n",
       "..      ...          ...  ...      ...       ...          ...       ...   \n",
       "95     1060  26985040735    1  9553288         1         8.49       315   \n",
       "96     1351  26985052379    1   903230         1         0.99       447   \n",
       "97      744  26985165432    1     6666         0         0.00     31582   \n",
       "98      212  26985205886    1   822346         1         1.25       288   \n",
       "99      212  26985205886    1   830887         1         2.29       288   \n",
       "\n",
       "    retail_disc  trans_time  week_no  coupon_disc  coupon_match_disc  \n",
       "0         -0.60        1631        1          0.0                0.0  \n",
       "1          0.00        1631        1          0.0                0.0  \n",
       "2         -0.30        1631        1          0.0                0.0  \n",
       "3          0.00        1631        1          0.0                0.0  \n",
       "4         -0.39        1631        1          0.0                0.0  \n",
       "..          ...         ...      ...          ...                ...  \n",
       "95         0.00        1251        1          0.0                0.0  \n",
       "96        -0.30        1955        1          0.0                0.0  \n",
       "97         0.00        1119        1          0.0                0.0  \n",
       "98        -0.34        1341        1          0.0                0.0  \n",
       "99        -0.70        1341        1          0.0                0.0  \n",
       "\n",
       "[100 rows x 12 columns]"
      ],
      "text/html": "<div>\n<style scoped>\n    .dataframe tbody tr th:only-of-type {\n        vertical-align: middle;\n    }\n\n    .dataframe tbody tr th {\n        vertical-align: top;\n    }\n\n    .dataframe thead th {\n        text-align: right;\n    }\n</style>\n<table border=\"1\" class=\"dataframe\">\n  <thead>\n    <tr style=\"text-align: right;\">\n      <th></th>\n      <th>user_id</th>\n      <th>basket_id</th>\n      <th>day</th>\n      <th>item_id</th>\n      <th>quantity</th>\n      <th>sales_value</th>\n      <th>store_id</th>\n      <th>retail_disc</th>\n      <th>trans_time</th>\n      <th>week_no</th>\n      <th>coupon_disc</th>\n      <th>coupon_match_disc</th>\n    </tr>\n  </thead>\n  <tbody>\n    <tr>\n      <th>0</th>\n      <td>2375</td>\n      <td>26984851472</td>\n      <td>1</td>\n      <td>1004906</td>\n      <td>1</td>\n      <td>1.39</td>\n      <td>364</td>\n      <td>-0.60</td>\n      <td>1631</td>\n      <td>1</td>\n      <td>0.0</td>\n      <td>0.0</td>\n    </tr>\n    <tr>\n      <th>1</th>\n      <td>2375</td>\n      <td>26984851472</td>\n      <td>1</td>\n      <td>1033142</td>\n      <td>1</td>\n      <td>0.82</td>\n      <td>364</td>\n      <td>0.00</td>\n      <td>1631</td>\n      <td>1</td>\n      <td>0.0</td>\n      <td>0.0</td>\n    </tr>\n    <tr>\n      <th>2</th>\n      <td>2375</td>\n      <td>26984851472</td>\n      <td>1</td>\n      <td>1036325</td>\n      <td>1</td>\n      <td>0.99</td>\n      <td>364</td>\n      <td>-0.30</td>\n      <td>1631</td>\n      <td>1</td>\n      <td>0.0</td>\n      <td>0.0</td>\n    </tr>\n    <tr>\n      <th>3</th>\n      <td>2375</td>\n      <td>26984851472</td>\n      <td>1</td>\n      <td>1082185</td>\n      <td>1</td>\n      <td>1.21</td>\n      <td>364</td>\n      <td>0.00</td>\n      <td>1631</td>\n      <td>1</td>\n      <td>0.0</td>\n      <td>0.0</td>\n    </tr>\n    <tr>\n      <th>4</th>\n      <td>2375</td>\n      <td>26984851472</td>\n      <td>1</td>\n      <td>8160430</td>\n      <td>1</td>\n      <td>1.50</td>\n      <td>364</td>\n      <td>-0.39</td>\n      <td>1631</td>\n      <td>1</td>\n      <td>0.0</td>\n      <td>0.0</td>\n    </tr>\n    <tr>\n      <th>...</th>\n      <td>...</td>\n      <td>...</td>\n      <td>...</td>\n      <td>...</td>\n      <td>...</td>\n      <td>...</td>\n      <td>...</td>\n      <td>...</td>\n      <td>...</td>\n      <td>...</td>\n      <td>...</td>\n      <td>...</td>\n    </tr>\n    <tr>\n      <th>95</th>\n      <td>1060</td>\n      <td>26985040735</td>\n      <td>1</td>\n      <td>9553288</td>\n      <td>1</td>\n      <td>8.49</td>\n      <td>315</td>\n      <td>0.00</td>\n      <td>1251</td>\n      <td>1</td>\n      <td>0.0</td>\n      <td>0.0</td>\n    </tr>\n    <tr>\n      <th>96</th>\n      <td>1351</td>\n      <td>26985052379</td>\n      <td>1</td>\n      <td>903230</td>\n      <td>1</td>\n      <td>0.99</td>\n      <td>447</td>\n      <td>-0.30</td>\n      <td>1955</td>\n      <td>1</td>\n      <td>0.0</td>\n      <td>0.0</td>\n    </tr>\n    <tr>\n      <th>97</th>\n      <td>744</td>\n      <td>26985165432</td>\n      <td>1</td>\n      <td>6666</td>\n      <td>0</td>\n      <td>0.00</td>\n      <td>31582</td>\n      <td>0.00</td>\n      <td>1119</td>\n      <td>1</td>\n      <td>0.0</td>\n      <td>0.0</td>\n    </tr>\n    <tr>\n      <th>98</th>\n      <td>212</td>\n      <td>26985205886</td>\n      <td>1</td>\n      <td>822346</td>\n      <td>1</td>\n      <td>1.25</td>\n      <td>288</td>\n      <td>-0.34</td>\n      <td>1341</td>\n      <td>1</td>\n      <td>0.0</td>\n      <td>0.0</td>\n    </tr>\n    <tr>\n      <th>99</th>\n      <td>212</td>\n      <td>26985205886</td>\n      <td>1</td>\n      <td>830887</td>\n      <td>1</td>\n      <td>2.29</td>\n      <td>288</td>\n      <td>-0.70</td>\n      <td>1341</td>\n      <td>1</td>\n      <td>0.0</td>\n      <td>0.0</td>\n    </tr>\n  </tbody>\n</table>\n<p>100 rows × 12 columns</p>\n</div>"
     },
     "metadata": {},
     "execution_count": 22
    }
   ],
   "source": [
    "# Заведем фиктивный item_id (если юзер покупал товары из топ-5000, то он \"купил\" такой товар)\n",
    "data_train.loc[~data_train['item_id'].isin(top_5000), 'item_id'] = 6666\n",
    "data_train.head(100)"
   ]
  },
  {
   "cell_type": "code",
   "execution_count": 23,
   "metadata": {},
   "outputs": [],
   "source": [
    "user_item_matrix = pd.pivot_table(\n",
    "    data_train,\n",
    "    index='user_id',\n",
    "    columns='item_id',\n",
    "    values='quantity',\n",
    "    aggfunc='count',\n",
    "    fill_value=0\n",
    ")\n",
    "\n",
    "user_item_matrix[user_item_matrix > 0] = 1 # так как в итоге хотим предсказать \n",
    "user_item_matrix = user_item_matrix.astype(float) # необходимый тип матрицы для implicit\n",
    "\n",
    "# переведем в формат sparse matrix\n",
    "sparse_user_item = csr_matrix(user_item_matrix)"
   ]
  },
  {
   "cell_type": "code",
   "execution_count": 24,
   "metadata": {},
   "outputs": [
    {
     "output_type": "execute_result",
     "data": {
      "text/plain": [
       "(2499, 5001)"
      ]
     },
     "metadata": {},
     "execution_count": 24
    }
   ],
   "source": [
    "user_item_matrix.shape"
   ]
  },
  {
   "cell_type": "code",
   "execution_count": 25,
   "metadata": {},
   "outputs": [
    {
     "output_type": "execute_result",
     "data": {
      "text/plain": [
       "5.33770796861036"
      ]
     },
     "metadata": {},
     "execution_count": 25
    }
   ],
   "source": [
    "user_item_matrix.sum().sum() / (user_item_matrix.shape[0] * user_item_matrix.shape[1]) * 100"
   ]
  },
  {
   "cell_type": "code",
   "execution_count": 26,
   "metadata": {},
   "outputs": [],
   "source": [
    "userids = user_item_matrix.index.values\n",
    "itemids = user_item_matrix.columns.values\n",
    "\n",
    "matrix_userids = np.arange(len(userids))\n",
    "matrix_itemids = np.arange(len(itemids))\n",
    "\n",
    "id_to_itemid = dict(zip(matrix_itemids, itemids))\n",
    "id_to_userid = dict(zip(matrix_userids, userids))\n",
    "\n",
    "itemid_to_id = dict(zip(itemids, matrix_itemids))\n",
    "userid_to_id = dict(zip(userids, matrix_userids))"
   ]
  },
  {
   "cell_type": "code",
   "execution_count": 27,
   "metadata": {},
   "outputs": [
    {
     "output_type": "stream",
     "name": "stderr",
     "text": [
      "100%|██████████| 5001/5001 [00:00<00:00, 8150.74it/s]\n",
      "Wall time: 1.36 s\n"
     ]
    }
   ],
   "source": [
    "%%time\n",
    "\n",
    "model = ItemItemRecommender(K=5, num_threads=4) # K - кол-во билжайших соседей\n",
    "model.fit(csr_matrix(user_item_matrix).T,  # На вход item-user matrix\n",
    "          show_progress=True)\n",
    "\n",
    "recs = model.recommend(userid=userid_to_id[2],  # userid - id от 0 до N\n",
    "                        user_items=csr_matrix(user_item_matrix),   # на вход user-item matrix\n",
    "                        N=5, # кол-во рекомендаций \n",
    "                        filter_already_liked_items=False, \n",
    "                        filter_items=None, \n",
    "                        recalculate_user=True)"
   ]
  },
  {
   "cell_type": "code",
   "execution_count": 28,
   "metadata": {},
   "outputs": [
    {
     "output_type": "execute_result",
     "data": {
      "text/plain": [
       "[(0, 78679.0),\n",
       " (3408, 72173.0),\n",
       " (2149, 57995.0),\n",
       " (3947, 17272.0),\n",
       " (3587, 14417.0)]"
      ]
     },
     "metadata": {},
     "execution_count": 28
    }
   ],
   "source": [
    "recs"
   ]
  },
  {
   "cell_type": "code",
   "execution_count": 29,
   "metadata": {},
   "outputs": [
    {
     "output_type": "execute_result",
     "data": {
      "text/plain": [
       "[6666, 1082185, 981760, 1127831, 1098066]"
      ]
     },
     "metadata": {},
     "execution_count": 29
    }
   ],
   "source": [
    "[id_to_itemid[rec[0]] for rec in recs]"
   ]
  },
  {
   "cell_type": "code",
   "execution_count": 30,
   "metadata": {},
   "outputs": [
    {
     "output_type": "stream",
     "name": "stdout",
     "text": [
      "Wall time: 107 ms\n"
     ]
    }
   ],
   "source": [
    "%%time\n",
    "\n",
    "result['itemitem'] = result['user_id'].apply(lambda x: [id_to_itemid[rec[0]] for rec in \n",
    "                                    model.recommend(userid=userid_to_id[x], \n",
    "                                    user_items=sparse_user_item,   # на вход user-item matrix\n",
    "                                    N=5, \n",
    "                                    filter_already_liked_items=False, \n",
    "                                    filter_items=None, \n",
    "                                    recalculate_user=True)])"
   ]
  },
  {
   "cell_type": "code",
   "execution_count": 31,
   "metadata": {},
   "outputs": [
    {
     "output_type": "execute_result",
     "data": {
      "text/plain": [
       "   user_id                                             actual  \\\n",
       "0        1  [821867, 834484, 856942, 865456, 889248, 90795...   \n",
       "1        3  [835476, 851057, 872021, 878302, 879948, 90963...   \n",
       "2        6  [920308, 926804, 946489, 1006718, 1017061, 107...   \n",
       "3        7  [840386, 889774, 898068, 909714, 929067, 95347...   \n",
       "4        8  [835098, 872137, 910439, 924610, 992977, 10412...   \n",
       "\n",
       "                            random_recommendation  \\\n",
       "0     [12777787, 9676955, 96130, 938892, 1160461]   \n",
       "1   [945324, 8154496, 15454651, 9446124, 7167719]   \n",
       "2   [6602306, 12171630, 1670419, 1086864, 649938]   \n",
       "3  [6039643, 13512099, 494842, 1644730, 15927327]   \n",
       "4  [1087785, 15716368, 8069139, 973829, 10254149]   \n",
       "\n",
       "                          popular_recommendation  \\\n",
       "0  [6534178, 6533889, 1029743, 6534166, 1082185]   \n",
       "1  [6534178, 6533889, 1029743, 6534166, 1082185]   \n",
       "2  [6534178, 6533889, 1029743, 6534166, 1082185]   \n",
       "3  [6534178, 6533889, 1029743, 6534166, 1082185]   \n",
       "4  [6534178, 6533889, 1029743, 6534166, 1082185]   \n",
       "\n",
       "                   weighted_random_recommendation  \\\n",
       "0      [860776, 1013677, 962568, 893651, 1106409]   \n",
       "1  [12384323, 13653499, 962229, 1048507, 8119134]   \n",
       "2      [1102139, 969147, 991864, 892531, 1119946]   \n",
       "3      [5568228, 852856, 976065, 5569230, 916381]   \n",
       "4      [968693, 1121384, 845208, 866548, 1029743]   \n",
       "\n",
       "                                    itemitem  \n",
       "0   [6666, 1082185, 981760, 1127831, 995242]  \n",
       "1   [6666, 1082185, 981760, 1098066, 995242]  \n",
       "2   [6666, 1082185, 981760, 1127831, 995242]  \n",
       "3   [6666, 1082185, 981760, 1127831, 995242]  \n",
       "4  [6666, 1082185, 981760, 1127831, 1098066]  "
      ],
      "text/html": "<div>\n<style scoped>\n    .dataframe tbody tr th:only-of-type {\n        vertical-align: middle;\n    }\n\n    .dataframe tbody tr th {\n        vertical-align: top;\n    }\n\n    .dataframe thead th {\n        text-align: right;\n    }\n</style>\n<table border=\"1\" class=\"dataframe\">\n  <thead>\n    <tr style=\"text-align: right;\">\n      <th></th>\n      <th>user_id</th>\n      <th>actual</th>\n      <th>random_recommendation</th>\n      <th>popular_recommendation</th>\n      <th>weighted_random_recommendation</th>\n      <th>itemitem</th>\n    </tr>\n  </thead>\n  <tbody>\n    <tr>\n      <th>0</th>\n      <td>1</td>\n      <td>[821867, 834484, 856942, 865456, 889248, 90795...</td>\n      <td>[12777787, 9676955, 96130, 938892, 1160461]</td>\n      <td>[6534178, 6533889, 1029743, 6534166, 1082185]</td>\n      <td>[860776, 1013677, 962568, 893651, 1106409]</td>\n      <td>[6666, 1082185, 981760, 1127831, 995242]</td>\n    </tr>\n    <tr>\n      <th>1</th>\n      <td>3</td>\n      <td>[835476, 851057, 872021, 878302, 879948, 90963...</td>\n      <td>[945324, 8154496, 15454651, 9446124, 7167719]</td>\n      <td>[6534178, 6533889, 1029743, 6534166, 1082185]</td>\n      <td>[12384323, 13653499, 962229, 1048507, 8119134]</td>\n      <td>[6666, 1082185, 981760, 1098066, 995242]</td>\n    </tr>\n    <tr>\n      <th>2</th>\n      <td>6</td>\n      <td>[920308, 926804, 946489, 1006718, 1017061, 107...</td>\n      <td>[6602306, 12171630, 1670419, 1086864, 649938]</td>\n      <td>[6534178, 6533889, 1029743, 6534166, 1082185]</td>\n      <td>[1102139, 969147, 991864, 892531, 1119946]</td>\n      <td>[6666, 1082185, 981760, 1127831, 995242]</td>\n    </tr>\n    <tr>\n      <th>3</th>\n      <td>7</td>\n      <td>[840386, 889774, 898068, 909714, 929067, 95347...</td>\n      <td>[6039643, 13512099, 494842, 1644730, 15927327]</td>\n      <td>[6534178, 6533889, 1029743, 6534166, 1082185]</td>\n      <td>[5568228, 852856, 976065, 5569230, 916381]</td>\n      <td>[6666, 1082185, 981760, 1127831, 995242]</td>\n    </tr>\n    <tr>\n      <th>4</th>\n      <td>8</td>\n      <td>[835098, 872137, 910439, 924610, 992977, 10412...</td>\n      <td>[1087785, 15716368, 8069139, 973829, 10254149]</td>\n      <td>[6534178, 6533889, 1029743, 6534166, 1082185]</td>\n      <td>[968693, 1121384, 845208, 866548, 1029743]</td>\n      <td>[6666, 1082185, 981760, 1127831, 1098066]</td>\n    </tr>\n  </tbody>\n</table>\n</div>"
     },
     "metadata": {},
     "execution_count": 31
    }
   ],
   "source": [
    "result.head(5)"
   ]
  },
  {
   "cell_type": "markdown",
   "metadata": {},
   "source": [
    "### 4.2 Косинусное сходство и CosineRecommender"
   ]
  },
  {
   "cell_type": "code",
   "execution_count": 32,
   "metadata": {},
   "outputs": [
    {
     "output_type": "stream",
     "name": "stderr",
     "text": [
      "100%|██████████| 5001/5001 [00:00<00:00, 8614.01it/s]\n",
      "Wall time: 1.35 s\n"
     ]
    }
   ],
   "source": [
    "%%time\n",
    "\n",
    "model = CosineRecommender(K=5, num_threads=4) # K - кол-во билжайших соседей\n",
    "\n",
    "model.fit(csr_matrix(user_item_matrix).T, \n",
    "          show_progress=True)\n",
    "\n",
    "recs = model.recommend(userid=userid_to_id[1], \n",
    "                        user_items=csr_matrix(user_item_matrix),   # на вход user-item matrix\n",
    "                        N=5, \n",
    "                        filter_already_liked_items=False, \n",
    "                        filter_items=None, \n",
    "                        recalculate_user=False)"
   ]
  },
  {
   "cell_type": "code",
   "execution_count": 33,
   "metadata": {},
   "outputs": [
    {
     "output_type": "execute_result",
     "data": {
      "text/plain": [
       "[1082185, 6666, 981760, 1127831, 1098066]"
      ]
     },
     "metadata": {},
     "execution_count": 33
    }
   ],
   "source": [
    "[id_to_itemid[rec[0]] for rec in recs]"
   ]
  },
  {
   "cell_type": "code",
   "execution_count": 34,
   "metadata": {},
   "outputs": [
    {
     "output_type": "stream",
     "name": "stdout",
     "text": [
      "Wall time: 126 ms\n"
     ]
    }
   ],
   "source": [
    "%%time\n",
    "\n",
    "result['cosine'] = result['user_id'].\\\n",
    "    apply(lambda x: [id_to_itemid[rec[0]] for rec in \n",
    "                    model.recommend(userid=userid_to_id[x], \n",
    "                                    user_items=sparse_user_item,   # на вход user-item matrix\n",
    "                                    N=5, \n",
    "                                    filter_already_liked_items=False, \n",
    "                                    filter_items=None, \n",
    "                                    recalculate_user=True)])"
   ]
  },
  {
   "cell_type": "code",
   "execution_count": 35,
   "metadata": {},
   "outputs": [
    {
     "output_type": "execute_result",
     "data": {
      "text/plain": [
       "   user_id                                             actual  \\\n",
       "0        1  [821867, 834484, 856942, 865456, 889248, 90795...   \n",
       "1        3  [835476, 851057, 872021, 878302, 879948, 90963...   \n",
       "\n",
       "                           random_recommendation  \\\n",
       "0    [12777787, 9676955, 96130, 938892, 1160461]   \n",
       "1  [945324, 8154496, 15454651, 9446124, 7167719]   \n",
       "\n",
       "                          popular_recommendation  \\\n",
       "0  [6534178, 6533889, 1029743, 6534166, 1082185]   \n",
       "1  [6534178, 6533889, 1029743, 6534166, 1082185]   \n",
       "\n",
       "                   weighted_random_recommendation  \\\n",
       "0      [860776, 1013677, 962568, 893651, 1106409]   \n",
       "1  [12384323, 13653499, 962229, 1048507, 8119134]   \n",
       "\n",
       "                                   itemitem  \\\n",
       "0  [6666, 1082185, 981760, 1127831, 995242]   \n",
       "1  [6666, 1082185, 981760, 1098066, 995242]   \n",
       "\n",
       "                                      cosine  \n",
       "0  [1082185, 6666, 981760, 1127831, 1098066]  \n",
       "1   [1082185, 1098066, 981760, 6666, 826249]  "
      ],
      "text/html": "<div>\n<style scoped>\n    .dataframe tbody tr th:only-of-type {\n        vertical-align: middle;\n    }\n\n    .dataframe tbody tr th {\n        vertical-align: top;\n    }\n\n    .dataframe thead th {\n        text-align: right;\n    }\n</style>\n<table border=\"1\" class=\"dataframe\">\n  <thead>\n    <tr style=\"text-align: right;\">\n      <th></th>\n      <th>user_id</th>\n      <th>actual</th>\n      <th>random_recommendation</th>\n      <th>popular_recommendation</th>\n      <th>weighted_random_recommendation</th>\n      <th>itemitem</th>\n      <th>cosine</th>\n    </tr>\n  </thead>\n  <tbody>\n    <tr>\n      <th>0</th>\n      <td>1</td>\n      <td>[821867, 834484, 856942, 865456, 889248, 90795...</td>\n      <td>[12777787, 9676955, 96130, 938892, 1160461]</td>\n      <td>[6534178, 6533889, 1029743, 6534166, 1082185]</td>\n      <td>[860776, 1013677, 962568, 893651, 1106409]</td>\n      <td>[6666, 1082185, 981760, 1127831, 995242]</td>\n      <td>[1082185, 6666, 981760, 1127831, 1098066]</td>\n    </tr>\n    <tr>\n      <th>1</th>\n      <td>3</td>\n      <td>[835476, 851057, 872021, 878302, 879948, 90963...</td>\n      <td>[945324, 8154496, 15454651, 9446124, 7167719]</td>\n      <td>[6534178, 6533889, 1029743, 6534166, 1082185]</td>\n      <td>[12384323, 13653499, 962229, 1048507, 8119134]</td>\n      <td>[6666, 1082185, 981760, 1098066, 995242]</td>\n      <td>[1082185, 1098066, 981760, 6666, 826249]</td>\n    </tr>\n  </tbody>\n</table>\n</div>"
     },
     "metadata": {},
     "execution_count": 35
    }
   ],
   "source": [
    "result.head(2)"
   ]
  },
  {
   "cell_type": "markdown",
   "metadata": {},
   "source": [
    "### 4.3 TF-IDF взвешивание и TFIDFRecommender"
   ]
  },
  {
   "cell_type": "markdown",
   "metadata": {},
   "source": [
    "Если 2 юзера оба купили очень популярный товар, то это еще не значит,что они похожи   \n",
    "Если 2 юзера оба купили редкий товар, то они похожи\n",
    "\n",
    "Занижаем вес популярных товаров при расчете расстояний между пользователями"
   ]
  },
  {
   "cell_type": "code",
   "execution_count": 36,
   "metadata": {},
   "outputs": [
    {
     "output_type": "stream",
     "name": "stderr",
     "text": [
      "100%|██████████| 5001/5001 [00:00<00:00, 7893.36it/s]\n",
      "Wall time: 1.47 s\n"
     ]
    }
   ],
   "source": [
    "%%time\n",
    "\n",
    "model = TFIDFRecommender(K=5, num_threads=4) # K - кол-во билжайших соседей\n",
    "\n",
    "model.fit(csr_matrix(user_item_matrix).T, \n",
    "          show_progress=True)\n",
    "\n",
    "recs = model.recommend(userid=userid_to_id[1], \n",
    "                        user_items=csr_matrix(user_item_matrix),   # на вход user-item matrix\n",
    "                        N=5, \n",
    "                        filter_already_liked_items=False, \n",
    "                        filter_items=None, \n",
    "                        recalculate_user=False)"
   ]
  },
  {
   "cell_type": "code",
   "execution_count": 37,
   "metadata": {},
   "outputs": [
    {
     "output_type": "execute_result",
     "data": {
      "text/plain": [
       "[1082185, 981760, 1127831, 6666, 1098066]"
      ]
     },
     "metadata": {},
     "execution_count": 37
    }
   ],
   "source": [
    "[id_to_itemid[rec[0]] for rec in recs]"
   ]
  },
  {
   "cell_type": "code",
   "execution_count": 38,
   "metadata": {},
   "outputs": [
    {
     "output_type": "stream",
     "name": "stdout",
     "text": [
      "Wall time: 109 ms\n"
     ]
    }
   ],
   "source": [
    "%%time\n",
    "\n",
    "result['tfidf'] = result['user_id'].\\\n",
    "    apply(lambda x: [id_to_itemid[rec[0]] for rec in \n",
    "                    model.recommend(userid=userid_to_id[x], \n",
    "                                    user_items=sparse_user_item,   # на вход user-item matrix\n",
    "                                    N=5, \n",
    "                                    filter_already_liked_items=False, \n",
    "                                    filter_items=None, \n",
    "                                    recalculate_user=False)])"
   ]
  },
  {
   "cell_type": "code",
   "execution_count": 39,
   "metadata": {},
   "outputs": [
    {
     "output_type": "execute_result",
     "data": {
      "text/plain": [
       "   user_id                                             actual  \\\n",
       "0        1  [821867, 834484, 856942, 865456, 889248, 90795...   \n",
       "1        3  [835476, 851057, 872021, 878302, 879948, 90963...   \n",
       "2        6  [920308, 926804, 946489, 1006718, 1017061, 107...   \n",
       "3        7  [840386, 889774, 898068, 909714, 929067, 95347...   \n",
       "4        8  [835098, 872137, 910439, 924610, 992977, 10412...   \n",
       "\n",
       "                            random_recommendation  \\\n",
       "0     [12777787, 9676955, 96130, 938892, 1160461]   \n",
       "1   [945324, 8154496, 15454651, 9446124, 7167719]   \n",
       "2   [6602306, 12171630, 1670419, 1086864, 649938]   \n",
       "3  [6039643, 13512099, 494842, 1644730, 15927327]   \n",
       "4  [1087785, 15716368, 8069139, 973829, 10254149]   \n",
       "\n",
       "                          popular_recommendation  \\\n",
       "0  [6534178, 6533889, 1029743, 6534166, 1082185]   \n",
       "1  [6534178, 6533889, 1029743, 6534166, 1082185]   \n",
       "2  [6534178, 6533889, 1029743, 6534166, 1082185]   \n",
       "3  [6534178, 6533889, 1029743, 6534166, 1082185]   \n",
       "4  [6534178, 6533889, 1029743, 6534166, 1082185]   \n",
       "\n",
       "                   weighted_random_recommendation  \\\n",
       "0      [860776, 1013677, 962568, 893651, 1106409]   \n",
       "1  [12384323, 13653499, 962229, 1048507, 8119134]   \n",
       "2      [1102139, 969147, 991864, 892531, 1119946]   \n",
       "3      [5568228, 852856, 976065, 5569230, 916381]   \n",
       "4      [968693, 1121384, 845208, 866548, 1029743]   \n",
       "\n",
       "                                    itemitem  \\\n",
       "0   [6666, 1082185, 981760, 1127831, 995242]   \n",
       "1   [6666, 1082185, 981760, 1098066, 995242]   \n",
       "2   [6666, 1082185, 981760, 1127831, 995242]   \n",
       "3   [6666, 1082185, 981760, 1127831, 995242]   \n",
       "4  [6666, 1082185, 981760, 1127831, 1098066]   \n",
       "\n",
       "                                      cosine  \\\n",
       "0  [1082185, 6666, 981760, 1127831, 1098066]   \n",
       "1   [1082185, 1098066, 981760, 6666, 826249]   \n",
       "2  [1082185, 6666, 981760, 1127831, 1098066]   \n",
       "3   [1082185, 981760, 6666, 1127831, 961554]   \n",
       "4   [1082185, 981760, 6666, 1098066, 826249]   \n",
       "\n",
       "                                       tfidf  \n",
       "0  [1082185, 981760, 1127831, 6666, 1098066]  \n",
       "1   [1082185, 981760, 1098066, 826249, 6666]  \n",
       "2   [1082185, 981760, 1127831, 6666, 878996]  \n",
       "3   [1082185, 981760, 1127831, 6666, 961554]  \n",
       "4   [1082185, 981760, 6666, 1098066, 826249]  "
      ],
      "text/html": "<div>\n<style scoped>\n    .dataframe tbody tr th:only-of-type {\n        vertical-align: middle;\n    }\n\n    .dataframe tbody tr th {\n        vertical-align: top;\n    }\n\n    .dataframe thead th {\n        text-align: right;\n    }\n</style>\n<table border=\"1\" class=\"dataframe\">\n  <thead>\n    <tr style=\"text-align: right;\">\n      <th></th>\n      <th>user_id</th>\n      <th>actual</th>\n      <th>random_recommendation</th>\n      <th>popular_recommendation</th>\n      <th>weighted_random_recommendation</th>\n      <th>itemitem</th>\n      <th>cosine</th>\n      <th>tfidf</th>\n    </tr>\n  </thead>\n  <tbody>\n    <tr>\n      <th>0</th>\n      <td>1</td>\n      <td>[821867, 834484, 856942, 865456, 889248, 90795...</td>\n      <td>[12777787, 9676955, 96130, 938892, 1160461]</td>\n      <td>[6534178, 6533889, 1029743, 6534166, 1082185]</td>\n      <td>[860776, 1013677, 962568, 893651, 1106409]</td>\n      <td>[6666, 1082185, 981760, 1127831, 995242]</td>\n      <td>[1082185, 6666, 981760, 1127831, 1098066]</td>\n      <td>[1082185, 981760, 1127831, 6666, 1098066]</td>\n    </tr>\n    <tr>\n      <th>1</th>\n      <td>3</td>\n      <td>[835476, 851057, 872021, 878302, 879948, 90963...</td>\n      <td>[945324, 8154496, 15454651, 9446124, 7167719]</td>\n      <td>[6534178, 6533889, 1029743, 6534166, 1082185]</td>\n      <td>[12384323, 13653499, 962229, 1048507, 8119134]</td>\n      <td>[6666, 1082185, 981760, 1098066, 995242]</td>\n      <td>[1082185, 1098066, 981760, 6666, 826249]</td>\n      <td>[1082185, 981760, 1098066, 826249, 6666]</td>\n    </tr>\n    <tr>\n      <th>2</th>\n      <td>6</td>\n      <td>[920308, 926804, 946489, 1006718, 1017061, 107...</td>\n      <td>[6602306, 12171630, 1670419, 1086864, 649938]</td>\n      <td>[6534178, 6533889, 1029743, 6534166, 1082185]</td>\n      <td>[1102139, 969147, 991864, 892531, 1119946]</td>\n      <td>[6666, 1082185, 981760, 1127831, 995242]</td>\n      <td>[1082185, 6666, 981760, 1127831, 1098066]</td>\n      <td>[1082185, 981760, 1127831, 6666, 878996]</td>\n    </tr>\n    <tr>\n      <th>3</th>\n      <td>7</td>\n      <td>[840386, 889774, 898068, 909714, 929067, 95347...</td>\n      <td>[6039643, 13512099, 494842, 1644730, 15927327]</td>\n      <td>[6534178, 6533889, 1029743, 6534166, 1082185]</td>\n      <td>[5568228, 852856, 976065, 5569230, 916381]</td>\n      <td>[6666, 1082185, 981760, 1127831, 995242]</td>\n      <td>[1082185, 981760, 6666, 1127831, 961554]</td>\n      <td>[1082185, 981760, 1127831, 6666, 961554]</td>\n    </tr>\n    <tr>\n      <th>4</th>\n      <td>8</td>\n      <td>[835098, 872137, 910439, 924610, 992977, 10412...</td>\n      <td>[1087785, 15716368, 8069139, 973829, 10254149]</td>\n      <td>[6534178, 6533889, 1029743, 6534166, 1082185]</td>\n      <td>[968693, 1121384, 845208, 866548, 1029743]</td>\n      <td>[6666, 1082185, 981760, 1127831, 1098066]</td>\n      <td>[1082185, 981760, 6666, 1098066, 826249]</td>\n      <td>[1082185, 981760, 6666, 1098066, 826249]</td>\n    </tr>\n  </tbody>\n</table>\n</div>"
     },
     "metadata": {},
     "execution_count": 39
    }
   ],
   "source": [
    "result.head(5)"
   ]
  },
  {
   "cell_type": "markdown",
   "metadata": {},
   "source": [
    "### 4.4 Трюк"
   ]
  },
  {
   "cell_type": "code",
   "execution_count": 40,
   "metadata": {},
   "outputs": [
    {
     "output_type": "stream",
     "name": "stderr",
     "text": [
      "100%|██████████| 5001/5001 [00:00<00:00, 7670.17it/s]\n",
      "Wall time: 1.46 s\n"
     ]
    }
   ],
   "source": [
    "%%time\n",
    "\n",
    "model = ItemItemRecommender(K=1, num_threads=4) # K - кол-во билжайших соседей\n",
    "\n",
    "\n",
    "model.fit(csr_matrix(user_item_matrix).T, \n",
    "          show_progress=True)\n",
    "\n",
    "recs = model.recommend(userid=userid_to_id[1], \n",
    "                        user_items=csr_matrix(user_item_matrix),   # на вход user-item matrix\n",
    "                        N=5, \n",
    "                        filter_already_liked_items=False, \n",
    "                        filter_items=None, \n",
    "                        recalculate_user=False)"
   ]
  },
  {
   "cell_type": "code",
   "execution_count": 41,
   "metadata": {},
   "outputs": [
    {
     "output_type": "stream",
     "name": "stdout",
     "text": [
      "Item ID 6666 --> Row ID 0\nItem ID 1082185 --> Row ID 3408\nItem ID 995242 --> Row ID 2308\nItem ID 1029743 --> Row ID 2757\nItem ID 840361 --> Row ID 301\n"
     ]
    }
   ],
   "source": [
    "# print map item_id to row_id\n",
    "itemid_to_id\n",
    "print(*[f\"Item ID {id_to_itemid[rec[0]]} --> Row ID {rec[0]}\" for rec in recs],sep='\\n')"
   ]
  },
  {
   "cell_type": "code",
   "execution_count": 42,
   "metadata": {
    "scrolled": true
   },
   "outputs": [
    {
     "output_type": "stream",
     "name": "stdout",
     "text": [
      "Wall time: 95 ms\n"
     ]
    }
   ],
   "source": [
    "%%time\n",
    "\n",
    "result['own_purchases'] = result['user_id'].\\\n",
    "    apply(lambda x: [id_to_itemid[rec[0]] for rec in \n",
    "                    model.recommend(userid=userid_to_id[x], \n",
    "                                    user_items=sparse_user_item,   # на вход user-item matrix\n",
    "                                    N=5, \n",
    "                                    filter_already_liked_items=False, \n",
    "                                    filter_items=[itemid_to_id[6666]], \n",
    "                                    recalculate_user=False)])"
   ]
  },
  {
   "cell_type": "markdown",
   "metadata": {},
   "source": [
    "### 4.5 Измерим качество по precision@5"
   ]
  },
  {
   "cell_type": "code",
   "execution_count": 43,
   "metadata": {},
   "outputs": [
    {
     "output_type": "execute_result",
     "data": {
      "text/plain": [
       "   user_id                                             actual  \\\n",
       "0        1  [821867, 834484, 856942, 865456, 889248, 90795...   \n",
       "1        3  [835476, 851057, 872021, 878302, 879948, 90963...   \n",
       "2        6  [920308, 926804, 946489, 1006718, 1017061, 107...   \n",
       "3        7  [840386, 889774, 898068, 909714, 929067, 95347...   \n",
       "4        8  [835098, 872137, 910439, 924610, 992977, 10412...   \n",
       "\n",
       "                            random_recommendation  \\\n",
       "0     [12777787, 9676955, 96130, 938892, 1160461]   \n",
       "1   [945324, 8154496, 15454651, 9446124, 7167719]   \n",
       "2   [6602306, 12171630, 1670419, 1086864, 649938]   \n",
       "3  [6039643, 13512099, 494842, 1644730, 15927327]   \n",
       "4  [1087785, 15716368, 8069139, 973829, 10254149]   \n",
       "\n",
       "                          popular_recommendation  \\\n",
       "0  [6534178, 6533889, 1029743, 6534166, 1082185]   \n",
       "1  [6534178, 6533889, 1029743, 6534166, 1082185]   \n",
       "2  [6534178, 6533889, 1029743, 6534166, 1082185]   \n",
       "3  [6534178, 6533889, 1029743, 6534166, 1082185]   \n",
       "4  [6534178, 6533889, 1029743, 6534166, 1082185]   \n",
       "\n",
       "                   weighted_random_recommendation  \\\n",
       "0      [860776, 1013677, 962568, 893651, 1106409]   \n",
       "1  [12384323, 13653499, 962229, 1048507, 8119134]   \n",
       "2      [1102139, 969147, 991864, 892531, 1119946]   \n",
       "3      [5568228, 852856, 976065, 5569230, 916381]   \n",
       "4      [968693, 1121384, 845208, 866548, 1029743]   \n",
       "\n",
       "                                    itemitem  \\\n",
       "0   [6666, 1082185, 981760, 1127831, 995242]   \n",
       "1   [6666, 1082185, 981760, 1098066, 995242]   \n",
       "2   [6666, 1082185, 981760, 1127831, 995242]   \n",
       "3   [6666, 1082185, 981760, 1127831, 995242]   \n",
       "4  [6666, 1082185, 981760, 1127831, 1098066]   \n",
       "\n",
       "                                      cosine  \\\n",
       "0  [1082185, 6666, 981760, 1127831, 1098066]   \n",
       "1   [1082185, 1098066, 981760, 6666, 826249]   \n",
       "2  [1082185, 6666, 981760, 1127831, 1098066]   \n",
       "3   [1082185, 981760, 6666, 1127831, 961554]   \n",
       "4   [1082185, 981760, 6666, 1098066, 826249]   \n",
       "\n",
       "                                       tfidf  \\\n",
       "0  [1082185, 981760, 1127831, 6666, 1098066]   \n",
       "1   [1082185, 981760, 1098066, 826249, 6666]   \n",
       "2   [1082185, 981760, 1127831, 6666, 878996]   \n",
       "3   [1082185, 981760, 1127831, 6666, 961554]   \n",
       "4   [1082185, 981760, 6666, 1098066, 826249]   \n",
       "\n",
       "                                  own_purchases  \n",
       "0    [1082185, 995242, 1029743, 840361, 904360]  \n",
       "1  [1082185, 1098066, 6534178, 826249, 1127831]  \n",
       "2    [1082185, 981760, 995242, 1029743, 840361]  \n",
       "3   [1082185, 995242, 1029743, 826249, 1127831]  \n",
       "4    [1082185, 981760, 995242, 1029743, 840361]  "
      ],
      "text/html": "<div>\n<style scoped>\n    .dataframe tbody tr th:only-of-type {\n        vertical-align: middle;\n    }\n\n    .dataframe tbody tr th {\n        vertical-align: top;\n    }\n\n    .dataframe thead th {\n        text-align: right;\n    }\n</style>\n<table border=\"1\" class=\"dataframe\">\n  <thead>\n    <tr style=\"text-align: right;\">\n      <th></th>\n      <th>user_id</th>\n      <th>actual</th>\n      <th>random_recommendation</th>\n      <th>popular_recommendation</th>\n      <th>weighted_random_recommendation</th>\n      <th>itemitem</th>\n      <th>cosine</th>\n      <th>tfidf</th>\n      <th>own_purchases</th>\n    </tr>\n  </thead>\n  <tbody>\n    <tr>\n      <th>0</th>\n      <td>1</td>\n      <td>[821867, 834484, 856942, 865456, 889248, 90795...</td>\n      <td>[12777787, 9676955, 96130, 938892, 1160461]</td>\n      <td>[6534178, 6533889, 1029743, 6534166, 1082185]</td>\n      <td>[860776, 1013677, 962568, 893651, 1106409]</td>\n      <td>[6666, 1082185, 981760, 1127831, 995242]</td>\n      <td>[1082185, 6666, 981760, 1127831, 1098066]</td>\n      <td>[1082185, 981760, 1127831, 6666, 1098066]</td>\n      <td>[1082185, 995242, 1029743, 840361, 904360]</td>\n    </tr>\n    <tr>\n      <th>1</th>\n      <td>3</td>\n      <td>[835476, 851057, 872021, 878302, 879948, 90963...</td>\n      <td>[945324, 8154496, 15454651, 9446124, 7167719]</td>\n      <td>[6534178, 6533889, 1029743, 6534166, 1082185]</td>\n      <td>[12384323, 13653499, 962229, 1048507, 8119134]</td>\n      <td>[6666, 1082185, 981760, 1098066, 995242]</td>\n      <td>[1082185, 1098066, 981760, 6666, 826249]</td>\n      <td>[1082185, 981760, 1098066, 826249, 6666]</td>\n      <td>[1082185, 1098066, 6534178, 826249, 1127831]</td>\n    </tr>\n    <tr>\n      <th>2</th>\n      <td>6</td>\n      <td>[920308, 926804, 946489, 1006718, 1017061, 107...</td>\n      <td>[6602306, 12171630, 1670419, 1086864, 649938]</td>\n      <td>[6534178, 6533889, 1029743, 6534166, 1082185]</td>\n      <td>[1102139, 969147, 991864, 892531, 1119946]</td>\n      <td>[6666, 1082185, 981760, 1127831, 995242]</td>\n      <td>[1082185, 6666, 981760, 1127831, 1098066]</td>\n      <td>[1082185, 981760, 1127831, 6666, 878996]</td>\n      <td>[1082185, 981760, 995242, 1029743, 840361]</td>\n    </tr>\n    <tr>\n      <th>3</th>\n      <td>7</td>\n      <td>[840386, 889774, 898068, 909714, 929067, 95347...</td>\n      <td>[6039643, 13512099, 494842, 1644730, 15927327]</td>\n      <td>[6534178, 6533889, 1029743, 6534166, 1082185]</td>\n      <td>[5568228, 852856, 976065, 5569230, 916381]</td>\n      <td>[6666, 1082185, 981760, 1127831, 995242]</td>\n      <td>[1082185, 981760, 6666, 1127831, 961554]</td>\n      <td>[1082185, 981760, 1127831, 6666, 961554]</td>\n      <td>[1082185, 995242, 1029743, 826249, 1127831]</td>\n    </tr>\n    <tr>\n      <th>4</th>\n      <td>8</td>\n      <td>[835098, 872137, 910439, 924610, 992977, 10412...</td>\n      <td>[1087785, 15716368, 8069139, 973829, 10254149]</td>\n      <td>[6534178, 6533889, 1029743, 6534166, 1082185]</td>\n      <td>[968693, 1121384, 845208, 866548, 1029743]</td>\n      <td>[6666, 1082185, 981760, 1127831, 1098066]</td>\n      <td>[1082185, 981760, 6666, 1098066, 826249]</td>\n      <td>[1082185, 981760, 6666, 1098066, 826249]</td>\n      <td>[1082185, 981760, 995242, 1029743, 840361]</td>\n    </tr>\n  </tbody>\n</table>\n</div>"
     },
     "metadata": {},
     "execution_count": 43
    }
   ],
   "source": [
    "result.head(5)"
   ]
  },
  {
   "cell_type": "markdown",
   "metadata": {},
   "source": [
    "# Metrics"
   ]
  },
  {
   "cell_type": "code",
   "execution_count": 44,
   "metadata": {},
   "outputs": [
    {
     "output_type": "stream",
     "name": "stderr",
     "text": [
      "c:\\Users\\konst\\Repo\\education\\gb_recommender_systems\\metrics.py:20: RuntimeWarning: invalid value encountered in long_scalars\n  return flags.sum() / len(recommended_list)\n"
     ]
    },
    {
     "output_type": "execute_result",
     "data": {
      "text/plain": [
       "                                precision_at_k  recall_at_k\n",
       "actual                                  1.0000       0.2710\n",
       "own_purchases                           0.2199       0.0289\n",
       "popular_recommendation                  0.1552       0.0250\n",
       "tfidf                                   0.1390       0.0154\n",
       "itemitem                                0.1368       0.0157\n",
       "cosine                                  0.1329       0.0148\n",
       "weighted_random_recommendation          0.0227       0.0035\n",
       "random_recommendation                   0.0003       0.0000"
      ],
      "text/html": "<div>\n<style scoped>\n    .dataframe tbody tr th:only-of-type {\n        vertical-align: middle;\n    }\n\n    .dataframe tbody tr th {\n        vertical-align: top;\n    }\n\n    .dataframe thead th {\n        text-align: right;\n    }\n</style>\n<table border=\"1\" class=\"dataframe\">\n  <thead>\n    <tr style=\"text-align: right;\">\n      <th></th>\n      <th>precision_at_k</th>\n      <th>recall_at_k</th>\n    </tr>\n  </thead>\n  <tbody>\n    <tr>\n      <th>actual</th>\n      <td>1.0000</td>\n      <td>0.2710</td>\n    </tr>\n    <tr>\n      <th>own_purchases</th>\n      <td>0.2199</td>\n      <td>0.0289</td>\n    </tr>\n    <tr>\n      <th>popular_recommendation</th>\n      <td>0.1552</td>\n      <td>0.0250</td>\n    </tr>\n    <tr>\n      <th>tfidf</th>\n      <td>0.1390</td>\n      <td>0.0154</td>\n    </tr>\n    <tr>\n      <th>itemitem</th>\n      <td>0.1368</td>\n      <td>0.0157</td>\n    </tr>\n    <tr>\n      <th>cosine</th>\n      <td>0.1329</td>\n      <td>0.0148</td>\n    </tr>\n    <tr>\n      <th>weighted_random_recommendation</th>\n      <td>0.0227</td>\n      <td>0.0035</td>\n    </tr>\n    <tr>\n      <th>random_recommendation</th>\n      <td>0.0003</td>\n      <td>0.0000</td>\n    </tr>\n  </tbody>\n</table>\n</div>"
     },
     "metadata": {},
     "execution_count": 44
    }
   ],
   "source": [
    "import os, sys\n",
    "    \n",
    "from metrics import precision_at_k, recall_at_k\n",
    "\n",
    "results = dict()\n",
    "for name_col in result.columns[1:]:\n",
    "    results[name_col] = {\n",
    "        'precision_at_k': round(result.apply(lambda row: precision_at_k(row[name_col], row['actual']), axis=1).mean(),4),\n",
    "        'recall_at_k': round(result.apply(lambda row: recall_at_k(row[name_col], row['actual']), axis=1).mean(),4),\n",
    "    }\n",
    "\n",
    "pd.DataFrame.from_dict(results, orient='index').sort_values(by='precision_at_k', ascending=False)"
   ]
  }
 ],
 "metadata": {
  "kernelspec": {
   "name": "python37764bit3fbe5ae206bf467f9f636d844c57ff6e",
   "display_name": "Python 3.7.7 64-bit"
  },
  "language_info": {
   "codemirror_mode": {
    "name": "ipython",
    "version": 3
   },
   "file_extension": ".py",
   "mimetype": "text/x-python",
   "name": "python",
   "nbconvert_exporter": "python",
   "pygments_lexer": "ipython3",
   "version": "3.7.7"
  },
  "metadata": {
   "interpreter": {
    "hash": "ca35beca1e73f0e8e48de5d26c91c8a581bc78491f6978c6ebd776970508bb03"
   }
  }
 },
 "nbformat": 4,
 "nbformat_minor": 2
}